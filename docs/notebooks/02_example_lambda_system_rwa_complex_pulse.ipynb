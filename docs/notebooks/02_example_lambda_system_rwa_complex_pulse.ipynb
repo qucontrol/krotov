{
 "cells": [
  {
   "cell_type": "markdown",
   "metadata": {},
   "source": [
    "# Optimization of a State-to-State Transfer in a Lambda System in the RWA"
   ]
  },
  {
   "cell_type": "code",
   "execution_count": 1,
   "metadata": {},
   "outputs": [
    {
     "name": "stdout",
     "output_type": "stream",
     "text": [
      "qutip            4.4.1\n",
      "krotov           0.4.1\n",
      "matplotlib.pylab 1.17.2\n",
      "scipy            1.3.1\n",
      "matplotlib       3.1.1\n",
      "numpy            1.17.2\n",
      "CPython 3.7.3\n",
      "IPython 7.8.0\n"
     ]
    }
   ],
   "source": [
    "# NBVAL_IGNORE_OUTPUT\n",
    "%load_ext watermark\n",
    "import os\n",
    "import numpy as np\n",
    "import scipy\n",
    "import matplotlib\n",
    "import matplotlib.pylab as plt\n",
    "import krotov\n",
    "import qutip\n",
    "from qutip import Qobj\n",
    "%watermark -v --iversions"
   ]
  },
  {
   "cell_type": "markdown",
   "metadata": {},
   "source": [
    "$\\newcommand{tr}[0]{\\operatorname{tr}}\n",
    "\\newcommand{diag}[0]{\\operatorname{diag}}\n",
    "\\newcommand{abs}[0]{\\operatorname{abs}}\n",
    "\\newcommand{pop}[0]{\\operatorname{pop}}\n",
    "\\newcommand{aux}[0]{\\text{aux}}\n",
    "\\newcommand{opt}[0]{\\text{opt}}\n",
    "\\newcommand{tgt}[0]{\\text{tgt}}\n",
    "\\newcommand{init}[0]{\\text{init}}\n",
    "\\newcommand{lab}[0]{\\text{lab}}\n",
    "\\newcommand{rwa}[0]{\\text{rwa}}\n",
    "\\newcommand{bra}[1]{\\langle#1\\vert}\n",
    "\\newcommand{ket}[1]{\\vert#1\\rangle}\n",
    "\\newcommand{Bra}[1]{\\left\\langle#1\\right\\vert}\n",
    "\\newcommand{Ket}[1]{\\left\\vert#1\\right\\rangle}\n",
    "\\newcommand{Braket}[2]{\\left\\langle #1\\vphantom{#2}\\mid{#2}\\vphantom{#1}\\right\\rangle}\n",
    "\\newcommand{ketbra}[2]{\\vert#1\\rangle\\!\\langle#2\\vert}\n",
    "\\newcommand{op}[1]{\\hat{#1}}\n",
    "\\newcommand{Op}[1]{\\hat{#1}}\n",
    "\\newcommand{dd}[0]{\\,\\text{d}}\n",
    "\\newcommand{Liouville}[0]{\\mathcal{L}}\n",
    "\\newcommand{DynMap}[0]{\\mathcal{E}}\n",
    "\\newcommand{identity}[0]{\\mathbf{1}}\n",
    "\\newcommand{Norm}[1]{\\lVert#1\\rVert}\n",
    "\\newcommand{Abs}[1]{\\left\\vert#1\\right\\vert}\n",
    "\\newcommand{avg}[1]{\\langle#1\\rangle}\n",
    "\\newcommand{Avg}[1]{\\left\\langle#1\\right\\rangle}\n",
    "\\newcommand{AbsSq}[1]{\\left\\vert#1\\right\\vert^2}\n",
    "\\newcommand{Re}[0]{\\operatorname{Re}}\n",
    "\\newcommand{Im}[0]{\\operatorname{Im}}$\n",
    "\n",
    "This example is illustrates the use of complex-valued control fields. This is\n",
    "accomplished by rewriting the Hamiltonian as the sum of two independent\n",
    "controls (real and imaginary parts). We consider a 3-level system in a\n",
    "$\\Lambda$ configuration, and seek control pulses that implement a\n",
    "(phase-sensitive) state-to-state transition $\\ket{1} \\rightarrow \\ket{3}$."
   ]
  },
  {
   "cell_type": "markdown",
   "metadata": {},
   "source": [
    "## The rotating wave Hamiltonian"
   ]
  },
  {
   "cell_type": "markdown",
   "metadata": {},
   "source": [
    "The system consists of three levels $\\ket{1}$, $\\ket{2}$ and $\\ket{3}$ with\n",
    "energy levels $E_{1}, E_{2}$ and $E_{3}$ which interact with a pair of laser\n",
    "pulses $\\epsilon_{P}(t)$ (\"pump laser\") and $\\epsilon_{S}(t)$ (\"Stokes laser\"),\n",
    "respectively, see Chapter 15.4.2 in [\"Introduction to Quantum Mechanics: A\n",
    "Time-Dependent Perspective\" by David Tannor][Tannor] for details.\n",
    "\n",
    "[Tannor]: http://www.weizmann.ac.il/chemphys/tannor/Book/\n",
    "\n",
    "In the lab frame, the Hamiltonian reads\n",
    "\n",
    "$$\n",
    "\\Op{H}_{\\text{lab}} = \\begin{pmatrix}\n",
    "    E_1                     & -\\mu_{12} \\epsilon_P(t) & 0                          \\\\\n",
    "    -\\mu_{12} \\epsilon_P(t) & E_2                     & - \\mu_{23} \\epsilon_S(t) \\\\\n",
    "    0                       & -\\mu_{23} \\epsilon_S(t) &  E_2\n",
    "\\end{pmatrix}\\,.\n",
    "$$\n",
    "\n",
    "with the dipole values $\\mu_{12}$, $\\mu_{23}$ describing the coupling to the\n",
    "(real-valued) control fields $\\epsilon_P(t)$, $\\epsilon_S(t)$. The \"rotating\n",
    "frame\" is defined as\n",
    "\n",
    "$$\\ket{\\Psi_{\\text{rot}}} = \\Op{U}_0^\\dagger \\ket{\\Psi_{\\text{lab}}}$$\n",
    "\n",
    "with the transformation\n",
    "\n",
    "$$\\op{U}_{0} = \\ketbra{1}{1}\n",
    "e^{-i\\left(E_{2} - \\omega_{P} \\right)t} + \\ketbra{2}{2} e^{-iE_{2}t} +\n",
    "\\ketbra{3}{3} e^{-i\\left(E_{2}-\\omega_{S}\\right)t}\\,,$$\n",
    "\n",
    "where $\\omega_{P}$ and $\\omega_{S}$ are the two central frequencies defining\n",
    "the rotating frame.\n",
    "\n",
    "The condition of having to fulfill the Schrödinger equation in the rotating\n",
    "frame implies a rotating frame Hamiltonian defined as\n",
    "\n",
    "$$\\op{H}_{\\text{rot}}  = \\op{U}_{0}^{\\dagger} \\op{H}_{\\text{lab}} \\op{U}_{0}  - i \\op{U}_{0}^{\\dagger} \\dot{\\op{U}}_{0}\\,.$$\n",
    "\n",
    "Note that most textbooks use $\\Op{U}$ instead of $\\Op{U}^\\dagger$, and thus the\n",
    "adjoint of the above equation to define the rotating frame transformation, but\n",
    "we follow the example of Tannor's book here.\n",
    "\n",
    "The rotating frame Hamiltonian reads\n",
    "$$\n",
    "\\Op{H}_\\text{rot} = \\begin{pmatrix}\n",
    "    E_1 + \\omega_P - E_2                      & -\\mu_{12} \\epsilon_P(t) e^{-i \\omega_P t} & 0                          \\\\\n",
    "    -\\mu_{12} \\epsilon_P(t) e^{+i \\omega_P t} &  0                                        & - \\mu_{23} \\epsilon_S(t) e^{-i \\omega_S t}\\\\\n",
    "    0                                         & -\\mu_{23} \\epsilon_S(t) e^{+i \\omega_S t} &  E3 + \\omega_S -E_2\n",
    "\\end{pmatrix}\\,.\n",
    "$$\n",
    "\n",
    "We can now write the fields as\n",
    "\n",
    "$$\n",
    "\\begin{split}\n",
    "\\mu_{12} \\epsilon_{P}(t)\n",
    "    &= \\Omega_{P}^{(1)}(t) \\cos{(\\omega_P t)} - \\Omega_{P}^{(2)}(t) \\sin{(\\omega_P t)} \\\\\n",
    "    &= \\Omega_{P}^{(1)}(t) \\left( e^{i \\omega_P t} + e^{-i \\omega_P t}\\right)\n",
    "        + i \\Omega_{P}^{(2)}(t) \\left( e^{i \\omega_P t} - e^{-i \\omega_P t} \\right) \\,,\n",
    "\\end{split}\n",
    "$$\n",
    "\n",
    "and similarly for $\\epsilon_{S}(t)$, where we have split each field into two\n",
    "arbitrary (real-valued) auxiliary fields $\\Omega_{P}^{(1)}(t),\n",
    "\\Omega_{P}^{(2)}(t)$, and $\\Omega_{S}^{(1)}(t), \\Omega_{S}^{(2)}(t)$. This\n",
    "rewriting is suggestive of controls being spectrally centered around $\\omega_P$\n",
    "and $\\omega_S$, respectively, in which case any oscillations in\n",
    "$\\Omega_{P,S}^{(1,2)}(t)$ are on a much slower time scale than $\\omega_{P, S}$.\n",
    "Mathematically, however, *any* control fields can written in the above form.\n",
    "Thus, we have not placed any restriction on the controls at this time.\n",
    "\n",
    "Plugging this into $\\Op{H}_\\text{rot}$ and invoking the rotating wave\n",
    "approximation that neglects all fast oscillating terms $\\propto e^{\\pm i 2\n",
    "\\omega_{P,S} t}$, we find\n",
    "\n",
    "$$\n",
    "\\Op{H}_\\text{RWA} = \\begin{pmatrix}\n",
    "    \\Delta_P                    & -\\frac{1}{2} \\Omega_P(t)   & 0                          \\\\\n",
    "    -\\frac{1}{2} \\Omega_P^*(t)  &  0                         &  -\\frac{1}{2} \\Omega_S(t)  \\\\\n",
    "    0                           & -\\frac{1}{2} \\Omega_S^*(t) & \\Delta_S\n",
    "\\end{pmatrix}\\,,\n",
    "$$\n",
    "\n",
    "with the detunings $\\Delta_P \\equiv E_1 + \\omega_P - E_2$, $\\Delta_S  \\equiv E3\n",
    "+ \\omega_S -E_2$ and the complex-valued control fields $\\Omega_P(t) \\equiv\n",
    "\\Omega_{P}^{(1)}(t) + i \\Omega_{P}^{(2)}(t)$ and $\\Omega_S(t) \\equiv\n",
    "\\Omega_{S}^{(1)}(t) + i \\Omega_{S}^{(2)}(t)$, illustrated in the following\n",
    "diagram:\n",
    "\n",
    "![Lambda system considered in this notebook](energylevels.png)\n",
    "\n",
    "Most textbooks (including Tannor's) only allow control fields of the form\n",
    "$\\epsilon_{P,S}(t) \\propto \\Omega_{P,S}(t) \\cos{(\\omega_{P,S} t)}$ with the\n",
    "pulse envelopes $\\Omega_{P,S}(t) \\in \\mathbb{R}^+$. This will result in the\n",
    "same $\\Op{H}_\\text{RWA}$ as above, but with the positive real-valued envelopes\n",
    "instead of the complex-valued $\\Omega_{P,S}(t)$. However, this restriction is\n",
    "unnecessary: complex-valued control fields in the RWA are more general and\n",
    "entirely physical, with the relation to the real-valued field in the lab\n",
    "frame as defined above. The spectra of the optimized pulses are free to deviate\n",
    "from the frequencies of the rotating frame, limited only by the numerical\n",
    "resolution of the time grid and the RWA.\n",
    "\n",
    "The `krotov` package requires that all control pulses are real-valued.\n",
    "Therefore, the real and imaginary parts of $\\Omega_{P}$ and $\\Omega_{S}$ are\n",
    "treated as independent Hamiltonians, and we write\n",
    "\n",
    "$$\n",
    "\\Op{H}_\\text{RWA}\n",
    "    = \\Op{H_0}\n",
    "    + \\Omega_{P}^{(1)}(t) \\Op{H}_{P,\\text{re}}\n",
    "    + \\Omega_{P}^{(2)}(t) \\Op{H}_{P,\\text{im}}\n",
    "    + \\Omega_{S}^{(1)}(t) \\Op{H}_{S,\\text{re}}\n",
    "    + \\Omega_{S}^{(2)}(t) \\Op{H}_{S,\\text{im}}\n",
    "$$\n",
    "\n",
    "for the purpose of the optimization, with\n",
    "\n",
    "$$\n",
    "\\begin{align}\n",
    "\\Op{H_0} &= \\Delta_P \\ketbra{1}{1} + \\Delta_S \\ketbra{3}{3}\\,, \\\\\n",
    "\\Op{H}_{P,\\text{re}} &= -\\frac{1}{2} \\left(\\ketbra{1}{2} + \\ketbra{2}{1}\\right)\\,, \\\\\n",
    "\\Op{H}_{P,\\text{im}} &= -\\frac{i}{2} \\left(\\ketbra{1}{2} - \\ketbra{2}{1}\\right)\\,, \\\\\n",
    "\\Op{H}_{S,\\text{re}} &= -\\frac{1}{2} \\left(\\ketbra{2}{3} + \\ketbra{3}{2}\\right)\\,, \\\\\n",
    "\\Op{H}_{S,\\text{im}} &= -\\frac{i}{2} \\left(\\ketbra{2}{3} - \\ketbra{3}{2}\\right)\\,.\n",
    "\\end{align}\n",
    "$$"
   ]
  },
  {
   "cell_type": "markdown",
   "metadata": {},
   "source": [
    "## Guess controls"
   ]
  },
  {
   "cell_type": "markdown",
   "metadata": {},
   "source": [
    "We choose the initial guess for the four control fields based on the intuition\n",
    "of the \"stimulated Raman adiabatic passage\" (STIRAP) scheme. STIRAP allows to\n",
    "transfer the population in $\\ket{1}$ $\\ket{3}$ without having to pass through\n",
    "$\\ket{2}$; it requires the Stokes-pulse to precede but overlap the pump-pulse.\n",
    "\n",
    "Here, we leave it up to Krotov's method to find appropriate pulses for a\n",
    "STIRAP-like transfer (without requiring that the $\\ket{2}$ level remains\n",
    "unpopulated).  We start from a low intensity real-valued $\\Omega_S(t)$ pulse\n",
    "with a Blackman shape, followed by an overlapping real-valued $\\Omega_P(t)$ of\n",
    "the same shape. The entire scheme is in the time interval [0, 5]."
   ]
  },
  {
   "cell_type": "code",
   "execution_count": 2,
   "metadata": {
    "ExecuteTime": {
     "end_time": "2019-02-12T04:40:55.829336Z",
     "start_time": "2019-02-12T04:40:55.819110Z"
    },
    "attributes": {
     "classes": [],
     "id": "",
     "n": "6"
    }
   },
   "outputs": [],
   "source": [
    "def Omega_P1(t, args):\n",
    "    \"\"\"Guess for the real part of the pump pulse\"\"\"\n",
    "    Ω0 = 5.0\n",
    "    return Ω0 * krotov.shapes.blackman(t, t_start=2.0, t_stop=5.0)\n",
    "\n",
    "\n",
    "def Omega_P2(t, args):\n",
    "    \"\"\"Guess for the imaginary part of the pump pulse\"\"\"\n",
    "    return 0.0\n",
    "\n",
    "\n",
    "def Omega_S1(t, args):\n",
    "    \"\"\"Guess for the real part of the Stokes pulse\"\"\"\n",
    "    Ω0 = 5.0\n",
    "    return Ω0 * krotov.shapes.blackman(t, t_start=0.0, t_stop=3.0)\n",
    "\n",
    "\n",
    "def Omega_S2(t, args):\n",
    "    \"\"\"Guess for the imaginary part of the Stokes pulse\"\"\"\n",
    "    return 0.0"
   ]
  },
  {
   "cell_type": "markdown",
   "metadata": {},
   "source": [
    "We can now instantiate the Hamiltonian including these guess controls:"
   ]
  },
  {
   "cell_type": "code",
   "execution_count": 3,
   "metadata": {},
   "outputs": [],
   "source": [
    "def hamiltonian(E1=0.0, E2=10.0, E3=5.0, omega_P=9.5, omega_S=4.5):\n",
    "    \"\"\"Lambda-system Hamiltonian in the RWA\"\"\"\n",
    "\n",
    "    # detunings\n",
    "    ΔP = E1 + omega_P - E2\n",
    "    ΔS = E3 + omega_S - E2\n",
    "\n",
    "    H0 = qutip.Qobj([[ΔP, 0.0, 0.0], [0.0, 0.0, 0.0], [0.0, 0.0, ΔS]])\n",
    "\n",
    "    HP_re = -0.5 * qutip.Qobj([[0.0, 1.0, 0.0], [1.0, 0.0, 0.0], [0.0, 0.0, 0.0]])\n",
    "    HP_im = -0.5 * qutip.Qobj([[0.0, 1.0j, 0.0], [-1.0j, 0.0, 0.0], [0.0, 0.0, 0.0]])\n",
    "\n",
    "    HS_re = -0.5 * qutip.Qobj([[0.0, 0.0, 0.0], [0.0, 0.0, 1.0], [0.0, 1.0, 0.0]])\n",
    "    HS_im = -0.5 * qutip.Qobj([[0.0, 0.0, 0.0], [0.0, 0.0, 1.0j], [0.0, -1.0j, 0.0]])\n",
    "\n",
    "    return [\n",
    "        H0,\n",
    "        [HP_re, Omega_P1],\n",
    "        [HP_im, Omega_P2],\n",
    "        [HS_re, Omega_S1],\n",
    "        [HS_im, Omega_S2],\n",
    "    ]\n"
   ]
  },
  {
   "cell_type": "code",
   "execution_count": 4,
   "metadata": {},
   "outputs": [],
   "source": [
    "H = hamiltonian()"
   ]
  },
  {
   "cell_type": "markdown",
   "metadata": {},
   "source": [
    "## Target state in the rotating frame"
   ]
  },
  {
   "cell_type": "markdown",
   "metadata": {},
   "source": [
    "The basis states of the $\\Lambda$-system are defined as"
   ]
  },
  {
   "cell_type": "code",
   "execution_count": 5,
   "metadata": {},
   "outputs": [],
   "source": [
    "ket1 = qutip.Qobj(np.array([1.0, 0.0, 0.0]))\n",
    "ket2 = qutip.Qobj(np.array([0.0, 1.0, 0.0]))\n",
    "ket3 = qutip.Qobj(np.array([0.0, 0.0, 1.0]))"
   ]
  },
  {
   "cell_type": "markdown",
   "metadata": {},
   "source": [
    "We would like to implement a phase-sensitive transition $\\ket{1} \\rightarrow\n",
    "\\ket{3}$ *in the lab frame*. Since we are defining the dynamics in the RWA,\n",
    "this means we have to adjust the target state to be in the rotating frame as\n",
    "well (the initial state at $t=0$ is not affected by the RWA).\n",
    "\n",
    "As defined earlier, the states in the rotating frame are obtained from the\n",
    "states in the lab frame by the transformation $\\ket{\\Psi_{\\text{rot}}} =\n",
    "\\Op{U}_0^\\dagger \\ket{\\Psi_{\\text{lab}}}$. In our case, this means that we get\n",
    "$\\ket{3}$ with and additional phase factor:"
   ]
  },
  {
   "cell_type": "code",
   "execution_count": 6,
   "metadata": {},
   "outputs": [],
   "source": [
    "def rwa_target_state(ket3, E2=10.0, omega_S=4.5, T=5):\n",
    "    return np.exp(1j * (E2 - omega_S) * T) * ket3"
   ]
  },
  {
   "cell_type": "code",
   "execution_count": 7,
   "metadata": {},
   "outputs": [],
   "source": [
    "psi_target = rwa_target_state(ket3)"
   ]
  },
  {
   "cell_type": "markdown",
   "metadata": {},
   "source": [
    "We can now instantiate the control objective:"
   ]
  },
  {
   "cell_type": "code",
   "execution_count": 8,
   "metadata": {
    "ExecuteTime": {
     "end_time": "2019-02-12T04:40:55.816607Z",
     "start_time": "2019-02-12T04:40:55.813293Z"
    },
    "attributes": {
     "classes": [],
     "id": "",
     "n": "5"
    }
   },
   "outputs": [
    {
     "data": {
      "text/plain": [
       "Objective[|Ψ₀(3)⟩ to |Ψ₁(3)⟩ via [H₀[3,3], [H₁[3,3], u₁(t)], [H₂[3,3], u₂(t)], [H₃[3,3], u₃(t)], [H₄[3,3], u₄(t)]]]"
      ]
     },
     "execution_count": 8,
     "metadata": {},
     "output_type": "execute_result"
    }
   ],
   "source": [
    "objective = krotov.Objective(initial_state=ket1, target=psi_target, H=H)\n",
    "objective"
   ]
  },
  {
   "cell_type": "markdown",
   "metadata": {},
   "source": [
    "## Simulate dynamics under the guess field"
   ]
  },
  {
   "cell_type": "markdown",
   "metadata": {},
   "source": [
    "We use a time grid with 500 steps between $t=0$ and $T=5$:"
   ]
  },
  {
   "cell_type": "code",
   "execution_count": 9,
   "metadata": {
    "ExecuteTime": {
     "end_time": "2019-02-12T04:40:55.809020Z",
     "start_time": "2019-02-12T04:40:55.802160Z"
    },
    "attributes": {
     "classes": [],
     "id": "",
     "n": "4"
    }
   },
   "outputs": [],
   "source": [
    "tlist = np.linspace(0, 5, 500)"
   ]
  },
  {
   "cell_type": "markdown",
   "metadata": {},
   "source": [
    "Before propagating, we visually verify the guess pulses we defined earlier:"
   ]
  },
  {
   "cell_type": "code",
   "execution_count": 10,
   "metadata": {
    "ExecuteTime": {
     "end_time": "2019-02-12T04:40:55.858312Z",
     "start_time": "2019-02-12T04:40:55.853316Z"
    },
    "attributes": {
     "classes": [],
     "id": "",
     "n": "10"
    }
   },
   "outputs": [],
   "source": [
    "def plot_pulse(pulse, tlist, label):\n",
    "    fig, ax = plt.subplots()\n",
    "    if callable(pulse):\n",
    "        pulse = np.array([pulse(t, args=None) for t in tlist])\n",
    "    ax.plot(tlist, pulse)\n",
    "    ax.set_xlabel('time')\n",
    "    ax.set_ylabel('%s pulse amplitude' % label)\n",
    "    plt.show(fig)"
   ]
  },
  {
   "cell_type": "code",
   "execution_count": 11,
   "metadata": {
    "ExecuteTime": {
     "end_time": "2019-02-12T04:40:56.293915Z",
     "start_time": "2019-02-12T04:40:55.860421Z"
    },
    "attributes": {
     "classes": [],
     "id": "",
     "n": "11"
    }
   },
   "outputs": [
    {
     "data": {
      "image/png": "[encoded data removed]",
      "text/plain": [
       "<Figure size 432x288 with 1 Axes>"
      ]
     },
     "metadata": {
      "needs_background": "light"
     },
     "output_type": "display_data"
    },
    {
     "data": {
      "image/png": "[encoded data removed]",
      "text/plain": [
       "<Figure size 432x288 with 1 Axes>"
      ]
     },
     "metadata": {
      "needs_background": "light"
     },
     "output_type": "display_data"
    }
   ],
   "source": [
    "plot_pulse(H[1][1], tlist, 'Ωₚ')\n",
    "plot_pulse(H[3][1], tlist, 'Ωₛ')"
   ]
  },
  {
   "cell_type": "markdown",
   "metadata": {},
   "source": [
    "The imaginary parts are zero:"
   ]
  },
  {
   "cell_type": "code",
   "execution_count": 12,
   "metadata": {
    "ExecuteTime": {
     "end_time": "2019-02-12T04:40:56.300681Z",
     "start_time": "2019-02-12T04:40:56.295922Z"
    },
    "attributes": {
     "classes": [],
     "id": "",
     "n": "12"
    }
   },
   "outputs": [],
   "source": [
    "assert np.all([H[2][1](t, None) == 0 for t in tlist])\n",
    "assert np.all([H[4][1](t, None) == 0 for t in tlist])"
   ]
  },
  {
   "cell_type": "markdown",
   "metadata": {},
   "source": [
    "We introduce projectors $\\op{P}_{i} =\n",
    "\\ketbra{i}{i}$ for each of the three energy levels, allowing use to plot the population dynamics:"
   ]
  },
  {
   "cell_type": "code",
   "execution_count": 13,
   "metadata": {
    "ExecuteTime": {
     "end_time": "2019-02-12T04:40:55.798666Z",
     "start_time": "2019-02-12T04:40:55.787265Z"
    },
    "attributes": {
     "classes": [],
     "id": "",
     "n": "3"
    }
   },
   "outputs": [],
   "source": [
    "proj1 = qutip.ket2dm(ket1)\n",
    "proj2 = qutip.ket2dm(ket2)\n",
    "proj3 = qutip.ket2dm(ket3)"
   ]
  },
  {
   "cell_type": "code",
   "execution_count": 14,
   "metadata": {
    "ExecuteTime": {
     "end_time": "2019-02-12T04:40:57.224259Z",
     "start_time": "2019-02-12T04:40:56.304263Z"
    },
    "attributes": {
     "classes": [],
     "id": "",
     "n": "13"
    }
   },
   "outputs": [],
   "source": [
    "guess_dynamics = objective.mesolve(tlist, e_ops=[proj1,proj2,proj3])"
   ]
  },
  {
   "cell_type": "code",
   "execution_count": 15,
   "metadata": {
    "ExecuteTime": {
     "end_time": "2019-02-12T04:40:57.232092Z",
     "start_time": "2019-02-12T04:40:57.226227Z"
    },
    "attributes": {
     "classes": [],
     "id": "",
     "n": "14"
    }
   },
   "outputs": [],
   "source": [
    "def plot_population(result):\n",
    "    fig, ax = plt.subplots()\n",
    "    ax.plot(result.times, result.expect[0], label='1')\n",
    "    ax.plot(result.times, result.expect[1], label='2')\n",
    "    ax.plot(result.times, result.expect[2], label='3')\n",
    "    ax.legend()\n",
    "    ax.set_xlabel('time')\n",
    "    ax.set_ylabel('population')\n",
    "    plt.show(fig)"
   ]
  },
  {
   "cell_type": "code",
   "execution_count": 16,
   "metadata": {
    "ExecuteTime": {
     "end_time": "2019-02-12T04:40:57.443794Z",
     "start_time": "2019-02-12T04:40:57.236490Z"
    },
    "attributes": {
     "classes": [],
     "id": "",
     "n": "15"
    }
   },
   "outputs": [
    {
     "data": {
      "image/png": "[encoded data removed]",
      "text/plain": [
       "<Figure size 432x288 with 1 Axes>"
      ]
     },
     "metadata": {
      "needs_background": "light"
     },
     "output_type": "display_data"
    }
   ],
   "source": [
    "plot_population(guess_dynamics)"
   ]
  },
  {
   "cell_type": "markdown",
   "metadata": {},
   "source": [
    "We find that our guess pulses are too disjoint to implement the STIRAP scheme.\n",
    "Thus, the Stokes pulse has no effect, whilst the pump pulse merely transfers\n",
    "population out of $\\ket{1}$ into $\\ket{2}$ and back again."
   ]
  },
  {
   "cell_type": "markdown",
   "metadata": {},
   "source": [
    "## Optimize"
   ]
  },
  {
   "cell_type": "markdown",
   "metadata": {},
   "source": [
    "In order to invoke `optimize_pulses`, we must define the required parameters\n",
    "for each control, a pulse shape (used to ensure that the controls remain 0 at\n",
    "$t=0$ and $t=T$), and the parameter $\\lambda_a$ that determines the overall\n",
    "magnitude of the pulse updates in each iteration."
   ]
  },
  {
   "cell_type": "code",
   "execution_count": 17,
   "metadata": {},
   "outputs": [],
   "source": [
    "def S(t):\n",
    "    \"\"\"Scales the Krotov methods update of the pulse value at the time t\"\"\"\n",
    "    return krotov.shapes.flattop(\n",
    "        t, t_start=0.0, t_stop=5.0, t_rise=0.3, func='sinsq'\n",
    "    )"
   ]
  },
  {
   "cell_type": "code",
   "execution_count": 18,
   "metadata": {},
   "outputs": [],
   "source": [
    "pulse_options = {\n",
    "    H[1][1]: dict(lambda_a=0.5, update_shape=S),\n",
    "    H[2][1]: dict(lambda_a=0.5, update_shape=S),\n",
    "    H[3][1]: dict(lambda_a=0.5, update_shape=S),\n",
    "    H[4][1]: dict(lambda_a=0.5, update_shape=S)\n",
    "}"
   ]
  },
  {
   "cell_type": "markdown",
   "metadata": {},
   "source": [
    "We now run the optimization, using the phase-sensitive functional $J_{T,\n",
    "\\text{re}} = 1 - \\Re\\Braket{\\Psi(t)}{\\Psi_{\\tgt}}$, printing the integrated\n",
    "pulse update for each control in each iteration. The optimization stops when\n",
    "$J_T$ falls below $10^{-3}$, changes by less than $10^{-5}$, or after at most\n",
    "15 iterations. We also check for monotonic convergence."
   ]
  },
  {
   "cell_type": "code",
   "execution_count": 19,
   "metadata": {
    "attributes": {
     "classes": [],
     "id": "",
     "n": "16"
    }
   },
   "outputs": [
    {
     "name": "stdout",
     "output_type": "stream",
     "text": [
      "  iter.        J_T   g_a_int_1   g_a_int_2   g_a_int_3   g_a_int_4     g_a_int          J  Delta_J_T    Delta J  secs\n",
      "      0   1.01e+00    0.00e+00    0.00e+00    0.00e+00    0.00e+00    0.00e+00   1.01e+00        n/a        n/a     1\n",
      "      1   6.72e-01    1.72e-01    5.72e-04    1.63e-01    7.44e-04    3.37e-01   1.01e+00  -3.37e-01  -2.83e-05     2\n",
      "      2   4.02e-01    1.44e-01    8.41e-04    1.24e-01    8.40e-04    2.70e-01   6.72e-01  -2.70e-01  -3.32e-05     2\n",
      "      3   2.22e-01    9.81e-02    9.26e-04    7.98e-02    7.75e-04    1.80e-01   4.02e-01  -1.80e-01  -3.55e-05     2\n",
      "      4   1.17e-01    5.78e-02    7.70e-04    4.58e-02    6.02e-04    1.05e-01   2.22e-01  -1.05e-01  -3.11e-05     2\n",
      "      5   6.00e-02    3.13e-02    5.35e-04    2.46e-02    4.20e-04    5.68e-02   1.17e-01  -5.69e-02  -2.30e-05     2\n",
      "      6   3.05e-02    1.62e-02    3.40e-04    1.27e-02    2.78e-04    2.95e-02   6.00e-02  -2.95e-02  -1.51e-05     2\n",
      "      7   1.54e-02    8.16e-03    2.11e-04    6.47e-03    1.82e-04    1.50e-02   3.05e-02  -1.50e-02  -9.25e-06     2\n",
      "      8   7.85e-03    4.08e-03    1.33e-04    3.25e-03    1.20e-04    7.59e-03   1.54e-02  -7.59e-03  -5.45e-06     2\n",
      "      9   4.03e-03    2.03e-03    8.59e-05    1.63e-03    8.01e-05    3.83e-03   7.85e-03  -3.83e-03  -3.15e-06     2\n",
      "     10   2.09e-03    1.01e-03    5.76e-05    8.13e-04    5.45e-05    1.94e-03   4.02e-03  -1.94e-03  -1.81e-06     2\n",
      "     11   1.10e-03    5.03e-04    3.97e-05    4.06e-04    3.76e-05    9.87e-04   2.09e-03  -9.88e-04  -1.04e-06     2\n",
      "     12   5.91e-04    2.51e-04    2.79e-05    2.03e-04    2.62e-05    5.09e-04   1.10e-03  -5.09e-04  -6.04e-07     2\n"
     ]
    }
   ],
   "source": [
    "opt_result = krotov.optimize_pulses(\n",
    "    [objective],\n",
    "    pulse_options,\n",
    "    tlist,\n",
    "    propagator=krotov.propagators.expm,\n",
    "    chi_constructor=krotov.functionals.chis_re,\n",
    "    info_hook=krotov.info_hooks.print_table(\n",
    "        J_T=krotov.functionals.J_T_re,\n",
    "        show_g_a_int_per_pulse=True,\n",
    "        unicode=False,\n",
    "    ),\n",
    "    check_convergence=krotov.convergence.Or(\n",
    "        krotov.convergence.value_below(1e-3, name='J_T'),\n",
    "        krotov.convergence.delta_below(1e-5),\n",
    "        krotov.convergence.check_monotonic_error,\n",
    "    ),\n",
    "    iter_stop=15,\n",
    ")"
   ]
  },
  {
   "cell_type": "code",
   "execution_count": 20,
   "metadata": {
    "attributes": {
     "classes": [],
     "id": "",
     "n": "17"
    }
   },
   "outputs": [
    {
     "data": {
      "text/plain": [
       "Krotov Optimization Result\n",
       "--------------------------\n",
       "- Started at 2019-10-11 12:19:20\n",
       "- Number of objectives: 1\n",
       "- Number of iterations: 12\n",
       "- Reason for termination: Reached convergence: J_T < 0.001\n",
       "- Ended at 2019-10-11 12:19:51"
      ]
     },
     "execution_count": 20,
     "metadata": {},
     "output_type": "execute_result"
    }
   ],
   "source": [
    "opt_result"
   ]
  },
  {
   "cell_type": "markdown",
   "metadata": {},
   "source": [
    "We dump the result of the optimization to disk for later use in the [Ensemble\n",
    "Optimization for Robust Pulses](08_example_ensemble.ipynb).\n"
   ]
  },
  {
   "cell_type": "code",
   "execution_count": 21,
   "metadata": {},
   "outputs": [],
   "source": [
    "if not os.path.isfile('lambda_rwa_opt_result.dump'):\n",
    "    opt_result.dump('lambda_rwa_opt_result.dump')"
   ]
  },
  {
   "cell_type": "markdown",
   "metadata": {},
   "source": [
    "The optimized complex pulses look as follows:"
   ]
  },
  {
   "cell_type": "code",
   "execution_count": 22,
   "metadata": {
    "attributes": {
     "classes": [],
     "id": "",
     "n": "18"
    }
   },
   "outputs": [
    {
     "name": "stdout",
     "output_type": "stream",
     "text": [
      "pump pulse amplitude and phase:\n"
     ]
    },
    {
     "data": {
      "image/png": "[encoded data removed]",
      "text/plain": [
       "<Figure size 432x288 with 2 Axes>"
      ]
     },
     "metadata": {
      "needs_background": "light"
     },
     "output_type": "display_data"
    },
    {
     "name": "stdout",
     "output_type": "stream",
     "text": [
      "Stokes pulse amplitude and phase:\n"
     ]
    },
    {
     "data": {
      "image/png": "[encoded data removed]",
      "text/plain": [
       "<Figure size 432x288 with 2 Axes>"
      ]
     },
     "metadata": {
      "needs_background": "light"
     },
     "output_type": "display_data"
    }
   ],
   "source": [
    "def plot_pulse_amplitude_and_phase(pulse_real, pulse_imaginary,tlist):\n",
    "    ax1 = plt.subplot(211)\n",
    "    ax2 = plt.subplot(212)\n",
    "    amplitudes = [np.sqrt(x*x + y*y) for x,y in zip(pulse_real,pulse_imaginary)]\n",
    "    phases = [np.arctan2(y,x)/np.pi for x,y in zip(pulse_real,pulse_imaginary)]\n",
    "    ax1.plot(tlist,amplitudes)\n",
    "    ax1.set_xlabel('time')\n",
    "    ax1.set_ylabel('pulse amplitude')\n",
    "    ax2.plot(tlist,phases)\n",
    "    ax2.set_xlabel('time')\n",
    "    ax2.set_ylabel('pulse phase (π)')\n",
    "    plt.show()\n",
    "\n",
    "print(\"pump pulse amplitude and phase:\")\n",
    "plot_pulse_amplitude_and_phase(\n",
    "    opt_result.optimized_controls[0], opt_result.optimized_controls[1], tlist)\n",
    "print(\"Stokes pulse amplitude and phase:\")\n",
    "plot_pulse_amplitude_and_phase(\n",
    "    opt_result.optimized_controls[2], opt_result.optimized_controls[3], tlist)"
   ]
  },
  {
   "cell_type": "markdown",
   "metadata": {},
   "source": [
    "We can convert the complex controls in the rotating frame back into the\n",
    "real-valued pulses in the lab frame:"
   ]
  },
  {
   "cell_type": "code",
   "execution_count": 23,
   "metadata": {},
   "outputs": [
    {
     "name": "stdout",
     "output_type": "stream",
     "text": [
      "Physical electric pump pulse in the lab frame:\n"
     ]
    },
    {
     "data": {
      "image/png": "[encoded data removed]",
      "text/plain": [
       "<Figure size 432x288 with 1 Axes>"
      ]
     },
     "metadata": {
      "needs_background": "light"
     },
     "output_type": "display_data"
    },
    {
     "name": "stdout",
     "output_type": "stream",
     "text": [
      "Physical electric Stokes pulse in the lab frame:\n"
     ]
    },
    {
     "data": {
      "image/png": "[encoded data removed]",
      "text/plain": [
       "<Figure size 432x288 with 1 Axes>"
      ]
     },
     "metadata": {
      "needs_background": "light"
     },
     "output_type": "display_data"
    }
   ],
   "source": [
    "def plot_physical_field(pulse_re, pulse_im, tlist, case=None):\n",
    "\n",
    "    if case == 'pump':\n",
    "        w = 9.5\n",
    "    elif case == 'stokes':\n",
    "        w = 4.5\n",
    "    else:\n",
    "        print('Error: selected case is not a valid option')\n",
    "        return\n",
    "\n",
    "    ax = plt.subplot(111)\n",
    "    ax.plot(tlist,pulse_re*np.cos(w*tlist)-pulse_im*np.sin(w*tlist), 'r')\n",
    "    ax.set_xlabel('time', fontsize = 16)\n",
    "    if case == 'pump':\n",
    "        ax.set_ylabel(r'$\\mu_{12}\\,\\epsilon_{P}$')\n",
    "    elif case == 'stokes':\n",
    "        ax.set_ylabel(r'$ \\mu_{23}\\,\\epsilon_{S}$')\n",
    "    plt.show()\n",
    "\n",
    "print('Physical electric pump pulse in the lab frame:')\n",
    "plot_physical_field(\n",
    "    opt_result.optimized_controls[0], opt_result.optimized_controls[1], tlist, case = 'pump')\n",
    "\n",
    "\n",
    "print('Physical electric Stokes pulse in the lab frame:')\n",
    "plot_physical_field(\n",
    "    opt_result.optimized_controls[2], opt_result.optimized_controls[3], tlist, case = 'stokes')"
   ]
  },
  {
   "cell_type": "markdown",
   "metadata": {},
   "source": [
    "Lastly, we check the population dynamics to verify that we indeed implement the\n",
    "desired state-to-state transfer:"
   ]
  },
  {
   "cell_type": "code",
   "execution_count": 24,
   "metadata": {
    "attributes": {
     "classes": [],
     "id": "",
     "n": "19"
    }
   },
   "outputs": [],
   "source": [
    "opt_dynamics = opt_result.optimized_objectives[0].mesolve(\n",
    "    tlist, e_ops=[proj1, proj2, proj3])"
   ]
  },
  {
   "cell_type": "code",
   "execution_count": 25,
   "metadata": {
    "ExecuteTime": {
     "end_time": "2019-02-12T04:41:23.853468Z",
     "start_time": "2019-02-12T04:41:23.633866Z"
    },
    "attributes": {
     "classes": [],
     "id": "",
     "n": "20"
    }
   },
   "outputs": [
    {
     "data": {
      "image/png": "[encoded data removed]",
      "text/plain": [
       "<Figure size 432x288 with 1 Axes>"
      ]
     },
     "metadata": {
      "needs_background": "light"
     },
     "output_type": "display_data"
    }
   ],
   "source": [
    "plot_population(opt_dynamics)"
   ]
  }
 ],
 "metadata": {
  "hide_input": false,
  "jupytext": {
   "formats": ""
  },
  "kernelspec": {
   "display_name": "Python 3",
   "language": "python",
   "name": "python3"
  },
  "language_info": {
   "codemirror_mode": {
    "name": "ipython",
    "version": 3
   },
   "file_extension": ".py",
   "mimetype": "text/x-python",
   "name": "python",
   "nbconvert_exporter": "python",
   "pygments_lexer": "ipython3",
   "version": "3.7.3"
  },
  "toc": {
   "base_numbering": 1,
   "nav_menu": {},
   "number_sections": true,
   "sideBar": true,
   "skip_h1_title": false,
   "title_cell": "Table of Contents",
   "title_sidebar": "Contents",
   "toc_cell": false,
   "toc_position": {},
   "toc_section_display": true,
   "toc_window_display": false
  },
  "varInspector": {
   "cols": {
    "lenName": 16,
    "lenType": 16,
    "lenVar": 40
   },
   "kernels_config": {
    "python": {
     "delete_cmd_postfix": "",
     "delete_cmd_prefix": "del ",
     "library": "var_list.py",
     "varRefreshCmd": "print(var_dic_list())"
    },
    "r": {
     "delete_cmd_postfix": ") ",
     "delete_cmd_prefix": "rm(",
     "library": "var_list.r",
     "varRefreshCmd": "cat(var_dic_list()) "
    }
   },
   "types_to_exclude": [
    "module",
    "function",
    "builtin_function_or_method",
    "instance",
    "_Feature"
   ],
   "window_display": false
  }
 },
 "nbformat": 4,
 "nbformat_minor": 2
}
