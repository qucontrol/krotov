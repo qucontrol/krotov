{
 "cells": [
  {
   "cell_type": "markdown",
   "metadata": {},
   "source": [
    "# Optimization of a State-to-State Transfer in a Two-Level-System"
   ]
  },
  {
   "cell_type": "code",
   "execution_count": 1,
   "metadata": {
    "ExecuteTime": {
     "end_time": "2021-06-05T03:30:31.973885Z",
     "start_time": "2021-06-05T03:30:30.498419Z"
    },
    "attributes": {
     "classes": [],
     "id": "",
     "n": "1"
    },
    "execution": {
     "iopub.execute_input": "2021-01-13T19:19:44.665929Z",
     "iopub.status.busy": "2021-01-13T19:19:44.664641Z",
     "iopub.status.idle": "2021-01-13T19:19:46.393975Z",
     "shell.execute_reply": "2021-01-13T19:19:46.394993Z"
    }
   },
   "outputs": [
    {
     "name": "stdout",
     "output_type": "stream",
     "text": [
      "Python implementation: CPython\n",
      "Python version       : 3.8.1\n",
      "IPython version      : 7.24.1\n",
      "\n",
      "qutip     : 4.6.1\n",
      "json      : 2.0.9\n",
      "krotov    : 1.2.1+dev\n",
      "matplotlib: 3.4.2\n",
      "numpy     : 1.20.3\n",
      "scipy     : 1.6.3\n",
      "\n"
     ]
    }
   ],
   "source": [
    "# NBVAL_IGNORE_OUTPUT\n",
    "%load_ext watermark\n",
    "import qutip\n",
    "import numpy as np\n",
    "import scipy\n",
    "import matplotlib\n",
    "import matplotlib.pylab as plt\n",
    "import krotov\n",
    "%watermark -v --iversions"
   ]
  },
  {
   "cell_type": "code",
   "execution_count": 2,
   "metadata": {
    "ExecuteTime": {
     "end_time": "2021-06-05T03:30:32.014876Z",
     "start_time": "2021-06-05T03:30:31.978525Z"
    }
   },
   "outputs": [],
   "source": [
    "%load_ext autoreload\n",
    "%autoreload 2"
   ]
  },
  {
   "cell_type": "markdown",
   "metadata": {},
   "source": [
    "$\\newcommand{tr}[0]{\\operatorname{tr}}\n",
    "\\newcommand{diag}[0]{\\operatorname{diag}}\n",
    "\\newcommand{abs}[0]{\\operatorname{abs}}\n",
    "\\newcommand{pop}[0]{\\operatorname{pop}}\n",
    "\\newcommand{aux}[0]{\\text{aux}}\n",
    "\\newcommand{opt}[0]{\\text{opt}}\n",
    "\\newcommand{tgt}[0]{\\text{tgt}}\n",
    "\\newcommand{init}[0]{\\text{init}}\n",
    "\\newcommand{lab}[0]{\\text{lab}}\n",
    "\\newcommand{rwa}[0]{\\text{rwa}}\n",
    "\\newcommand{bra}[1]{\\langle#1\\vert}\n",
    "\\newcommand{ket}[1]{\\vert#1\\rangle}\n",
    "\\newcommand{Bra}[1]{\\left\\langle#1\\right\\vert}\n",
    "\\newcommand{Ket}[1]{\\left\\vert#1\\right\\rangle}\n",
    "\\newcommand{Braket}[2]{\\left\\langle #1\\vphantom{#2}\\mid{#2}\\vphantom{#1}\\right\\rangle}\n",
    "\\newcommand{op}[1]{\\hat{#1}}\n",
    "\\newcommand{Op}[1]{\\hat{#1}}\n",
    "\\newcommand{dd}[0]{\\,\\text{d}}\n",
    "\\newcommand{Liouville}[0]{\\mathcal{L}}\n",
    "\\newcommand{DynMap}[0]{\\mathcal{E}}\n",
    "\\newcommand{identity}[0]{\\mathbf{1}}\n",
    "\\newcommand{Norm}[1]{\\lVert#1\\rVert}\n",
    "\\newcommand{Abs}[1]{\\left\\vert#1\\right\\vert}\n",
    "\\newcommand{avg}[1]{\\langle#1\\rangle}\n",
    "\\newcommand{Avg}[1]{\\left\\langle#1\\right\\rangle}\n",
    "\\newcommand{AbsSq}[1]{\\left\\vert#1\\right\\vert^2}\n",
    "\\newcommand{Re}[0]{\\operatorname{Re}}\n",
    "\\newcommand{Im}[0]{\\operatorname{Im}}$\n",
    "\n",
    "This first example illustrates the basic use of the `krotov` package by solving\n",
    "a simple canonical optimization problem: the transfer of population in a two\n",
    "level system."
   ]
  },
  {
   "cell_type": "markdown",
   "metadata": {},
   "source": [
    "## Two-level-Hamiltonian"
   ]
  },
  {
   "cell_type": "markdown",
   "metadata": {},
   "source": [
    "We consider the Hamiltonian $\\op{H}_{0} = - \\frac{\\omega}{2} \\op{\\sigma}_{z}$, representing\n",
    "a simple qubit with energy level splitting $\\omega$ in the basis\n",
    "$\\{\\ket{0},\\ket{1}\\}$. The control field $\\epsilon(t)$ is assumed to couple via\n",
    "the Hamiltonian $\\op{H}_{1}(t) = \\epsilon(t) \\op{\\sigma}_{x}$ to the qubit,\n",
    "i.e., the control field effectively drives transitions between both qubit\n",
    "states."
   ]
  },
  {
   "cell_type": "code",
   "execution_count": 3,
   "metadata": {
    "ExecuteTime": {
     "end_time": "2021-06-05T03:30:32.081295Z",
     "start_time": "2021-06-05T03:30:32.019969Z"
    }
   },
   "outputs": [],
   "source": [
    "from krotov.parametrization import ParametrizedFunction, SquareParametrization"
   ]
  },
  {
   "cell_type": "code",
   "execution_count": 4,
   "metadata": {
    "ExecuteTime": {
     "end_time": "2021-06-05T03:30:32.136097Z",
     "start_time": "2021-06-05T03:30:32.094558Z"
    },
    "execution": {
     "iopub.execute_input": "2021-01-13T19:19:46.410246Z",
     "iopub.status.busy": "2021-01-13T19:19:46.408668Z",
     "iopub.status.idle": "2021-01-13T19:19:46.413830Z",
     "shell.execute_reply": "2021-01-13T19:19:46.415108Z"
    }
   },
   "outputs": [],
   "source": [
    "def hamiltonian(omega=1.0, ampl0=0.2):\n",
    "    \"\"\"Two-level-system Hamiltonian\n",
    "\n",
    "    Args:\n",
    "        omega (float): energy separation of the qubit levels\n",
    "        ampl0 (float): constant amplitude of the driving field\n",
    "    \"\"\"\n",
    "    H0 = -0.5 * omega * qutip.operators.sigmaz()\n",
    "    H1 = qutip.operators.sigmax()\n",
    "\n",
    "    def guess_control(t, args):\n",
    "        return ampl0 * krotov.shapes.flattop(\n",
    "            t, t_start=0, t_stop=5, t_rise=0.3, func=\"blackman\"\n",
    "        )\n",
    "\n",
    "    return [H0, [H1, ParametrizedFunction(guess_control, SquareParametrization())]]\n"
   ]
  },
  {
   "cell_type": "code",
   "execution_count": 5,
   "metadata": {
    "ExecuteTime": {
     "end_time": "2021-06-05T03:30:32.193076Z",
     "start_time": "2021-06-05T03:30:32.139501Z"
    },
    "execution": {
     "iopub.execute_input": "2021-01-13T19:19:46.427358Z",
     "iopub.status.busy": "2021-01-13T19:19:46.425505Z",
     "iopub.status.idle": "2021-01-13T19:19:46.430133Z",
     "shell.execute_reply": "2021-01-13T19:19:46.430876Z"
    }
   },
   "outputs": [],
   "source": [
    "H = hamiltonian()"
   ]
  },
  {
   "cell_type": "markdown",
   "metadata": {},
   "source": [
    "The control field here switches on from zero at $t=0$ to it's maximum amplitude\n",
    "0.2 within the time period 0.3 (the switch-on shape is half a [Blackman pulse](https://en.wikipedia.org/wiki/Window_function#Blackman_window)).\n",
    "It switches off again in the time period 0.3 before the\n",
    "final time $T=5$). We use a time grid with 500 time steps between 0 and $T$:"
   ]
  },
  {
   "cell_type": "code",
   "execution_count": 6,
   "metadata": {
    "ExecuteTime": {
     "end_time": "2021-06-05T03:30:32.227201Z",
     "start_time": "2021-06-05T03:30:32.195554Z"
    },
    "execution": {
     "iopub.execute_input": "2021-01-13T19:19:46.442452Z",
     "iopub.status.busy": "2021-01-13T19:19:46.441005Z",
     "iopub.status.idle": "2021-01-13T19:19:46.445245Z",
     "shell.execute_reply": "2021-01-13T19:19:46.446218Z"
    },
    "lines_to_next_cell": 2
   },
   "outputs": [],
   "source": [
    "tlist = np.linspace(0, 5, 500)"
   ]
  },
  {
   "cell_type": "code",
   "execution_count": 7,
   "metadata": {
    "ExecuteTime": {
     "end_time": "2021-06-05T03:30:32.269327Z",
     "start_time": "2021-06-05T03:30:32.229778Z"
    },
    "attributes": {
     "classes": [],
     "id": "",
     "n": "10"
    },
    "execution": {
     "iopub.execute_input": "2021-01-13T19:19:46.460637Z",
     "iopub.status.busy": "2021-01-13T19:19:46.459158Z",
     "iopub.status.idle": "2021-01-13T19:19:46.466454Z",
     "shell.execute_reply": "2021-01-13T19:19:46.468083Z"
    }
   },
   "outputs": [],
   "source": [
    "def plot_pulse(pulse, tlist):\n",
    "    fig, ax = plt.subplots()\n",
    "    if callable(pulse):\n",
    "        pulse = np.array([pulse(t, args=None) for t in tlist])\n",
    "    ax.plot(tlist, pulse)\n",
    "    ax.set_xlabel('time')\n",
    "    ax.set_ylabel('pulse amplitude')\n",
    "    plt.show(fig)"
   ]
  },
  {
   "cell_type": "code",
   "execution_count": 8,
   "metadata": {
    "ExecuteTime": {
     "end_time": "2021-06-05T03:30:32.526924Z",
     "start_time": "2021-06-05T03:30:32.283894Z"
    },
    "attributes": {
     "classes": [],
     "id": "",
     "n": "11"
    },
    "execution": {
     "iopub.execute_input": "2021-01-13T19:19:46.517368Z",
     "iopub.status.busy": "2021-01-13T19:19:46.515875Z",
     "iopub.status.idle": "2021-01-13T19:19:46.829993Z",
     "shell.execute_reply": "2021-01-13T19:19:46.830896Z"
    }
   },
   "outputs": [
    {
     "data": {
      "image/png": "[encoded data removed]",
      "text/plain": [
       "<Figure size 432x288 with 1 Axes>"
      ]
     },
     "metadata": {
      "needs_background": "light"
     },
     "output_type": "display_data"
    }
   ],
   "source": [
    "plot_pulse(H[1][1], tlist)"
   ]
  },
  {
   "cell_type": "markdown",
   "metadata": {},
   "source": [
    "## Optimization target"
   ]
  },
  {
   "cell_type": "markdown",
   "metadata": {},
   "source": [
    "The `krotov` package requires the goal of the optimization to be described by a\n",
    "list of `Objective` instances. In this example, there is only a single\n",
    "objective: the state-to-state transfer from initial state $\\ket{\\Psi_{\\init}} =\n",
    "\\ket{0}$ to the target state $\\ket{\\Psi_{\\tgt}} = \\ket{1}$, under the dynamics\n",
    "of the Hamiltonian $\\op{H}(t)$:"
   ]
  },
  {
   "cell_type": "code",
   "execution_count": 9,
   "metadata": {
    "ExecuteTime": {
     "end_time": "2021-06-05T03:30:32.576572Z",
     "start_time": "2021-06-05T03:30:32.533460Z"
    },
    "execution": {
     "iopub.execute_input": "2021-01-13T19:19:46.841392Z",
     "iopub.status.busy": "2021-01-13T19:19:46.840244Z",
     "iopub.status.idle": "2021-01-13T19:19:46.844821Z",
     "shell.execute_reply": "2021-01-13T19:19:46.845680Z"
    }
   },
   "outputs": [
    {
     "data": {
      "text/plain": [
       "[Objective[|Ψ₀(2)⟩ to |Ψ₁(2)⟩ via [H₀[2,2], [H₁[2,2], u₁(t)]]]]"
      ]
     },
     "execution_count": 9,
     "metadata": {},
     "output_type": "execute_result"
    }
   ],
   "source": [
    "objectives = [\n",
    "    krotov.Objective(\n",
    "        initial_state=qutip.ket(\"0\"), target=qutip.ket(\"1\"), H=H\n",
    "    )\n",
    "]\n",
    "\n",
    "objectives"
   ]
  },
  {
   "cell_type": "markdown",
   "metadata": {},
   "source": [
    "In addition, we would like to maintain the property of the control field to be\n",
    "zero at $t=0$ and $t=T$, with a smooth switch-on and switch-off. We can define\n",
    "an \"update shape\" $S(t) \\in [0, 1]$ for this purpose: Krotov's method will\n",
    "update the field at each point in time proportionally to $S(t)$; wherever\n",
    "$S(t)$ is zero, the optimization will not change the value of the control from\n",
    "the original guess."
   ]
  },
  {
   "cell_type": "code",
   "execution_count": 10,
   "metadata": {
    "ExecuteTime": {
     "end_time": "2021-06-05T03:30:32.637939Z",
     "start_time": "2021-06-05T03:30:32.584917Z"
    },
    "execution": {
     "iopub.execute_input": "2021-01-13T19:19:46.853270Z",
     "iopub.status.busy": "2021-01-13T19:19:46.849902Z",
     "iopub.status.idle": "2021-01-13T19:19:46.857772Z",
     "shell.execute_reply": "2021-01-13T19:19:46.858640Z"
    },
    "lines_to_next_cell": 2
   },
   "outputs": [],
   "source": [
    "def S(t):\n",
    "    \"\"\"Shape function for the field update\"\"\"\n",
    "    return krotov.shapes.flattop(\n",
    "        t, t_start=0, t_stop=5, t_rise=0.3, t_fall=0.3, func='blackman'\n",
    "    )"
   ]
  },
  {
   "cell_type": "markdown",
   "metadata": {},
   "source": [
    "Beyond the shape, Krotov's method uses a parameter $\\lambda_a$  for each control\n",
    "field that determines the overall magnitude of the respective field in each\n",
    "iteration (the smaller $\\lambda_a$, the larger the update; specifically, the\n",
    "update is proportional to $\\frac{S(t)}{\\lambda_a}$). Both the update-shape\n",
    "$S(t)$ and the $\\lambda_a$ parameter must be passed to the optimization routine\n",
    "as \"pulse options\":"
   ]
  },
  {
   "cell_type": "code",
   "execution_count": 11,
   "metadata": {
    "ExecuteTime": {
     "end_time": "2021-06-05T03:30:32.677424Z",
     "start_time": "2021-06-05T03:30:32.642559Z"
    },
    "execution": {
     "iopub.execute_input": "2021-01-13T19:19:46.864597Z",
     "iopub.status.busy": "2021-01-13T19:19:46.863114Z",
     "iopub.status.idle": "2021-01-13T19:19:46.869516Z",
     "shell.execute_reply": "2021-01-13T19:19:46.871919Z"
    },
    "lines_to_next_cell": 0
   },
   "outputs": [],
   "source": [
    "pulse_options = {\n",
    "    H[1][1]: dict(lambda_a=1, update_shape=S)\n",
    "}"
   ]
  },
  {
   "cell_type": "markdown",
   "metadata": {},
   "source": [
    "## Simulate dynamics under the guess field"
   ]
  },
  {
   "cell_type": "markdown",
   "metadata": {},
   "source": [
    "Before running the optimization procedure, we first simulate the dynamics under the\n",
    "guess field $\\epsilon_{0}(t)$. The following solves equation of motion for the\n",
    "defined objective, which contains the initial state $\\ket{\\Psi_{\\init}}$ and\n",
    "the Hamiltonian $\\op{H}(t)$ defining its evolution. This delegates to QuTiP's\n",
    "usual `mesolve` function."
   ]
  },
  {
   "cell_type": "markdown",
   "metadata": {},
   "source": [
    "We use the projectors $\\op{P}_0 = \\ket{0}\\bra{0}$ and $\\op{P}_1 = \\ket{1}\\bra{1}$ for calculating the population:"
   ]
  },
  {
   "cell_type": "code",
   "execution_count": 12,
   "metadata": {
    "ExecuteTime": {
     "end_time": "2021-06-05T03:30:32.718806Z",
     "start_time": "2021-06-05T03:30:32.681405Z"
    },
    "execution": {
     "iopub.execute_input": "2021-01-13T19:19:46.879910Z",
     "iopub.status.busy": "2021-01-13T19:19:46.877805Z",
     "iopub.status.idle": "2021-01-13T19:19:46.883375Z",
     "shell.execute_reply": "2021-01-13T19:19:46.884311Z"
    }
   },
   "outputs": [],
   "source": [
    "proj0 = qutip.ket2dm(qutip.ket(\"0\"))\n",
    "proj1 = qutip.ket2dm(qutip.ket(\"1\"))"
   ]
  },
  {
   "cell_type": "code",
   "execution_count": 13,
   "metadata": {
    "ExecuteTime": {
     "end_time": "2021-06-05T03:30:32.885833Z",
     "start_time": "2021-06-05T03:30:32.722169Z"
    },
    "attributes": {
     "classes": [],
     "id": "",
     "n": "12"
    },
    "execution": {
     "iopub.execute_input": "2021-01-13T19:19:47.061381Z",
     "iopub.status.busy": "2021-01-13T19:19:47.059865Z",
     "iopub.status.idle": "2021-01-13T19:19:47.063073Z",
     "shell.execute_reply": "2021-01-13T19:19:47.063965Z"
    }
   },
   "outputs": [],
   "source": [
    "guess_dynamics = objectives[0].mesolve(tlist, e_ops=[proj0, proj1])"
   ]
  },
  {
   "cell_type": "markdown",
   "metadata": {},
   "source": [
    "The plot of the population dynamics shows that the guess field does not transfer\n",
    "the initial state $\\ket{\\Psi_{\\init}} = \\ket{0}$ to the desired target state\n",
    "$\\ket{\\Psi_{\\tgt}} = \\ket{1}$ (so the optimization will have something to do)."
   ]
  },
  {
   "cell_type": "code",
   "execution_count": 14,
   "metadata": {
    "ExecuteTime": {
     "end_time": "2021-06-05T03:30:32.939335Z",
     "start_time": "2021-06-05T03:30:32.890382Z"
    },
    "attributes": {
     "classes": [],
     "id": "",
     "n": "13"
    },
    "execution": {
     "iopub.execute_input": "2021-01-13T19:19:47.071001Z",
     "iopub.status.busy": "2021-01-13T19:19:47.069947Z",
     "iopub.status.idle": "2021-01-13T19:19:47.072686Z",
     "shell.execute_reply": "2021-01-13T19:19:47.073366Z"
    }
   },
   "outputs": [],
   "source": [
    "def plot_population(result):\n",
    "    fig, ax = plt.subplots()\n",
    "    ax.plot(result.times, result.expect[0], label='0')\n",
    "    ax.plot(result.times, result.expect[1], label='1')\n",
    "    ax.legend()\n",
    "    ax.set_xlabel('time')\n",
    "    ax.set_ylabel('population')\n",
    "    plt.show(fig)"
   ]
  },
  {
   "cell_type": "code",
   "execution_count": 15,
   "metadata": {
    "ExecuteTime": {
     "end_time": "2021-06-05T03:30:33.484675Z",
     "start_time": "2021-06-05T03:30:32.942579Z"
    },
    "attributes": {
     "classes": [],
     "id": "",
     "n": "14"
    },
    "execution": {
     "iopub.execute_input": "2021-01-13T19:19:47.104604Z",
     "iopub.status.busy": "2021-01-13T19:19:47.103399Z",
     "iopub.status.idle": "2021-01-13T19:19:47.271946Z",
     "shell.execute_reply": "2021-01-13T19:19:47.272416Z"
    }
   },
   "outputs": [
    {
     "data": {
      "image/png": "[encoded data removed]",
      "text/plain": [
       "<Figure size 432x288 with 1 Axes>"
      ]
     },
     "metadata": {
      "needs_background": "light"
     },
     "output_type": "display_data"
    }
   ],
   "source": [
    "plot_population(guess_dynamics)"
   ]
  },
  {
   "cell_type": "markdown",
   "metadata": {},
   "source": [
    "## Optimize"
   ]
  },
  {
   "cell_type": "markdown",
   "metadata": {},
   "source": [
    "In the following we optimize the guess field $\\epsilon_{0}(t)$ such\n",
    "that the intended state-to-state transfer $\\ket{\\Psi_{\\init}} \\rightarrow\n",
    "\\ket{\\Psi_{\\tgt}}$ is solved, via the `krotov` package's central\n",
    "`optimize_pulses` routine.  It requires, besides the previously defined\n",
    "`objectives`, information about the optimization functional $J_T$ (implicitly,\n",
    "via `chi_constructor`, which calculates the states $\\ket{\\chi} =\n",
    "\\frac{J_T}{\\bra{\\Psi}}$).\n",
    "\n",
    "Here, we choose $J_T = J_{T,\\text{ss}} = 1 - F_{\\text{ss}}$ with $F_{\\text{ss}}\n",
    "= \\Abs{\\Braket{\\Psi_{\\tgt}}{\\Psi(T)}}^2$, with $\\ket{\\Psi(T)}$ the forward\n",
    "propagated state of $\\ket{\\Psi_{\\init}}$. Even though $J_T$ is not explicitly\n",
    "required for the optimization, it is nonetheless useful to be able to calculate\n",
    "and print it as a way to provide some feedback about the optimization progress.\n",
    "Here, we pass as an `info_hook` the function `krotov.info_hooks.print_table`,\n",
    "using `krotov.functionals.J_T_ss` (which implements the above functional; the\n",
    "`krotov` library contains implementations of all the \"standard\" functionals used in\n",
    "quantum control). This `info_hook` prints a tabular overview after each\n",
    "iteration, containing the value of $J_T$, the magnitude of the integrated pulse\n",
    "update, and information on how much $J_T$ (and the full Krotov functional $J$)\n",
    "changes between iterations. It also stores the value of $J_T$ internally in the\n",
    "`Result.info_vals` attribute.\n",
    "\n",
    "The value of $J_T$ can also be used to check the convergence. In this example,\n",
    "we limit the number of total iterations to 10, but more generally, we could use\n",
    "the `check_convergence` parameter to stop the optimization when $J_T$ falls below\n",
    "some threshold. Here, we only pass a function that checks that the value of\n",
    "$J_T$ is monotonically decreasing. The\n",
    "`krotov.convergence.check_monotonic_error` relies on\n",
    "`krotov.info_hooks.print_table` internally having stored the value of $J_T$ to\n",
    "the `Result.info_vals` in each iteration."
   ]
  },
  {
   "cell_type": "code",
   "execution_count": 16,
   "metadata": {
    "ExecuteTime": {
     "end_time": "2021-06-05T03:32:43.421801Z",
     "start_time": "2021-06-05T03:30:58.833915Z"
    },
    "attributes": {
     "classes": [],
     "id": "",
     "n": "15"
    },
    "execution": {
     "iopub.execute_input": "2021-01-13T19:19:47.283227Z",
     "iopub.status.busy": "2021-01-13T19:19:47.277756Z",
     "iopub.status.idle": "2021-01-13T19:20:24.011943Z",
     "shell.execute_reply": "2021-01-13T19:20:24.012611Z"
    },
    "scrolled": false
   },
   "outputs": [
    {
     "name": "stdout",
     "output_type": "stream",
     "text": [
      "iter.      J_T    ∫gₐ(t)dt          J       ΔJ_T         ΔJ  secs\n",
      "0     9.51e-01    0.00e+00   9.51e-01        n/a        n/a     1\n"
     ]
    },
    {
     "name": "stderr",
     "output_type": "stream",
     "text": [
      "/Users/goerz/Documents/Programming/github/krotov/src/krotov/parametrization.py:106: UserWarning: Pulse value -2.7755575615628915e-18 < 0 out of range for SquareParametrization. Clip to 0.\n",
      "  warnings.warn(\n"
     ]
    },
    {
     "name": "stdout",
     "output_type": "stream",
     "text": [
      "1     8.18e-01    4.34e-02   8.62e-01  -1.33e-01  -8.97e-02     2\n",
      "2     4.89e-01    1.16e-01   6.04e-01  -3.30e-01  -2.14e-01     1\n",
      "3     2.55e-01    1.06e-01   3.61e-01  -2.34e-01  -1.28e-01     1\n",
      "4     1.69e-01    4.31e-02   2.12e-01  -8.58e-02  -4.27e-02     1\n",
      "5     1.26e-01    2.13e-02   1.48e-01  -4.30e-02  -2.16e-02     2\n",
      "6     1.01e-01    1.27e-02   1.13e-01  -2.57e-02  -1.29e-02     2\n",
      "7     8.35e-02    8.47e-03   9.20e-02  -1.71e-02  -8.62e-03     2\n",
      "8     7.13e-02    6.04e-03   7.74e-02  -1.22e-02  -6.15e-03     1\n",
      "9     6.22e-02    4.53e-03   6.67e-02  -9.13e-03  -4.61e-03     1\n",
      "10    5.51e-02    3.51e-03   5.86e-02  -7.09e-03  -3.58e-03     1\n",
      "11    4.94e-02    2.81e-03   5.22e-02  -5.66e-03  -2.86e-03     1\n",
      "12    4.48e-02    2.29e-03   4.71e-02  -4.63e-03  -2.33e-03     2\n",
      "13    4.10e-02    1.91e-03   4.29e-02  -3.85e-03  -1.94e-03     1\n",
      "14    3.77e-02    1.61e-03   3.93e-02  -3.25e-03  -1.64e-03     2\n",
      "15    3.49e-02    1.38e-03   3.63e-02  -2.78e-03  -1.40e-03     1\n",
      "16    3.25e-02    1.19e-03   3.37e-02  -2.41e-03  -1.22e-03     1\n",
      "17    3.04e-02    1.04e-03   3.15e-02  -2.10e-03  -1.06e-03     1\n",
      "18    2.86e-02    9.15e-04   2.95e-02  -1.85e-03  -9.35e-04     2\n",
      "19    2.69e-02    8.12e-04   2.77e-02  -1.64e-03  -8.30e-04     2\n",
      "20    2.55e-02    7.25e-04   2.62e-02  -1.47e-03  -7.42e-04     2\n",
      "21    2.41e-02    6.51e-04   2.48e-02  -1.32e-03  -6.67e-04     2\n",
      "22    2.29e-02    5.88e-04   2.35e-02  -1.19e-03  -6.02e-04     2\n",
      "23    2.19e-02    5.34e-04   2.24e-02  -1.08e-03  -5.47e-04     3\n",
      "24    2.09e-02    4.87e-04   2.14e-02  -9.85e-04  -4.99e-04     2\n",
      "25    2.00e-02    4.45e-04   2.04e-02  -9.02e-04  -4.57e-04     2\n",
      "26    1.92e-02    4.09e-04   1.96e-02  -8.28e-04  -4.20e-04     2\n",
      "27    1.84e-02    3.77e-04   1.88e-02  -7.64e-04  -3.87e-04     2\n",
      "28    1.77e-02    3.48e-04   1.80e-02  -7.06e-04  -3.58e-04     2\n",
      "29    1.70e-02    3.23e-04   1.73e-02  -6.55e-04  -3.32e-04     2\n",
      "30    1.64e-02    3.00e-04   1.67e-02  -6.09e-04  -3.09e-04     2\n",
      "31    1.58e-02    2.80e-04   1.61e-02  -5.68e-04  -2.88e-04     2\n",
      "32    1.53e-02    2.61e-04   1.56e-02  -5.30e-04  -2.69e-04     2\n",
      "33    1.48e-02    2.45e-04   1.51e-02  -4.97e-04  -2.52e-04     2\n",
      "34    1.44e-02    2.30e-04   1.46e-02  -4.66e-04  -2.36e-04     3\n",
      "35    1.39e-02    2.16e-04   1.41e-02  -4.38e-04  -2.22e-04     2\n",
      "36    1.35e-02    2.03e-04   1.37e-02  -4.13e-04  -2.09e-04     2\n",
      "37    1.31e-02    1.92e-04   1.33e-02  -3.89e-04  -1.98e-04     1\n",
      "38    1.27e-02    1.81e-04   1.29e-02  -3.68e-04  -1.87e-04     1\n",
      "39    1.24e-02    1.71e-04   1.26e-02  -3.48e-04  -1.77e-04     1\n",
      "40    1.21e-02    1.62e-04   1.22e-02  -3.30e-04  -1.68e-04     1\n",
      "41    1.18e-02    1.54e-04   1.19e-02  -3.13e-04  -1.59e-04     1\n",
      "42    1.15e-02    1.46e-04   1.16e-02  -2.98e-04  -1.51e-04     1\n",
      "43    1.12e-02    1.39e-04   1.13e-02  -2.83e-04  -1.44e-04     2\n",
      "44    1.09e-02    1.33e-04   1.10e-02  -2.70e-04  -1.37e-04     1\n",
      "45    1.07e-02    1.27e-04   1.08e-02  -2.57e-04  -1.31e-04     1\n",
      "46    1.04e-02    1.21e-04   1.05e-02  -2.46e-04  -1.25e-04     1\n",
      "47    1.02e-02    1.15e-04   1.03e-02  -2.35e-04  -1.19e-04     1\n",
      "48    9.95e-03    1.10e-04   1.01e-02  -2.25e-04  -1.14e-04     1\n"
     ]
    }
   ],
   "source": [
    "opt_result = krotov.optimize_pulses(\n",
    "    objectives,\n",
    "    pulse_options=pulse_options,\n",
    "    tlist=tlist,\n",
    "    propagator=krotov.propagators.expm,\n",
    "    chi_constructor=krotov.functionals.chis_ss,\n",
    "    info_hook=krotov.info_hooks.print_table(J_T=krotov.functionals.J_T_ss),\n",
    "    check_convergence=krotov.convergence.Or(\n",
    "        krotov.convergence.value_below('1e-2', name='J_T'),\n",
    "        krotov.convergence.check_monotonic_error,\n",
    "    ),\n",
    "    store_all_pulses=True,\n",
    ")"
   ]
  },
  {
   "cell_type": "code",
   "execution_count": 17,
   "metadata": {
    "ExecuteTime": {
     "end_time": "2021-06-05T03:32:56.118352Z",
     "start_time": "2021-06-05T03:32:56.013075Z"
    },
    "attributes": {
     "classes": [],
     "id": "",
     "n": "16"
    },
    "execution": {
     "iopub.execute_input": "2021-01-13T19:20:24.017864Z",
     "iopub.status.busy": "2021-01-13T19:20:24.016620Z",
     "iopub.status.idle": "2021-01-13T19:20:24.020480Z",
     "shell.execute_reply": "2021-01-13T19:20:24.021053Z"
    }
   },
   "outputs": [
    {
     "data": {
      "text/plain": [
       "Krotov Optimization Result\n",
       "--------------------------\n",
       "- Started at 2021-06-04 23:30:58\n",
       "- Number of objectives: 1\n",
       "- Number of iterations: 48\n",
       "- Reason for termination: Reached convergence: J_T < 1e-2\n",
       "- Ended at 2021-06-04 23:32:43 (0:01:45)"
      ]
     },
     "execution_count": 17,
     "metadata": {},
     "output_type": "execute_result"
    }
   ],
   "source": [
    "opt_result"
   ]
  },
  {
   "cell_type": "markdown",
   "metadata": {},
   "source": [
    "## Simulate the dynamics under the optimized field"
   ]
  },
  {
   "cell_type": "markdown",
   "metadata": {},
   "source": [
    "Having obtained the optimized control field, we can simulate the dynamics to\n",
    "verify that the optimized field indeed drives the initial state\n",
    "$\\ket{\\Psi_{\\init}} = \\ket{0}$ to the desired target state\n",
    "$\\ket{\\Psi_{\\tgt}} = \\ket{1}$."
   ]
  },
  {
   "cell_type": "code",
   "execution_count": 18,
   "metadata": {
    "ExecuteTime": {
     "end_time": "2021-06-05T03:32:58.670288Z",
     "start_time": "2021-06-05T03:32:58.489361Z"
    },
    "attributes": {
     "classes": [],
     "id": "",
     "n": "18"
    },
    "execution": {
     "iopub.execute_input": "2021-01-13T19:20:24.180368Z",
     "iopub.status.busy": "2021-01-13T19:20:24.179669Z",
     "iopub.status.idle": "2021-01-13T19:20:24.181940Z",
     "shell.execute_reply": "2021-01-13T19:20:24.182439Z"
    }
   },
   "outputs": [],
   "source": [
    "opt_dynamics = opt_result.optimized_objectives[0].mesolve(\n",
    "    tlist, e_ops=[proj0, proj1])"
   ]
  },
  {
   "cell_type": "code",
   "execution_count": 19,
   "metadata": {
    "ExecuteTime": {
     "end_time": "2021-06-05T03:33:00.704052Z",
     "start_time": "2021-06-05T03:33:00.461526Z"
    },
    "attributes": {
     "classes": [],
     "id": "",
     "n": "19"
    },
    "execution": {
     "iopub.execute_input": "2021-01-13T19:20:24.224283Z",
     "iopub.status.busy": "2021-01-13T19:20:24.222618Z",
     "iopub.status.idle": "2021-01-13T19:20:24.408840Z",
     "shell.execute_reply": "2021-01-13T19:20:24.409310Z"
    }
   },
   "outputs": [
    {
     "data": {
      "image/png": "[encoded data removed]",
      "text/plain": [
       "<Figure size 432x288 with 1 Axes>"
      ]
     },
     "metadata": {
      "needs_background": "light"
     },
     "output_type": "display_data"
    }
   ],
   "source": [
    "plot_population(opt_dynamics)"
   ]
  },
  {
   "cell_type": "markdown",
   "metadata": {},
   "source": [
    "To gain some intuition on how the controls and the dynamics change throughout the optimization procedure, we can generate a plot of the control fields and the dynamics after each iteration of the optimization algorithm. This is possible because we set `store_all_pulses=True` in the call to `optimize_pulses`, which allows to recover the optimized controls from each iteration from `Result.all_pulses`. The flag is not set to True by default, as for long-running optimizations with thousands or tens of thousands iterations, the storage of all control fields may require significant memory."
   ]
  },
  {
   "cell_type": "code",
   "execution_count": 20,
   "metadata": {
    "ExecuteTime": {
     "end_time": "2021-06-05T03:33:02.484143Z",
     "start_time": "2021-06-05T03:33:02.446161Z"
    },
    "execution": {
     "iopub.execute_input": "2021-01-13T19:20:24.421916Z",
     "iopub.status.busy": "2021-01-13T19:20:24.420852Z",
     "iopub.status.idle": "2021-01-13T19:20:24.423448Z",
     "shell.execute_reply": "2021-01-13T19:20:24.423968Z"
    }
   },
   "outputs": [],
   "source": [
    "def plot_iterations(opt_result):\n",
    "    \"\"\"Plot the control fields in population dynamics over all iterations.\n",
    "\n",
    "    This depends on ``store_all_pulses=True`` in the call to\n",
    "    `optimize_pulses`.\n",
    "    \"\"\"\n",
    "    fig, [ax_ctr, ax_dyn] = plt.subplots(nrows=2, figsize=(8, 10))\n",
    "    n_iters = len(opt_result.iters)\n",
    "    for (iteration, pulses) in zip(opt_result.iters, opt_result.all_pulses):\n",
    "        controls = [\n",
    "            krotov.conversions.pulse_onto_tlist(pulse)\n",
    "            for pulse in pulses\n",
    "        ]\n",
    "        objectives = opt_result.objectives_with_controls(controls)\n",
    "        dynamics = objectives[0].mesolve(\n",
    "            opt_result.tlist, e_ops=[proj0, proj1]\n",
    "        )\n",
    "        if iteration == 0:\n",
    "            ls = '--'  # dashed\n",
    "            alpha = 1  # full opacity\n",
    "            ctr_label = 'guess'\n",
    "            pop_labels = ['0 (guess)', '1 (guess)']\n",
    "        elif iteration == opt_result.iters[-1]:\n",
    "            ls = '-'  # solid\n",
    "            alpha = 1  # full opacity\n",
    "            ctr_label = 'optimized'\n",
    "            pop_labels = ['0 (optimized)', '1 (optimized)']\n",
    "        else:\n",
    "            ls = '-'  # solid\n",
    "            alpha = 0.5 * float(iteration) / float(n_iters)  # max 50%\n",
    "            ctr_label = None\n",
    "            pop_labels = [None, None]\n",
    "        ax_ctr.plot(\n",
    "            dynamics.times,\n",
    "            controls[0],\n",
    "            label=ctr_label,\n",
    "            color='black',\n",
    "            ls=ls,\n",
    "            alpha=alpha,\n",
    "        )\n",
    "        ax_dyn.plot(\n",
    "            dynamics.times,\n",
    "            dynamics.expect[0],\n",
    "            label=pop_labels[0],\n",
    "            color='#1f77b4',  # default blue\n",
    "            ls=ls,\n",
    "            alpha=alpha,\n",
    "        )\n",
    "        ax_dyn.plot(\n",
    "            dynamics.times,\n",
    "            dynamics.expect[1],\n",
    "            label=pop_labels[1],\n",
    "            color='#ff7f0e',  # default orange\n",
    "            ls=ls,\n",
    "            alpha=alpha,\n",
    "        )\n",
    "    ax_dyn.legend()\n",
    "    ax_dyn.set_xlabel('time')\n",
    "    ax_dyn.set_ylabel('population')\n",
    "    ax_ctr.legend()\n",
    "    ax_ctr.set_xlabel('time')\n",
    "    ax_ctr.set_ylabel('control amplitude')\n",
    "    plt.show(fig)"
   ]
  },
  {
   "cell_type": "code",
   "execution_count": 21,
   "metadata": {
    "ExecuteTime": {
     "end_time": "2021-06-05T03:33:09.156115Z",
     "start_time": "2021-06-05T03:33:03.660132Z"
    },
    "execution": {
     "iopub.execute_input": "2021-01-13T19:20:24.551224Z",
     "iopub.status.busy": "2021-01-13T19:20:24.550324Z",
     "iopub.status.idle": "2021-01-13T19:20:27.395973Z",
     "shell.execute_reply": "2021-01-13T19:20:27.396514Z"
    }
   },
   "outputs": [
    {
     "data": {
      "image/png": "[encoded data removed]",
      "text/plain": [
       "<Figure size 576x720 with 2 Axes>"
      ]
     },
     "metadata": {
      "needs_background": "light"
     },
     "output_type": "display_data"
    }
   ],
   "source": [
    "plot_iterations(opt_result)"
   ]
  },
  {
   "cell_type": "markdown",
   "metadata": {},
   "source": [
    "The initial guess (dashed) and final optimized (solid) control amplitude and resulting dynamics are shown with full opacity, whereas the curves corresponding intermediate iterations are shown with decreasing transparency."
   ]
  }
 ],
 "metadata": {
  "hide_input": false,
  "kernelspec": {
   "display_name": "Python 3",
   "language": "python",
   "name": "python3"
  },
  "language_info": {
   "codemirror_mode": {
    "name": "ipython",
    "version": 3
   },
   "file_extension": ".py",
   "mimetype": "text/x-python",
   "name": "python",
   "nbconvert_exporter": "python",
   "pygments_lexer": "ipython3",
   "version": "3.8.1"
  },
  "toc": {
   "base_numbering": 1,
   "nav_menu": {},
   "number_sections": true,
   "sideBar": true,
   "skip_h1_title": false,
   "title_cell": "Table of Contents",
   "title_sidebar": "Contents",
   "toc_cell": false,
   "toc_position": {},
   "toc_section_display": true,
   "toc_window_display": false
  },
  "varInspector": {
   "cols": {
    "lenName": 16,
    "lenType": 16,
    "lenVar": 40
   },
   "kernels_config": {
    "python": {
     "delete_cmd_postfix": "",
     "delete_cmd_prefix": "del ",
     "library": "var_list.py",
     "varRefreshCmd": "print(var_dic_list())"
    },
    "r": {
     "delete_cmd_postfix": ") ",
     "delete_cmd_prefix": "rm(",
     "library": "var_list.r",
     "varRefreshCmd": "cat(var_dic_list()) "
    }
   },
   "types_to_exclude": [
    "module",
    "function",
    "builtin_function_or_method",
    "instance",
    "_Feature"
   ],
   "window_display": false
  }
 },
 "nbformat": 4,
 "nbformat_minor": 2
}
