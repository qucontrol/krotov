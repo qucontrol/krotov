{
 "cells": [
  {
   "cell_type": "markdown",
   "metadata": {},
   "source": [
    "# Optimization of Dissipative Qubit Reset"
   ]
  },
  {
   "cell_type": "code",
   "execution_count": 1,
   "metadata": {
    "ExecuteTime": {
     "end_time": "2019-02-12T04:47:26.374878Z",
     "start_time": "2019-02-12T04:47:25.200533Z"
    },
    "attributes": {
     "classes": [],
     "id": "",
     "n": "1"
    },
    "execution": {
     "iopub.execute_input": "2024-06-03T14:27:45.304871Z",
     "iopub.status.busy": "2024-06-03T14:27:45.304735Z",
     "iopub.status.idle": "2024-06-03T14:27:46.012221Z",
     "shell.execute_reply": "2024-06-03T14:27:46.011869Z"
    }
   },
   "outputs": [
    {
     "name": "stdout",
     "output_type": "stream",
     "text": [
      "Python implementation: CPython\n",
      "Python version       : 3.12.0\n",
      "IPython version      : 8.25.0\n",
      "\n",
      "krotov    : 1.3.0+dev\n",
      "numpy     : 1.26.4\n",
      "qutip     : 4.7.6\n",
      "scipy     : 1.12.0\n",
      "matplotlib: 3.7.5\n",
      "\n"
     ]
    }
   ],
   "source": [
    "# NBVAL_IGNORE_OUTPUT\n",
    "%load_ext watermark\n",
    "import qutip\n",
    "import numpy as np\n",
    "import scipy\n",
    "import matplotlib\n",
    "import matplotlib.pylab as plt\n",
    "import krotov\n",
    "\n",
    "%watermark -v --iversions"
   ]
  },
  {
   "cell_type": "markdown",
   "metadata": {},
   "source": [
    "$\\newcommand{tr}[0]{\\operatorname{tr}}\n",
    "\\newcommand{diag}[0]{\\operatorname{diag}}\n",
    "\\newcommand{abs}[0]{\\operatorname{abs}}\n",
    "\\newcommand{pop}[0]{\\operatorname{pop}}\n",
    "\\newcommand{aux}[0]{\\text{aux}}\n",
    "\\newcommand{int}[0]{\\text{int}}\n",
    "\\newcommand{opt}[0]{\\text{opt}}\n",
    "\\newcommand{tgt}[0]{\\text{tgt}}\n",
    "\\newcommand{init}[0]{\\text{init}}\n",
    "\\newcommand{lab}[0]{\\text{lab}}\n",
    "\\newcommand{rwa}[0]{\\text{rwa}}\n",
    "\\newcommand{bra}[1]{\\langle#1\\vert}\n",
    "\\newcommand{ket}[1]{\\vert#1\\rangle}\n",
    "\\newcommand{Bra}[1]{\\left\\langle#1\\right\\vert}\n",
    "\\newcommand{Ket}[1]{\\left\\vert#1\\right\\rangle}\n",
    "\\newcommand{Braket}[2]{\\left\\langle #1\\vphantom{#2} \\mid\n",
    "#2\\vphantom{#1}\\right\\rangle}\n",
    "\\newcommand{op}[1]{\\hat{#1}}\n",
    "\\newcommand{Op}[1]{\\hat{#1}}\n",
    "\\newcommand{dd}[0]{\\,\\text{d}}\n",
    "\\newcommand{Liouville}[0]{\\mathcal{L}}\n",
    "\\newcommand{DynMap}[0]{\\mathcal{E}}\n",
    "\\newcommand{identity}[0]{\\mathbf{1}}\n",
    "\\newcommand{Norm}[1]{\\lVert#1\\rVert}\n",
    "\\newcommand{Abs}[1]{\\left\\vert#1\\right\\vert}\n",
    "\\newcommand{avg}[1]{\\langle#1\\rangle}\n",
    "\\newcommand{Avg}[1]{\\left\\langle#1\\right\\rangle}\n",
    "\\newcommand{AbsSq}[1]{\\left\\vert#1\\right\\vert^2}\n",
    "\\newcommand{Re}[0]{\\operatorname{Re}}\n",
    "\\newcommand{Im}[0]{\\operatorname{Im}}$\n",
    "\n",
    "This example illustrates an optimization in an *open* quantum system,\n",
    "where the dynamics is governed by the Liouville-von Neumann equation. Hence,\n",
    "states are represented by density matrices $\\op{\\rho}(t)$ and the time-evolution\n",
    "operator is given by a general dynamical map $\\DynMap$."
   ]
  },
  {
   "cell_type": "markdown",
   "metadata": {},
   "source": [
    "## Define parameters\n",
    "\n",
    "The system consists of a qubit with Hamiltonian\n",
    "$\\op{H}_{q}(t) = - \\frac{\\omega_{q}}{2} \\op{\\sigma}_{z} - \\frac{\\epsilon(t)}{2} \\op{\\sigma}_{z}$,\n",
    "where $\\omega_{q}$ is an energy level splitting that can be dynamically adjusted\n",
    "by the control $\\epsilon(t)$. This qubit couples strongly to another two-level\n",
    "system (TLS) with Hamiltonian $\\op{H}_{t} = - \\frac{\\omega_{t}}{2} \\op{\\sigma}_{z}$ with\n",
    "static energy level splitting $\\omega_{t}$. The coupling strength between both\n",
    "systems is given by $J$ with the interaction Hamiltonian given by $\\op{H}_{\\int}\n",
    "= J \\op{\\sigma}_{x} \\otimes \\op{\\sigma}_{x}$."
   ]
  },
  {
   "cell_type": "markdown",
   "metadata": {},
   "source": [
    "The Hamiltonian for the system of qubit and TLS is\n",
    "\n",
    "$$\n",
    "  \\op{H}(t)\n",
    "    = \\op{H}_{q}(t) \\otimes \\identity_{t}\n",
    "      + \\identity_{q} \\otimes \\op{H}_{t} + \\op{H}_{\\int}.\n",
    "$$\n",
    "\n",
    "In addition, the TLS is embedded in a heat bath with inverse temperature\n",
    "$\\beta$. The TLS couples to the bath with rate $\\kappa$. In order to simulate\n",
    "the dissipation arising from this coupling, we consider the two Lindblad\n",
    "operators\n",
    "\n",
    "$$\n",
    "\\begin{split}\n",
    "\\op{L}_{1} &= \\sqrt{\\kappa (N_{th}+1)} \\identity_{q} \\otimes \\ket{0}\\bra{1} \\\\\n",
    "\\op{L}_{2} &= \\sqrt{\\kappa N_{th}} \\identity_{q} \\otimes \\ket{1}\\bra{0}\n",
    "\\end{split}\n",
    "$$\n",
    "\n",
    "with $N_{th} = 1/(e^{\\beta \\omega_{t}} - 1)$."
   ]
  },
  {
   "cell_type": "code",
   "execution_count": 2,
   "metadata": {
    "ExecuteTime": {
     "end_time": "2019-02-12T04:47:26.385786Z",
     "start_time": "2019-02-12T04:47:26.379865Z"
    },
    "attributes": {
     "classes": [],
     "id": "",
     "n": "2"
    },
    "execution": {
     "iopub.execute_input": "2024-06-03T14:27:46.034965Z",
     "iopub.status.busy": "2024-06-03T14:27:46.034733Z",
     "iopub.status.idle": "2024-06-03T14:27:46.036866Z",
     "shell.execute_reply": "2024-06-03T14:27:46.036616Z"
    }
   },
   "outputs": [],
   "source": [
    "omega_q = 1.0  # qubit level splitting\n",
    "omega_T = 3.0  # TLS level splitting\n",
    "J = 0.1  # qubit-TLS coupling\n",
    "kappa = 0.04  # TLS decay rate\n",
    "beta = 1.0  # inverse bath temperature\n",
    "T = 25.0  # final time\n",
    "nt = 2500  # number of time steps"
   ]
  },
  {
   "cell_type": "markdown",
   "metadata": {},
   "source": [
    "## Define the Liouvillian\n",
    "\n",
    "The dynamics of the qubit-TLS system state $\\op{\\rho}(t)$ is governed by the\n",
    "Liouville-von Neumann equation\n",
    "\n",
    "$$\n",
    "\\begin{split}\n",
    "  \\frac{\\partial}{\\partial t} \\op{\\rho}(t)\n",
    "    &= \\Liouville(t) \\op{\\rho}(t) \\\\\n",
    "    &= - i \\left[\\op{H}(t), \\op{\\rho}(t)\\right]\n",
    "      + \\sum_{k=1,2} \\left(\n",
    "            \\op{L}_{k} \\op{\\rho}(t) \\op{L}_{k}^\\dagger\n",
    "            - \\frac{1}{2}\n",
    "            \\op{L}_{k}^\\dagger\n",
    "            \\op{L}_{k} \\op{\\rho}(t)\n",
    "            - \\frac{1}{2} \\op{\\rho}(t)\n",
    "            \\op{L}_{k}^\\dagger\n",
    "            \\op{L}_{k}\n",
    "        \\right)\\,.\n",
    "\\end{split}\n",
    "$$"
   ]
  },
  {
   "cell_type": "code",
   "execution_count": 3,
   "metadata": {
    "execution": {
     "iopub.execute_input": "2024-06-03T14:27:46.038150Z",
     "iopub.status.busy": "2024-06-03T14:27:46.038050Z",
     "iopub.status.idle": "2024-06-03T14:27:46.043402Z",
     "shell.execute_reply": "2024-06-03T14:27:46.043167Z"
    }
   },
   "outputs": [],
   "source": [
    "def liouvillian(omega_q, omega_T, J, kappa, beta):\n",
    "    \"\"\"Liouvillian for the coupled system of qubit and TLS\"\"\"\n",
    "\n",
    "    # drift qubit Hamiltonian\n",
    "    H0_q = 0.5 * omega_q * np.diag([-1, 1])\n",
    "    # drive qubit Hamiltonian\n",
    "    H1_q = 0.5 * np.diag([-1, 1])\n",
    "\n",
    "    # drift TLS Hamiltonian\n",
    "    H0_T = 0.5 * omega_T * np.diag([-1, 1])\n",
    "\n",
    "    # Lift Hamiltonians to joint system operators\n",
    "    H0 = np.kron(H0_q, np.identity(2)) + np.kron(np.identity(2), H0_T)\n",
    "    H1 = np.kron(H1_q, np.identity(2))\n",
    "\n",
    "    # qubit-TLS interaction\n",
    "    H_int = J * np.fliplr(np.diag([0, 1, 1, 0]))\n",
    "\n",
    "    # convert Hamiltonians to QuTiP objects\n",
    "    H0 = qutip.Qobj(H0 + H_int)\n",
    "    H1 = qutip.Qobj(H1)\n",
    "\n",
    "    # Define Lindblad operators\n",
    "    N = 1.0 / (np.exp(beta * omega_T) - 1.0)\n",
    "    # Cooling on TLS\n",
    "    L1 = np.sqrt(kappa * (N + 1)) * np.kron(\n",
    "        np.identity(2), np.array([[0, 1], [0, 0]])\n",
    "    )\n",
    "    # Heating on TLS\n",
    "    L2 = np.sqrt(kappa * N) * np.kron(\n",
    "        np.identity(2), np.array([[0, 0], [1, 0]])\n",
    "    )\n",
    "\n",
    "    # convert Lindblad operators to QuTiP objects\n",
    "    L1 = qutip.Qobj(L1)\n",
    "    L2 = qutip.Qobj(L2)\n",
    "\n",
    "    # generate the Liouvillian\n",
    "    L0 = qutip.liouvillian(H=H0, c_ops=[L1, L2])\n",
    "    L1 = qutip.liouvillian(H=H1)\n",
    "\n",
    "    # Shift the qubit and TLS into resonance by default\n",
    "    eps0 = lambda t, args: omega_T - omega_q\n",
    "\n",
    "    return [L0, [L1, eps0]]\n",
    "\n",
    "\n",
    "L = liouvillian(omega_q=omega_q, omega_T=omega_T, J=J, kappa=kappa, beta=beta)"
   ]
  },
  {
   "cell_type": "markdown",
   "metadata": {},
   "source": [
    "## Define the optimization target"
   ]
  },
  {
   "cell_type": "markdown",
   "metadata": {},
   "source": [
    "The initial state of qubit and TLS are assumed to be in thermal equilibrium with\n",
    "the heat bath (although only the TLS is directly interacting with the bath).\n",
    "Both states are given by\n",
    "\n",
    "$$\n",
    "  \\op{\\rho}_{\\alpha}^{th} =\n",
    "\\frac{e^{x_{\\alpha}} \\ket{0}\\bra{0} + e^{-x_{\\alpha}} \\ket{1}\\bra{1}}{2\n",
    "\\cosh(x_{\\alpha})},\n",
    "  \\qquad\n",
    "  x_{\\alpha} = \\frac{\\omega_{\\alpha} \\beta}{2},\n",
    "$$\n",
    "\n",
    "with $\\alpha = q,t$. The initial state of the bipartite system\n",
    "of qubit and TLS is given by the thermal state\n",
    "$\\op{\\rho}_{th} = \\op{\\rho}_{q}^{th} \\otimes \\op{\\rho}_{t}^{th}$."
   ]
  },
  {
   "cell_type": "code",
   "execution_count": 4,
   "metadata": {
    "ExecuteTime": {
     "end_time": "2019-02-12T04:47:26.466604Z",
     "start_time": "2019-02-12T04:47:26.457181Z"
    },
    "attributes": {
     "classes": [],
     "id": "",
     "n": "6"
    },
    "execution": {
     "iopub.execute_input": "2024-06-03T14:27:46.045003Z",
     "iopub.status.busy": "2024-06-03T14:27:46.044914Z",
     "iopub.status.idle": "2024-06-03T14:27:46.047008Z",
     "shell.execute_reply": "2024-06-03T14:27:46.046802Z"
    }
   },
   "outputs": [],
   "source": [
    "x_q = omega_q * beta / 2.0\n",
    "rho_q_th = np.diag([np.exp(x_q), np.exp(-x_q)]) / (2 * np.cosh(x_q))\n",
    "\n",
    "x_T = omega_T * beta / 2.0\n",
    "rho_T_th = np.diag([np.exp(x_T), np.exp(-x_T)]) / (2 * np.cosh(x_T))\n",
    "\n",
    "rho_th = qutip.Qobj(np.kron(rho_q_th, rho_T_th))"
   ]
  },
  {
   "cell_type": "markdown",
   "metadata": {},
   "source": [
    "Since we are ultimately only interested in the state of the qubit, we define\n",
    "`trace_TLS`. It returns the reduced state of the qubit\n",
    "$\\op{\\rho}_{q} = \\tr_{t}\\{\\op{\\rho}\\}$ when passed\n",
    "the state $\\op{\\rho}$ of the bipartite system."
   ]
  },
  {
   "cell_type": "code",
   "execution_count": 5,
   "metadata": {
    "ExecuteTime": {
     "end_time": "2019-02-12T04:47:26.482459Z",
     "start_time": "2019-02-12T04:47:26.472974Z"
    },
    "attributes": {
     "classes": [],
     "id": "",
     "n": "7"
    },
    "execution": {
     "iopub.execute_input": "2024-06-03T14:27:46.048337Z",
     "iopub.status.busy": "2024-06-03T14:27:46.048246Z",
     "iopub.status.idle": "2024-06-03T14:27:46.050395Z",
     "shell.execute_reply": "2024-06-03T14:27:46.050181Z"
    }
   },
   "outputs": [],
   "source": [
    "def trace_TLS(rho):\n",
    "    \"\"\"Partial trace over the TLS degrees of freedom\"\"\"\n",
    "    rho_q = np.zeros(shape=(2, 2), dtype=np.complex_)\n",
    "    rho_q[0, 0] = rho[0, 0] + rho[1, 1]\n",
    "    rho_q[0, 1] = rho[0, 2] + rho[1, 3]\n",
    "    rho_q[1, 0] = rho[2, 0] + rho[3, 1]\n",
    "    rho_q[1, 1] = rho[2, 2] + rho[3, 3]\n",
    "    return qutip.Qobj(rho_q)"
   ]
  },
  {
   "cell_type": "markdown",
   "metadata": {},
   "source": [
    "The target state is (temporarily) the ground state of the bipartite system,\n",
    "i.e., $\\op{\\rho}_{\\tgt} = \\ket{00}\\bra{00}$. Note that in the end we will only\n",
    "optimize the reduced state of the qubit."
   ]
  },
  {
   "cell_type": "code",
   "execution_count": 6,
   "metadata": {
    "ExecuteTime": {
     "end_time": "2019-02-12T04:47:26.496869Z",
     "start_time": "2019-02-12T04:47:26.485940Z"
    },
    "attributes": {
     "classes": [],
     "id": "",
     "n": "8"
    },
    "execution": {
     "iopub.execute_input": "2024-06-03T14:27:46.051684Z",
     "iopub.status.busy": "2024-06-03T14:27:46.051603Z",
     "iopub.status.idle": "2024-06-03T14:27:46.053489Z",
     "shell.execute_reply": "2024-06-03T14:27:46.053291Z"
    }
   },
   "outputs": [],
   "source": [
    "rho_q_trg = np.diag([1, 0])\n",
    "rho_T_trg = np.diag([1, 0])\n",
    "rho_trg = np.kron(rho_q_trg, rho_T_trg)\n",
    "rho_trg = qutip.Qobj(rho_trg)"
   ]
  },
  {
   "cell_type": "markdown",
   "metadata": {},
   "source": [
    "Next, the list of `objectives` is defined, which contains the initial and target\n",
    "state and the Liouvillian $\\Liouville(t)$ that determines the system dynamics."
   ]
  },
  {
   "cell_type": "code",
   "execution_count": 7,
   "metadata": {
    "ExecuteTime": {
     "end_time": "2019-02-12T04:47:26.506011Z",
     "start_time": "2019-02-12T04:47:26.501241Z"
    },
    "attributes": {
     "classes": [],
     "id": "",
     "n": "9"
    },
    "execution": {
     "iopub.execute_input": "2024-06-03T14:27:46.054823Z",
     "iopub.status.busy": "2024-06-03T14:27:46.054739Z",
     "iopub.status.idle": "2024-06-03T14:27:46.058150Z",
     "shell.execute_reply": "2024-06-03T14:27:46.057884Z"
    }
   },
   "outputs": [
    {
     "data": {
      "text/plain": [
       "[Objective[ρ₀[4,4] to ρ₁[4,4] via [𝓛₀[[4,4],[4,4]], [𝓛₁[[4,4],[4,4]], u₁(t)]]]]"
      ]
     },
     "execution_count": 7,
     "metadata": {},
     "output_type": "execute_result"
    }
   ],
   "source": [
    "objectives = [krotov.Objective(initial_state=rho_th, target=rho_trg, H=L)]\n",
    "objectives"
   ]
  },
  {
   "cell_type": "markdown",
   "metadata": {},
   "source": [
    "In the following, we define the shape function $S(t)$, which we use in order to\n",
    "ensure a smooth switch on and off in the beginning and end. Note that at times\n",
    "$t$ where $S(t)$ vanishes, the updates of the field is suppressed."
   ]
  },
  {
   "cell_type": "code",
   "execution_count": 8,
   "metadata": {
    "ExecuteTime": {
     "end_time": "2019-02-12T04:47:26.514731Z",
     "start_time": "2019-02-12T04:47:26.508936Z"
    },
    "attributes": {
     "classes": [],
     "id": "",
     "n": "10"
    },
    "execution": {
     "iopub.execute_input": "2024-06-03T14:27:46.059506Z",
     "iopub.status.busy": "2024-06-03T14:27:46.059411Z",
     "iopub.status.idle": "2024-06-03T14:27:46.061166Z",
     "shell.execute_reply": "2024-06-03T14:27:46.060923Z"
    }
   },
   "outputs": [],
   "source": [
    "def S(t):\n",
    "    \"\"\"Shape function for the field update\"\"\"\n",
    "    return krotov.shapes.flattop(\n",
    "        t, t_start=0, t_stop=T, t_rise=0.05 * T, t_fall=0.05 * T, func='sinsq'\n",
    "    )"
   ]
  },
  {
   "cell_type": "markdown",
   "metadata": {},
   "source": [
    "We re-use this function to also shape the guess control $\\epsilon_{0}(t)$ to be\n",
    "zero at $t=0$ and $t=T$. This is on top of the originally defined constant\n",
    "value shifting the qubit and TLS into resonance."
   ]
  },
  {
   "cell_type": "code",
   "execution_count": 9,
   "metadata": {
    "ExecuteTime": {
     "end_time": "2019-02-12T04:47:26.524627Z",
     "start_time": "2019-02-12T04:47:26.517577Z"
    },
    "attributes": {
     "classes": [],
     "id": "",
     "n": "11"
    },
    "execution": {
     "iopub.execute_input": "2024-06-03T14:27:46.062393Z",
     "iopub.status.busy": "2024-06-03T14:27:46.062320Z",
     "iopub.status.idle": "2024-06-03T14:27:46.064439Z",
     "shell.execute_reply": "2024-06-03T14:27:46.063910Z"
    }
   },
   "outputs": [],
   "source": [
    "def shape_field(eps0):\n",
    "    \"\"\"Applies the shape function S(t) to the guess field\"\"\"\n",
    "    eps0_shaped = lambda t, args: eps0(t, args) * S(t)\n",
    "    return eps0_shaped\n",
    "\n",
    "\n",
    "L[1][1] = shape_field(L[1][1])"
   ]
  },
  {
   "cell_type": "markdown",
   "metadata": {},
   "source": [
    "At last, before heading to the actual optimization below, we assign the shape\n",
    "function $S(t)$ to the OCT parameters of the control and choose `lambda_a`, a\n",
    "numerical parameter that controls the field update magnitude in each iteration."
   ]
  },
  {
   "cell_type": "code",
   "execution_count": 10,
   "metadata": {
    "execution": {
     "iopub.execute_input": "2024-06-03T14:27:46.066273Z",
     "iopub.status.busy": "2024-06-03T14:27:46.066158Z",
     "iopub.status.idle": "2024-06-03T14:27:46.067792Z",
     "shell.execute_reply": "2024-06-03T14:27:46.067560Z"
    }
   },
   "outputs": [],
   "source": [
    "pulse_options = {L[1][1]: dict(lambda_a=0.1, update_shape=S)}"
   ]
  },
  {
   "cell_type": "markdown",
   "metadata": {},
   "source": [
    "## Simulate the dynamics of the guess field\n"
   ]
  },
  {
   "cell_type": "code",
   "execution_count": 11,
   "metadata": {
    "execution": {
     "iopub.execute_input": "2024-06-03T14:27:46.069225Z",
     "iopub.status.busy": "2024-06-03T14:27:46.069145Z",
     "iopub.status.idle": "2024-06-03T14:27:46.070811Z",
     "shell.execute_reply": "2024-06-03T14:27:46.070612Z"
    }
   },
   "outputs": [],
   "source": [
    "tlist = np.linspace(0, T, nt)"
   ]
  },
  {
   "cell_type": "code",
   "execution_count": 12,
   "metadata": {
    "ExecuteTime": {
     "end_time": "2019-02-12T04:47:26.545108Z",
     "start_time": "2019-02-12T04:47:26.537953Z"
    },
    "attributes": {
     "classes": [],
     "id": "",
     "n": "13"
    },
    "execution": {
     "iopub.execute_input": "2024-06-03T14:27:46.072118Z",
     "iopub.status.busy": "2024-06-03T14:27:46.072001Z",
     "iopub.status.idle": "2024-06-03T14:27:46.074152Z",
     "shell.execute_reply": "2024-06-03T14:27:46.073905Z"
    }
   },
   "outputs": [],
   "source": [
    "def plot_pulse(pulse, tlist):\n",
    "    fig, ax = plt.subplots()\n",
    "    if callable(pulse):\n",
    "        pulse = np.array([pulse(t, args=None) for t in tlist])\n",
    "    ax.plot(tlist, pulse)\n",
    "    ax.set_xlabel('time')\n",
    "    ax.set_ylabel('pulse amplitude')\n",
    "    plt.show(fig)"
   ]
  },
  {
   "cell_type": "markdown",
   "metadata": {},
   "source": [
    "The following plot shows the guess field $\\epsilon_{0}(t)$ as a constant that\n",
    "puts qubit and TLS into resonance, but with a smooth switch-on and switch-off."
   ]
  },
  {
   "cell_type": "code",
   "execution_count": 13,
   "metadata": {
    "ExecuteTime": {
     "end_time": "2019-02-12T04:47:26.773279Z",
     "start_time": "2019-02-12T04:47:26.547926Z"
    },
    "attributes": {
     "classes": [],
     "id": "",
     "n": "14"
    },
    "execution": {
     "iopub.execute_input": "2024-06-03T14:27:46.075405Z",
     "iopub.status.busy": "2024-06-03T14:27:46.075326Z",
     "iopub.status.idle": "2024-06-03T14:27:46.169070Z",
     "shell.execute_reply": "2024-06-03T14:27:46.168707Z"
    }
   },
   "outputs": [
    {
     "data": {
      "image/png": "[encoded data removed]",
      "text/plain": [
       "<Figure size 640x480 with 1 Axes>"
      ]
     },
     "metadata": {},
     "output_type": "display_data"
    }
   ],
   "source": [
    "plot_pulse(L[1][1], tlist)"
   ]
  },
  {
   "cell_type": "markdown",
   "metadata": {},
   "source": [
    "We solve the equation of motion for this guess field, storing the expectation\n",
    "values for the population in the bipartite levels:\n"
   ]
  },
  {
   "cell_type": "code",
   "execution_count": 14,
   "metadata": {
    "execution": {
     "iopub.execute_input": "2024-06-03T14:27:46.174207Z",
     "iopub.status.busy": "2024-06-03T14:27:46.173948Z",
     "iopub.status.idle": "2024-06-03T14:27:46.182369Z",
     "shell.execute_reply": "2024-06-03T14:27:46.181589Z"
    }
   },
   "outputs": [],
   "source": [
    "psi00 = qutip.Qobj(np.kron(np.array([1,0]), np.array([1,0])))\n",
    "psi01 = qutip.Qobj(np.kron(np.array([1,0]), np.array([0,1])))\n",
    "psi10 = qutip.Qobj(np.kron(np.array([0,1]), np.array([1,0])))\n",
    "psi11 = qutip.Qobj(np.kron(np.array([0,1]), np.array([0,1])))\n",
    "proj_00 = qutip.ket2dm(psi00)\n",
    "proj_01 = qutip.ket2dm(psi01)\n",
    "proj_10 = qutip.ket2dm(psi10)\n",
    "proj_11 = qutip.ket2dm(psi11)"
   ]
  },
  {
   "cell_type": "code",
   "execution_count": 15,
   "metadata": {
    "ExecuteTime": {
     "end_time": "2019-02-12T04:47:26.872504Z",
     "start_time": "2019-02-12T04:47:26.775372Z"
    },
    "attributes": {
     "classes": [],
     "id": "",
     "n": "15"
    },
    "execution": {
     "iopub.execute_input": "2024-06-03T14:27:46.188678Z",
     "iopub.status.busy": "2024-06-03T14:27:46.188498Z",
     "iopub.status.idle": "2024-06-03T14:27:46.233985Z",
     "shell.execute_reply": "2024-06-03T14:27:46.226614Z"
    }
   },
   "outputs": [],
   "source": [
    "guess_dynamics = objectives[0].mesolve(\n",
    "    tlist, e_ops=[proj_00, proj_01, proj_10, proj_11]\n",
    ")"
   ]
  },
  {
   "cell_type": "code",
   "execution_count": 16,
   "metadata": {
    "ExecuteTime": {
     "end_time": "2019-02-12T04:47:27.116092Z",
     "start_time": "2019-02-12T04:47:26.874340Z"
    },
    "attributes": {
     "classes": [],
     "id": "",
     "n": "16"
    },
    "execution": {
     "iopub.execute_input": "2024-06-03T14:27:46.236709Z",
     "iopub.status.busy": "2024-06-03T14:27:46.236564Z",
     "iopub.status.idle": "2024-06-03T14:27:46.355393Z",
     "shell.execute_reply": "2024-06-03T14:27:46.354576Z"
    }
   },
   "outputs": [
    {
     "data": {
      "image/png": "[encoded data removed]",
      "text/plain": [
       "<Figure size 640x480 with 1 Axes>"
      ]
     },
     "metadata": {},
     "output_type": "display_data"
    }
   ],
   "source": [
    "def plot_population(result):\n",
    "    fig, ax = plt.subplots()\n",
    "    ax.plot(\n",
    "        result.times,\n",
    "        np.array(result.expect[0]) + np.array(result.expect[1]),\n",
    "        label='qubit 0',\n",
    "    )\n",
    "    ax.plot(\n",
    "        result.times,\n",
    "        np.array(result.expect[0]) + np.array(result.expect[2]),\n",
    "        label='TLS 0',\n",
    "    )\n",
    "    p0_TLS_init = np.array(result.expect[0][0]) + np.array(result.expect[2][0])\n",
    "    ax.legend()\n",
    "    ax.axhline(p0_TLS_init, ls=\":\", c='gray')\n",
    "    ax.set_xlabel('time')\n",
    "    ax.set_ylabel('population')\n",
    "    plt.show(fig)\n",
    "\n",
    "\n",
    "plot_population(guess_dynamics)"
   ]
  },
  {
   "cell_type": "markdown",
   "metadata": {},
   "source": [
    "The population dynamics of qubit and TLS ground state show that\n",
    "both are oscillating and especially the qubit's ground state population reaches\n",
    "a maximal value at intermediate times $t < T$. This maximum is indeed the\n",
    "maximum that is physically possible. It corresponds to a perfect swap of\n",
    "the initial qubit and TLS purities. However, we want to reach this maximum at\n",
    "final time $T$ (not before), so the guess control is not yet working as desired."
   ]
  },
  {
   "cell_type": "markdown",
   "metadata": {},
   "source": [
    "## Optimize"
   ]
  },
  {
   "cell_type": "markdown",
   "metadata": {},
   "source": [
    "Our optimization target is the ground state $\\ket{\\Psi_{q}^{\\tgt}}\n",
    "= \\ket{0}$ of the qubit, irrespective of the state of the TLS. Thus, our\n",
    "optimization functional reads\n",
    "\n",
    "$$\n",
    "  J_T = 1 -\n",
    "\\Braket{\\Psi_{q}^{\\tgt}}{\\tr_{t}\\{\\op{\\rho}(T)\\} \\,|\\; \\Psi_{q}^{\\tgt}}\\,,\n",
    "$$\n",
    "\n",
    "and we first define `print_qubit_error`, which prints out the\n",
    "above functional after each iteration.\n"
   ]
  },
  {
   "cell_type": "code",
   "execution_count": 17,
   "metadata": {
    "ExecuteTime": {
     "end_time": "2019-02-12T04:47:27.124250Z",
     "start_time": "2019-02-12T04:47:27.118668Z"
    },
    "execution": {
     "iopub.execute_input": "2024-06-03T14:27:46.357352Z",
     "iopub.status.busy": "2024-06-03T14:27:46.357219Z",
     "iopub.status.idle": "2024-06-03T14:27:46.359780Z",
     "shell.execute_reply": "2024-06-03T14:27:46.359366Z"
    }
   },
   "outputs": [],
   "source": [
    "def print_qubit_error(**args):\n",
    "    \"\"\"Utility function writing the qubit error to screen\"\"\"\n",
    "    taus = []\n",
    "    for state_T in args['fw_states_T']:\n",
    "        state_q_T = trace_TLS(state_T)\n",
    "        taus.append(state_q_T[0, 0].real)\n",
    "    J_T = 1 - np.average(taus)\n",
    "    print(\"    qubit error: %.1e\" % J_T)\n",
    "    return J_T"
   ]
  },
  {
   "cell_type": "markdown",
   "metadata": {},
   "source": [
    "In order to minimize the above functional, we need to provide the correct\n",
    "`chi_constructor` for the Krotov optimization. This is the only place where the\n",
    "functional (implicitly) enters the optimization.\n",
    "Given our bipartite system and choice of $J_T$, the equation for\n",
    "$\\op{\\chi}(T)$ reads\n",
    "\n",
    "$$\n",
    "  \\op{\\chi}(T)\n",
    "  =\n",
    "  \\frac{1}{2} \\ket{\\Psi_{q}^{\\tgt}} \\bra{\\Psi_{q}^{\\tgt}} \\otimes \\op{1}_{2}\n",
    "  =\n",
    "  \\frac{1}{2} \\ket{00}\\bra{00} + \\frac{1}{2} \\ket{01}\\bra{01}.\n",
    "$$"
   ]
  },
  {
   "cell_type": "code",
   "execution_count": 18,
   "metadata": {
    "ExecuteTime": {
     "end_time": "2019-02-12T04:47:27.144420Z",
     "start_time": "2019-02-12T04:47:27.132277Z"
    },
    "attributes": {
     "classes": [],
     "id": "",
     "n": "18"
    },
    "execution": {
     "iopub.execute_input": "2024-06-03T14:27:46.361247Z",
     "iopub.status.busy": "2024-06-03T14:27:46.361152Z",
     "iopub.status.idle": "2024-06-03T14:27:46.363293Z",
     "shell.execute_reply": "2024-06-03T14:27:46.363069Z"
    }
   },
   "outputs": [],
   "source": [
    "def chis_qubit(fw_states_T, objectives, tau_vals):\n",
    "    \"\"\"Calculate chis for the chosen functional\"\"\"\n",
    "    chis = []\n",
    "    for state_i_T in fw_states_T:\n",
    "        chi_i = qutip.Qobj(np.kron(rho_q_trg, np.diag([1, 1])))\n",
    "        chis.append(chi_i)\n",
    "    return chis"
   ]
  },
  {
   "cell_type": "markdown",
   "metadata": {},
   "source": [
    "We now carry out the optimization for five iterations."
   ]
  },
  {
   "cell_type": "code",
   "execution_count": 19,
   "metadata": {
    "execution": {
     "iopub.execute_input": "2024-06-03T14:27:46.364685Z",
     "iopub.status.busy": "2024-06-03T14:27:46.364602Z",
     "iopub.status.idle": "2024-06-03T14:27:49.835176Z",
     "shell.execute_reply": "2024-06-03T14:27:49.834803Z"
    }
   },
   "outputs": [
    {
     "name": "stdout",
     "output_type": "stream",
     "text": [
      "Iteration 0\n",
      "    objectives:\n",
      "        1:ρ₀[4,4] to ρ₁[4,4] via [𝓛₀[[4,4],[4,4]], [𝓛₁[[4,4],[4,4]], u₂(t)]]\n",
      "    adjoint objectives:\n",
      "        1:ρ₂[4,4] to ρ₃[4,4] via [𝓛₂[[4,4],[4,4]], [𝓛₃[[4,4],[4,4]], u₂(t)]]\n",
      "    chi_constructor: chis_qubit\n",
      "    mu: derivative_wrt_pulse\n",
      "    S(t) (ranges): [0.000000, 1.000000]\n",
      "    iter_start: 0\n",
      "    iter_stop: 5\n",
      "    duration: 0.1 secs (started at 2024-06-03 10:27:46)\n",
      "    optimized pulses (ranges): [0.00, 2.00]\n",
      "    ∫gₐ(t)dt: 0.00e+00\n",
      "    λₐ: 1.00e-01\n",
      "    storage (bw, fw, fw0): None, None, None\n",
      "    fw_states_T norm: 1.000000\n",
      "    τ: (7.97e-01:0.00π)\n"
     ]
    },
    {
     "name": "stdout",
     "output_type": "stream",
     "text": [
      "    qubit error: 1.1e-01\n"
     ]
    },
    {
     "name": "stdout",
     "output_type": "stream",
     "text": [
      "Iteration 1\n",
      "    duration: 0.6 secs (started at 2024-06-03 10:27:46)\n",
      "    optimized pulses (ranges): [0.00, 2.06]\n",
      "    ∫gₐ(t)dt: 8.64e-03\n",
      "    λₐ: 1.00e-01\n",
      "    storage (bw, fw, fw0): [1 * ndarray(2500)] (1.1 MB), None, None\n",
      "    fw_states_T norm: 1.000000\n",
      "    τ: (7.98e-01:0.00π)\n"
     ]
    },
    {
     "name": "stdout",
     "output_type": "stream",
     "text": [
      "    qubit error: 1.0e-01\n"
     ]
    },
    {
     "name": "stdout",
     "output_type": "stream",
     "text": [
      "Iteration 2\n",
      "    duration: 0.7 secs (started at 2024-06-03 10:27:47)\n",
      "    optimized pulses (ranges): [0.00, 2.36]\n",
      "    ∫gₐ(t)dt: 4.72e-02\n",
      "    λₐ: 1.00e-01\n",
      "    storage (bw, fw, fw0): [1 * ndarray(2500)] (1.1 MB), None, None\n",
      "    fw_states_T norm: 1.000000\n",
      "    τ: (7.92e-01:0.00π)\n"
     ]
    },
    {
     "name": "stdout",
     "output_type": "stream",
     "text": [
      "    qubit error: 5.5e-02\n"
     ]
    },
    {
     "name": "stdout",
     "output_type": "stream",
     "text": [
      "Iteration 3\n",
      "    duration: 0.7 secs (started at 2024-06-03 10:27:47)\n",
      "    optimized pulses (ranges): [0.00, 2.44]\n",
      "    ∫gₐ(t)dt: 6.88e-03\n",
      "    λₐ: 1.00e-01\n",
      "    storage (bw, fw, fw0): [1 * ndarray(2500)] (1.1 MB), None, None\n",
      "    fw_states_T norm: 1.000000\n",
      "    τ: (7.76e-01:0.00π)\n"
     ]
    },
    {
     "name": "stdout",
     "output_type": "stream",
     "text": [
      "    qubit error: 4.8e-02\n",
      "Iteration 4\n",
      "    duration: 0.7 secs (started at 2024-06-03 10:27:48)\n",
      "    optimized pulses (ranges): [0.00, 2.42]\n",
      "    ∫gₐ(t)dt: 7.33e-04\n",
      "    λₐ: 1.00e-01\n",
      "    storage (bw, fw, fw0): [1 * ndarray(2500)] (1.1 MB), None, None\n",
      "    fw_states_T norm: 1.000000\n",
      "    τ: (7.82e-01:0.00π)\n"
     ]
    },
    {
     "name": "stdout",
     "output_type": "stream",
     "text": [
      "    qubit error: 4.8e-02\n"
     ]
    },
    {
     "name": "stdout",
     "output_type": "stream",
     "text": [
      "Iteration 5\n",
      "    duration: 0.7 secs (started at 2024-06-03 10:27:49)\n",
      "    optimized pulses (ranges): [0.00, 2.43]\n",
      "    ∫gₐ(t)dt: 1.23e-04\n",
      "    λₐ: 1.00e-01\n",
      "    storage (bw, fw, fw0): [1 * ndarray(2500)] (1.1 MB), None, None\n",
      "    fw_states_T norm: 1.000000\n",
      "    τ: (7.80e-01:0.00π)\n"
     ]
    },
    {
     "name": "stdout",
     "output_type": "stream",
     "text": [
      "    qubit error: 4.7e-02\n"
     ]
    }
   ],
   "source": [
    "# NBVAL_IGNORE_OUTPUT\n",
    "# the DensityMatrixODEPropagator is not sufficiently exact to guarantee that\n",
    "# you won't get slightly different results in the optimization when\n",
    "# running this on different systems\n",
    "opt_result = krotov.optimize_pulses(\n",
    "    objectives,\n",
    "    pulse_options,\n",
    "    tlist,\n",
    "    propagator=krotov.propagators.DensityMatrixODEPropagator(\n",
    "        atol=1e-10, rtol=1e-8\n",
    "    ),\n",
    "    chi_constructor=chis_qubit,\n",
    "    info_hook=krotov.info_hooks.chain(\n",
    "        krotov.info_hooks.print_debug_information, print_qubit_error\n",
    "    ),\n",
    "    check_convergence=krotov.convergence.check_monotonic_error,\n",
    "    iter_stop=5,\n",
    ")"
   ]
  },
  {
   "cell_type": "code",
   "execution_count": 20,
   "metadata": {
    "attributes": {
     "classes": [],
     "id": "",
     "n": "20"
    },
    "execution": {
     "iopub.execute_input": "2024-06-03T14:27:49.837292Z",
     "iopub.status.busy": "2024-06-03T14:27:49.837153Z",
     "iopub.status.idle": "2024-06-03T14:27:49.839825Z",
     "shell.execute_reply": "2024-06-03T14:27:49.839511Z"
    }
   },
   "outputs": [
    {
     "data": {
      "text/plain": [
       "Krotov Optimization Result\n",
       "--------------------------\n",
       "- Started at 2024-06-03 10:27:46\n",
       "- Number of objectives: 1\n",
       "- Number of iterations: 5\n",
       "- Reason for termination: Reached 5 iterations\n",
       "- Ended at 2024-06-03 10:27:49 (0:00:03)"
      ]
     },
     "execution_count": 20,
     "metadata": {},
     "output_type": "execute_result"
    }
   ],
   "source": [
    "opt_result"
   ]
  },
  {
   "cell_type": "markdown",
   "metadata": {},
   "source": [
    "## Simulate the dynamics of the optimized field"
   ]
  },
  {
   "cell_type": "markdown",
   "metadata": {},
   "source": [
    "The plot of the optimized field shows that the optimization slightly shifts\n",
    "the field such that qubit and TLS are no longer perfectly in resonance."
   ]
  },
  {
   "cell_type": "code",
   "execution_count": 21,
   "metadata": {
    "attributes": {
     "classes": [],
     "id": "",
     "n": "21"
    },
    "execution": {
     "iopub.execute_input": "2024-06-03T14:27:49.841504Z",
     "iopub.status.busy": "2024-06-03T14:27:49.841391Z",
     "iopub.status.idle": "2024-06-03T14:27:49.897493Z",
     "shell.execute_reply": "2024-06-03T14:27:49.897183Z"
    }
   },
   "outputs": [
    {
     "data": {
      "image/png": "[encoded data removed]",
      "text/plain": [
       "<Figure size 640x480 with 1 Axes>"
      ]
     },
     "metadata": {},
     "output_type": "display_data"
    }
   ],
   "source": [
    "plot_pulse(opt_result.optimized_controls[0], tlist)"
   ]
  },
  {
   "cell_type": "markdown",
   "metadata": {},
   "source": [
    "This slight shift of qubit and TLS out of resonance delays the population\n",
    "oscillations between qubit and TLS ground state such that the qubit ground\n",
    "state is maximally populated at final time $T$."
   ]
  },
  {
   "cell_type": "code",
   "execution_count": 22,
   "metadata": {
    "attributes": {
     "classes": [],
     "id": "",
     "n": "22"
    },
    "execution": {
     "iopub.execute_input": "2024-06-03T14:27:49.899157Z",
     "iopub.status.busy": "2024-06-03T14:27:49.898997Z",
     "iopub.status.idle": "2024-06-03T14:27:49.997285Z",
     "shell.execute_reply": "2024-06-03T14:27:49.996999Z"
    }
   },
   "outputs": [
    {
     "data": {
      "image/png": "[encoded data removed]",
      "text/plain": [
       "<Figure size 640x480 with 1 Axes>"
      ]
     },
     "metadata": {},
     "output_type": "display_data"
    }
   ],
   "source": [
    "optimized_dynamics = opt_result.optimized_objectives[0].mesolve(\n",
    "    tlist, e_ops=[proj_00, proj_01, proj_10, proj_11]\n",
    ")\n",
    "\n",
    "plot_population(optimized_dynamics)"
   ]
  }
 ],
 "metadata": {
  "hide_input": false,
  "jupytext": {
   "formats": ""
  },
  "kernelspec": {
   "display_name": "Python 3 (ipykernel)",
   "language": "python",
   "name": "python3"
  },
  "language_info": {
   "codemirror_mode": {
    "name": "ipython",
    "version": 3
   },
   "file_extension": ".py",
   "mimetype": "text/x-python",
   "name": "python",
   "nbconvert_exporter": "python",
   "pygments_lexer": "ipython3",
   "version": "3.12.0"
  },
  "toc": {
   "base_numbering": 1,
   "nav_menu": {},
   "number_sections": true,
   "sideBar": true,
   "skip_h1_title": false,
   "title_cell": "Table of Contents",
   "title_sidebar": "Contents",
   "toc_cell": false,
   "toc_position": {},
   "toc_section_display": true,
   "toc_window_display": false
  },
  "varInspector": {
   "cols": {
    "lenName": 16,
    "lenType": 16,
    "lenVar": 40
   },
   "kernels_config": {
    "python": {
     "delete_cmd_postfix": "",
     "delete_cmd_prefix": "del ",
     "library": "var_list.py",
     "varRefreshCmd": "print(var_dic_list())"
    },
    "r": {
     "delete_cmd_postfix": ") ",
     "delete_cmd_prefix": "rm(",
     "library": "var_list.r",
     "varRefreshCmd": "cat(var_dic_list()) "
    }
   },
   "types_to_exclude": [
    "module",
    "function",
    "builtin_function_or_method",
    "instance",
    "_Feature"
   ],
   "window_display": false
  }
 },
 "nbformat": 4,
 "nbformat_minor": 4
}
