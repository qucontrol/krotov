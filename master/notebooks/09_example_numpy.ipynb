{
 "cells": [
  {
   "cell_type": "markdown",
   "metadata": {},
   "source": [
    "# Optimization with numpy Arrays"
   ]
  },
  {
   "cell_type": "code",
   "execution_count": 1,
   "metadata": {
    "ExecuteTime": {
     "end_time": "2020-03-24T21:13:40.844567Z",
     "start_time": "2020-03-24T21:13:38.850353Z"
    },
    "attributes": {
     "classes": [],
     "id": "",
     "n": "1"
    },
    "execution": {
     "iopub.execute_input": "2024-06-03T10:32:09.544235Z",
     "iopub.status.busy": "2024-06-03T10:32:09.544062Z",
     "iopub.status.idle": "2024-06-03T10:32:10.077876Z",
     "shell.execute_reply": "2024-06-03T10:32:10.077317Z"
    }
   },
   "outputs": [
    {
     "name": "stdout",
     "output_type": "stream",
     "text": [
      "Python implementation: CPython\n",
      "Python version       : 3.8.16\n",
      "IPython version      : 8.12.3\n",
      "\n",
      "krotov    : 1.3.0\n",
      "scipy     : 1.10.1\n",
      "matplotlib: 3.7.5\n",
      "numpy     : 1.24.4\n",
      "\n"
     ]
    }
   ],
   "source": [
    "# NBVAL_IGNORE_OUTPUT\n",
    "%load_ext watermark\n",
    "import numpy as np\n",
    "import scipy\n",
    "import matplotlib\n",
    "import matplotlib.pylab as plt\n",
    "import krotov\n",
    "# note that qutip is NOT imported\n",
    "%watermark -v --iversions"
   ]
  },
  {
   "cell_type": "markdown",
   "metadata": {},
   "source": [
    "$\\newcommand{tr}[0]{\\operatorname{tr}}\n",
    "\\newcommand{diag}[0]{\\operatorname{diag}}\n",
    "\\newcommand{abs}[0]{\\operatorname{abs}}\n",
    "\\newcommand{pop}[0]{\\operatorname{pop}}\n",
    "\\newcommand{aux}[0]{\\text{aux}}\n",
    "\\newcommand{opt}[0]{\\text{opt}}\n",
    "\\newcommand{tgt}[0]{\\text{tgt}}\n",
    "\\newcommand{init}[0]{\\text{init}}\n",
    "\\newcommand{lab}[0]{\\text{lab}}\n",
    "\\newcommand{rwa}[0]{\\text{rwa}}\n",
    "\\newcommand{bra}[1]{\\langle#1\\vert}\n",
    "\\newcommand{ket}[1]{\\vert#1\\rangle}\n",
    "\\newcommand{Bra}[1]{\\left\\langle#1\\right\\vert}\n",
    "\\newcommand{Ket}[1]{\\left\\vert#1\\right\\rangle}\n",
    "\\newcommand{Braket}[2]{\\left\\langle #1\\vphantom{#2} \\mid\n",
    "#2\\vphantom{#1}\\right\\rangle}\n",
    "\\newcommand{op}[1]{\\hat{#1}}\n",
    "\\newcommand{Op}[1]{\\hat{#1}}\n",
    "\\newcommand{dd}[0]{\\,\\text{d}}\n",
    "\\newcommand{Liouville}[0]{\\mathcal{L}}\n",
    "\\newcommand{DynMap}[0]{\\mathcal{E}}\n",
    "\\newcommand{identity}[0]{\\mathbf{1}}\n",
    "\\newcommand{Norm}[1]{\\lVert#1\\rVert}\n",
    "\\newcommand{Abs}[1]{\\left\\vert#1\\right\\vert}\n",
    "\\newcommand{avg}[1]{\\langle#1\\rangle}\n",
    "\\newcommand{Avg}[1]{\\left\\langle#1\\right\\rangle}\n",
    "\\newcommand{AbsSq}[1]{\\left\\vert#1\\right\\vert^2}\n",
    "\\newcommand{Re}[0]{\\operatorname{Re}}\n",
    "\\newcommand{Im}[0]{\\operatorname{Im}}$"
   ]
  },
  {
   "cell_type": "markdown",
   "metadata": {},
   "source": [
    "The `krotov` package heavily builds on QuTiP. However, in rare circumstances\n",
    "the overhead of `qutip.Qobj` objects might limit numerical efficiency, in\n",
    "particular when QuTiP's automatic sparse storage is inappropriate. If you know\n",
    "what you are doing, it is possible to replace `Qobj`s with low-level objects\n",
    "such as numpy arrays.  This example revisits the [Optimization of a\n",
    "State-to-State Transfer in a Two-Level-System](01_example_simple_state_to_state.ipynb),\n",
    "but exclusively uses numpy objects for states and operators."
   ]
  },
  {
   "cell_type": "markdown",
   "metadata": {},
   "source": [
    "## Two-level-Hamiltonian"
   ]
  },
  {
   "cell_type": "markdown",
   "metadata": {},
   "source": [
    "We consider again the standard Hamiltonian of a two-level system, but now we\n",
    "construct the drift Hamiltonian `H0` and the control Hamiltonian `H1` as numpy\n",
    "matrices:"
   ]
  },
  {
   "cell_type": "code",
   "execution_count": 2,
   "metadata": {
    "ExecuteTime": {
     "end_time": "2020-03-24T21:13:40.862100Z",
     "start_time": "2020-03-24T21:13:40.847535Z"
    },
    "execution": {
     "iopub.execute_input": "2024-06-03T10:32:10.107387Z",
     "iopub.status.busy": "2024-06-03T10:32:10.107103Z",
     "iopub.status.idle": "2024-06-03T10:32:10.111392Z",
     "shell.execute_reply": "2024-06-03T10:32:10.110906Z"
    }
   },
   "outputs": [],
   "source": [
    "def hamiltonian(omega=1.0, ampl0=0.2):\n",
    "    \"\"\"Two-level-system Hamiltonian\n",
    "\n",
    "    Args:\n",
    "        omega (float): energy separation of the qubit levels\n",
    "        ampl0 (float): constant amplitude of the driving field\n",
    "    \"\"\"\n",
    "    H0 = -0.5 * omega * np.array([[1, 0], [0, -1]], dtype=np.complex128)\n",
    "    H1 = np.array([[0, 1], [1, 0]], dtype=np.complex128)\n",
    "\n",
    "    def guess_control(t, args):\n",
    "        return ampl0 * krotov.shapes.flattop(\n",
    "            t, t_start=0, t_stop=5, t_rise=0.3, func=\"blackman\"\n",
    "        )\n",
    "\n",
    "    return [H0, [H1, guess_control]]\n"
   ]
  },
  {
   "cell_type": "code",
   "execution_count": 3,
   "metadata": {
    "ExecuteTime": {
     "end_time": "2020-03-24T21:13:40.872139Z",
     "start_time": "2020-03-24T21:13:40.865354Z"
    },
    "execution": {
     "iopub.execute_input": "2024-06-03T10:32:10.113342Z",
     "iopub.status.busy": "2024-06-03T10:32:10.113151Z",
     "iopub.status.idle": "2024-06-03T10:32:10.115611Z",
     "shell.execute_reply": "2024-06-03T10:32:10.115135Z"
    },
    "lines_to_next_cell": 2
   },
   "outputs": [],
   "source": [
    "H = hamiltonian()"
   ]
  },
  {
   "cell_type": "markdown",
   "metadata": {},
   "source": [
    "## Optimization target\n",
    "\n",
    "By default, the `Objective` initializer checks that the objective is expressed with\n",
    "QuTiP objects. If we want to use low-level objects instead, we have to\n",
    "explicitly disable this:"
   ]
  },
  {
   "cell_type": "code",
   "execution_count": 4,
   "metadata": {
    "ExecuteTime": {
     "end_time": "2020-03-24T21:13:40.880764Z",
     "start_time": "2020-03-24T21:13:40.876732Z"
    },
    "execution": {
     "iopub.execute_input": "2024-06-03T10:32:10.117573Z",
     "iopub.status.busy": "2024-06-03T10:32:10.117415Z",
     "iopub.status.idle": "2024-06-03T10:32:10.119834Z",
     "shell.execute_reply": "2024-06-03T10:32:10.119351Z"
    }
   },
   "outputs": [],
   "source": [
    "krotov.Objective.type_checking = False"
   ]
  },
  {
   "cell_type": "markdown",
   "metadata": {},
   "source": [
    "Now, we initialize the initial and target states,\n"
   ]
  },
  {
   "cell_type": "code",
   "execution_count": 5,
   "metadata": {
    "ExecuteTime": {
     "end_time": "2020-03-24T21:13:40.889029Z",
     "start_time": "2020-03-24T21:13:40.883324Z"
    },
    "execution": {
     "iopub.execute_input": "2024-06-03T10:32:10.121782Z",
     "iopub.status.busy": "2024-06-03T10:32:10.121623Z",
     "iopub.status.idle": "2024-06-03T10:32:10.124415Z",
     "shell.execute_reply": "2024-06-03T10:32:10.123936Z"
    }
   },
   "outputs": [],
   "source": [
    "ket0 = np.array([[1], [0]], dtype=np.complex128)\n",
    "ket1 = np.array([[0], [1]], dtype=np.complex128)"
   ]
  },
  {
   "cell_type": "markdown",
   "metadata": {},
   "source": [
    "and instantiate the `Objective` for the state-to-state transfer:"
   ]
  },
  {
   "cell_type": "code",
   "execution_count": 6,
   "metadata": {
    "ExecuteTime": {
     "end_time": "2020-03-24T21:13:40.902604Z",
     "start_time": "2020-03-24T21:13:40.891777Z"
    },
    "execution": {
     "iopub.execute_input": "2024-06-03T10:32:10.126403Z",
     "iopub.status.busy": "2024-06-03T10:32:10.126212Z",
     "iopub.status.idle": "2024-06-03T10:32:10.131789Z",
     "shell.execute_reply": "2024-06-03T10:32:10.131306Z"
    }
   },
   "outputs": [
    {
     "data": {
      "text/plain": [
       "[Objective[a₀[2,1] to a₁[2,1] via [a₂[2,2], [a₃[2,2], u₁(t)]]]]"
      ]
     },
     "execution_count": 6,
     "metadata": {},
     "output_type": "execute_result"
    }
   ],
   "source": [
    "objectives = [\n",
    "    krotov.Objective(initial_state=ket0, target=ket1, H=H)\n",
    "]\n",
    "\n",
    "objectives"
   ]
  },
  {
   "cell_type": "markdown",
   "metadata": {},
   "source": [
    "Note how all objects are numpy arrays, as indicated by the symbol `a`."
   ]
  },
  {
   "cell_type": "markdown",
   "metadata": {},
   "source": [
    "## Simulate dynamics under the guess field\n",
    "\n",
    "To simulate the dynamics under the guess pulse, we can use the objective's\n",
    "`propagator` method. However, the propagator we use must take into account the\n",
    "format of the states and operators. We define a simple propagator that solve\n",
    "the dynamics within a single time step my matrix exponentiation of the\n",
    "Hamiltonian:"
   ]
  },
  {
   "cell_type": "code",
   "execution_count": 7,
   "metadata": {
    "ExecuteTime": {
     "end_time": "2020-03-24T21:13:40.913174Z",
     "start_time": "2020-03-24T21:13:40.905293Z"
    },
    "execution": {
     "iopub.execute_input": "2024-06-03T10:32:10.133844Z",
     "iopub.status.busy": "2024-06-03T10:32:10.133654Z",
     "iopub.status.idle": "2024-06-03T10:32:10.136951Z",
     "shell.execute_reply": "2024-06-03T10:32:10.136474Z"
    }
   },
   "outputs": [],
   "source": [
    "def expm(H, state, dt, c_ops=None, backwards=False, initialize=False):\n",
    "    eqm_factor = -1j  # factor in front of H on rhs of the equation of motion\n",
    "    if backwards:\n",
    "        eqm_factor = eqm_factor.conjugate()\n",
    "    A = eqm_factor * H[0]\n",
    "    for part in H[1:]:\n",
    "        A += (eqm_factor * part[1]) * part[0]\n",
    "    return scipy.linalg.expm(A * dt) @ state"
   ]
  },
  {
   "cell_type": "markdown",
   "metadata": {},
   "source": [
    "We will want to analyze the population dynamics, and thus define the projectors\n",
    "on the ground and excited levels, again as numpy matrices:\n"
   ]
  },
  {
   "cell_type": "code",
   "execution_count": 8,
   "metadata": {
    "ExecuteTime": {
     "end_time": "2020-03-24T21:13:40.923040Z",
     "start_time": "2020-03-24T21:13:40.917919Z"
    },
    "execution": {
     "iopub.execute_input": "2024-06-03T10:32:10.138951Z",
     "iopub.status.busy": "2024-06-03T10:32:10.138763Z",
     "iopub.status.idle": "2024-06-03T10:32:10.141562Z",
     "shell.execute_reply": "2024-06-03T10:32:10.141086Z"
    }
   },
   "outputs": [],
   "source": [
    "proj0 = np.array([[1, 0],[0, 0]], dtype=np.complex128)\n",
    "proj1 = np.array([[0, 0],[0, 1]], dtype=np.complex128)"
   ]
  },
  {
   "cell_type": "markdown",
   "metadata": {},
   "source": [
    "We will pass these as `e_ops` to the `propagate` method, but since `propagate`\n",
    "assumes that `e_ops` contains `Qobj` instances, we will have to teach it how to\n",
    "calculate expectation values:"
   ]
  },
  {
   "cell_type": "code",
   "execution_count": 9,
   "metadata": {
    "ExecuteTime": {
     "end_time": "2020-03-24T21:13:40.930798Z",
     "start_time": "2020-03-24T21:13:40.926588Z"
    },
    "execution": {
     "iopub.execute_input": "2024-06-03T10:32:10.143527Z",
     "iopub.status.busy": "2024-06-03T10:32:10.143369Z",
     "iopub.status.idle": "2024-06-03T10:32:10.146007Z",
     "shell.execute_reply": "2024-06-03T10:32:10.145531Z"
    }
   },
   "outputs": [],
   "source": [
    "def expect(proj, state):\n",
    "    return complex(state.conj().T @ (proj @ state)).real"
   ]
  },
  {
   "cell_type": "markdown",
   "metadata": {},
   "source": [
    "Now we can simulate the dynamics over a time grid from $t=0$ to $T=5$ and plot\n",
    "the resulting dynamics."
   ]
  },
  {
   "cell_type": "code",
   "execution_count": 10,
   "metadata": {
    "ExecuteTime": {
     "end_time": "2020-03-24T21:13:40.937342Z",
     "start_time": "2020-03-24T21:13:40.933147Z"
    },
    "execution": {
     "iopub.execute_input": "2024-06-03T10:32:10.148001Z",
     "iopub.status.busy": "2024-06-03T10:32:10.147811Z",
     "iopub.status.idle": "2024-06-03T10:32:10.150343Z",
     "shell.execute_reply": "2024-06-03T10:32:10.149867Z"
    }
   },
   "outputs": [],
   "source": [
    "tlist = np.linspace(0, 5, 500)"
   ]
  },
  {
   "cell_type": "code",
   "execution_count": 11,
   "metadata": {
    "ExecuteTime": {
     "end_time": "2020-03-24T21:13:41.170271Z",
     "start_time": "2020-03-24T21:13:40.939839Z"
    },
    "attributes": {
     "classes": [],
     "id": "",
     "n": "12"
    },
    "execution": {
     "iopub.execute_input": "2024-06-03T10:32:10.152322Z",
     "iopub.status.busy": "2024-06-03T10:32:10.152132Z",
     "iopub.status.idle": "2024-06-03T10:32:10.223699Z",
     "shell.execute_reply": "2024-06-03T10:32:10.223236Z"
    }
   },
   "outputs": [],
   "source": [
    "guess_dynamics = objectives[0].propagate(\n",
    "    tlist, propagator=expm, e_ops=[proj0, proj1], expect=expect\n",
    ")"
   ]
  },
  {
   "cell_type": "code",
   "execution_count": 12,
   "metadata": {
    "ExecuteTime": {
     "end_time": "2020-03-24T21:13:41.178342Z",
     "start_time": "2020-03-24T21:13:41.172114Z"
    },
    "attributes": {
     "classes": [],
     "id": "",
     "n": "13"
    },
    "execution": {
     "iopub.execute_input": "2024-06-03T10:32:10.225618Z",
     "iopub.status.busy": "2024-06-03T10:32:10.225388Z",
     "iopub.status.idle": "2024-06-03T10:32:10.228433Z",
     "shell.execute_reply": "2024-06-03T10:32:10.227969Z"
    }
   },
   "outputs": [],
   "source": [
    "def plot_population(result):\n",
    "    fig, ax = plt.subplots()\n",
    "    ax.plot(result.times, result.expect[0], label='0')\n",
    "    ax.plot(result.times, result.expect[1], label='1')\n",
    "    ax.legend()\n",
    "    ax.set_xlabel('time')\n",
    "    ax.set_ylabel('population')\n",
    "    plt.show(fig)"
   ]
  },
  {
   "cell_type": "code",
   "execution_count": 13,
   "metadata": {
    "ExecuteTime": {
     "end_time": "2020-03-24T21:13:41.395497Z",
     "start_time": "2020-03-24T21:13:41.181086Z"
    },
    "attributes": {
     "classes": [],
     "id": "",
     "n": "14"
    },
    "execution": {
     "iopub.execute_input": "2024-06-03T10:32:10.230359Z",
     "iopub.status.busy": "2024-06-03T10:32:10.230203Z",
     "iopub.status.idle": "2024-06-03T10:32:10.377278Z",
     "shell.execute_reply": "2024-06-03T10:32:10.376788Z"
    }
   },
   "outputs": [
    {
     "data": {
      "image/png": "[encoded data removed]",
      "text/plain": [
       "<Figure size 640x480 with 1 Axes>"
      ]
     },
     "metadata": {},
     "output_type": "display_data"
    }
   ],
   "source": [
    "plot_population(guess_dynamics)"
   ]
  },
  {
   "cell_type": "markdown",
   "metadata": {},
   "source": [
    "The result is the same as in the original example.\n",
    "\n",
    "## Optimize\n",
    "\n",
    "First, we define the update shape and step width as before:"
   ]
  },
  {
   "cell_type": "code",
   "execution_count": 14,
   "metadata": {
    "ExecuteTime": {
     "end_time": "2020-03-24T21:13:41.404539Z",
     "start_time": "2020-03-24T21:13:41.397827Z"
    },
    "execution": {
     "iopub.execute_input": "2024-06-03T10:32:10.379362Z",
     "iopub.status.busy": "2024-06-03T10:32:10.379205Z",
     "iopub.status.idle": "2024-06-03T10:32:10.382230Z",
     "shell.execute_reply": "2024-06-03T10:32:10.381780Z"
    }
   },
   "outputs": [],
   "source": [
    "def S(t):\n",
    "    \"\"\"Shape function for the field update\"\"\"\n",
    "    return krotov.shapes.flattop(\n",
    "        t, t_start=0, t_stop=5, t_rise=0.3, t_fall=0.3, func='blackman'\n",
    "    )"
   ]
  },
  {
   "cell_type": "code",
   "execution_count": 15,
   "metadata": {
    "ExecuteTime": {
     "end_time": "2020-03-24T21:13:41.412374Z",
     "start_time": "2020-03-24T21:13:41.406924Z"
    },
    "execution": {
     "iopub.execute_input": "2024-06-03T10:32:10.384142Z",
     "iopub.status.busy": "2024-06-03T10:32:10.383964Z",
     "iopub.status.idle": "2024-06-03T10:32:10.386559Z",
     "shell.execute_reply": "2024-06-03T10:32:10.386109Z"
    }
   },
   "outputs": [],
   "source": [
    "pulse_options = {\n",
    "    H[1][1]: dict(lambda_a=5, update_shape=S)\n",
    "}"
   ]
  },
  {
   "cell_type": "markdown",
   "metadata": {},
   "source": [
    "Now we can run the optimization with only small additional adjustments. This is\n",
    "because Krotov's method internally does very little with the states and\n",
    "operators: nearly all of the numerical effort is in the propagator, which we\n",
    "have already defined above for the specific use of numpy arrays.\n",
    "\n",
    "Beyond this, the optimization only needs to know three things: First, it must\n",
    "know how to calculate and apply the operator $\\partial H/\\partial \\epsilon$. We\n",
    "can easily teach it how to do this:"
   ]
  },
  {
   "cell_type": "code",
   "execution_count": 16,
   "metadata": {
    "ExecuteTime": {
     "end_time": "2020-03-24T21:13:41.423350Z",
     "start_time": "2020-03-24T21:13:41.415715Z"
    },
    "execution": {
     "iopub.execute_input": "2024-06-03T10:32:10.388498Z",
     "iopub.status.busy": "2024-06-03T10:32:10.388350Z",
     "iopub.status.idle": "2024-06-03T10:32:10.391084Z",
     "shell.execute_reply": "2024-06-03T10:32:10.390634Z"
    }
   },
   "outputs": [],
   "source": [
    "def mu(objectives, i_objective, pulses, pulses_mapping, i_pulse, time_index):\n",
    "    def _mu(state):\n",
    "        return H[1][0] @ state\n",
    "    return _mu"
   ]
  },
  {
   "cell_type": "markdown",
   "metadata": {},
   "source": [
    "Second, the pulse updates are calculated from an overlap of states, and we\n",
    "define an appropriate function for numpy arrays:"
   ]
  },
  {
   "cell_type": "code",
   "execution_count": 17,
   "metadata": {
    "ExecuteTime": {
     "end_time": "2020-03-24T21:13:41.432372Z",
     "start_time": "2020-03-24T21:13:41.427434Z"
    },
    "execution": {
     "iopub.execute_input": "2024-06-03T10:32:10.393128Z",
     "iopub.status.busy": "2024-06-03T10:32:10.392908Z",
     "iopub.status.idle": "2024-06-03T10:32:10.395372Z",
     "shell.execute_reply": "2024-06-03T10:32:10.394924Z"
    }
   },
   "outputs": [],
   "source": [
    "def overlap(psi1, psi2):\n",
    "    return complex(psi1.conj().T @ psi2)"
   ]
  },
  {
   "cell_type": "markdown",
   "metadata": {},
   "source": [
    "Third, it must know how to calculate the norm of states, for which we can use `np.linalg.norm`."
   ]
  },
  {
   "cell_type": "markdown",
   "metadata": {},
   "source": [
    "By passing all these routines to `optimize_pulses`, we get the exact same\n",
    "results as in the original example, except much faster:"
   ]
  },
  {
   "cell_type": "code",
   "execution_count": 18,
   "metadata": {
    "ExecuteTime": {
     "end_time": "2020-03-24T21:13:45.052773Z",
     "start_time": "2020-03-24T21:13:41.436123Z"
    },
    "attributes": {
     "classes": [],
     "id": "",
     "n": "15"
    },
    "execution": {
     "iopub.execute_input": "2024-06-03T10:32:10.397329Z",
     "iopub.status.busy": "2024-06-03T10:32:10.397181Z",
     "iopub.status.idle": "2024-06-03T10:32:11.392602Z",
     "shell.execute_reply": "2024-06-03T10:32:11.392046Z"
    }
   },
   "outputs": [
    {
     "name": "stdout",
     "output_type": "stream",
     "text": [
      "iter.      J_T    ∫gₐ(t)dt          J       ΔJ_T         ΔJ  secs\n",
      "0     9.51e-01    0.00e+00   9.51e-01        n/a        n/a     0\n"
     ]
    },
    {
     "name": "stdout",
     "output_type": "stream",
     "text": [
      "1     9.24e-01    1.20e-02   9.36e-01  -2.71e-02  -1.50e-02     0\n"
     ]
    },
    {
     "name": "stdout",
     "output_type": "stream",
     "text": [
      "2     8.83e-01    1.83e-02   9.02e-01  -4.11e-02  -2.28e-02     0\n"
     ]
    },
    {
     "name": "stdout",
     "output_type": "stream",
     "text": [
      "3     8.23e-01    2.71e-02   8.50e-01  -6.06e-02  -3.35e-02     0\n"
     ]
    },
    {
     "name": "stdout",
     "output_type": "stream",
     "text": [
      "4     7.37e-01    3.84e-02   7.76e-01  -8.52e-02  -4.68e-02     0\n"
     ]
    },
    {
     "name": "stdout",
     "output_type": "stream",
     "text": [
      "5     6.26e-01    5.07e-02   6.77e-01  -1.11e-01  -6.05e-02     0\n"
     ]
    },
    {
     "name": "stdout",
     "output_type": "stream",
     "text": [
      "6     4.96e-01    6.04e-02   5.56e-01  -1.31e-01  -7.02e-02     0\n"
     ]
    },
    {
     "name": "stdout",
     "output_type": "stream",
     "text": [
      "7     3.62e-01    6.30e-02   4.25e-01  -1.34e-01  -7.09e-02     0\n"
     ]
    },
    {
     "name": "stdout",
     "output_type": "stream",
     "text": [
      "8     2.44e-01    5.65e-02   3.00e-01  -1.18e-01  -6.15e-02     0\n"
     ]
    },
    {
     "name": "stdout",
     "output_type": "stream",
     "text": [
      "9     1.53e-01    4.39e-02   1.97e-01  -9.03e-02  -4.64e-02     0\n"
     ]
    },
    {
     "name": "stdout",
     "output_type": "stream",
     "text": [
      "10    9.20e-02    3.02e-02   1.22e-01  -6.14e-02  -3.12e-02     0\n"
     ]
    }
   ],
   "source": [
    "opt_result = krotov.optimize_pulses(\n",
    "    objectives,\n",
    "    pulse_options=pulse_options,\n",
    "    tlist=tlist,\n",
    "    propagator=expm,\n",
    "    chi_constructor=krotov.functionals.chis_ss,\n",
    "    info_hook=krotov.info_hooks.print_table(J_T=krotov.functionals.J_T_ss),\n",
    "    check_convergence=krotov.convergence.check_monotonic_error,\n",
    "    iter_stop=10,\n",
    "    norm=np.linalg.norm,\n",
    "    mu=mu,\n",
    "    overlap=overlap,\n",
    ")"
   ]
  },
  {
   "cell_type": "code",
   "execution_count": 19,
   "metadata": {
    "ExecuteTime": {
     "end_time": "2020-03-24T21:13:45.060650Z",
     "start_time": "2020-03-24T21:13:45.054855Z"
    },
    "attributes": {
     "classes": [],
     "id": "",
     "n": "16"
    },
    "execution": {
     "iopub.execute_input": "2024-06-03T10:32:11.394706Z",
     "iopub.status.busy": "2024-06-03T10:32:11.394522Z",
     "iopub.status.idle": "2024-06-03T10:32:11.398301Z",
     "shell.execute_reply": "2024-06-03T10:32:11.397920Z"
    }
   },
   "outputs": [
    {
     "data": {
      "text/plain": [
       "Krotov Optimization Result\n",
       "--------------------------\n",
       "- Started at 2024-06-03 12:32:10\n",
       "- Number of objectives: 1\n",
       "- Number of iterations: 10\n",
       "- Reason for termination: Reached 10 iterations\n",
       "- Ended at 2024-06-03 12:32:11 (0:00:01)"
      ]
     },
     "execution_count": 19,
     "metadata": {},
     "output_type": "execute_result"
    }
   ],
   "source": [
    "opt_result"
   ]
  }
 ],
 "metadata": {
  "hide_input": false,
  "kernelspec": {
   "display_name": "Python 3",
   "language": "python",
   "name": "python3"
  },
  "language_info": {
   "codemirror_mode": {
    "name": "ipython",
    "version": 3
   },
   "file_extension": ".py",
   "mimetype": "text/x-python",
   "name": "python",
   "nbconvert_exporter": "python",
   "pygments_lexer": "ipython3",
   "version": "3.8.16"
  },
  "toc": {
   "base_numbering": 1,
   "nav_menu": {},
   "number_sections": true,
   "sideBar": true,
   "skip_h1_title": false,
   "title_cell": "Table of Contents",
   "title_sidebar": "Contents",
   "toc_cell": false,
   "toc_position": {},
   "toc_section_display": true,
   "toc_window_display": false
  },
  "varInspector": {
   "cols": {
    "lenName": 16,
    "lenType": 16,
    "lenVar": 40
   },
   "kernels_config": {
    "python": {
     "delete_cmd_postfix": "",
     "delete_cmd_prefix": "del ",
     "library": "var_list.py",
     "varRefreshCmd": "print(var_dic_list())"
    },
    "r": {
     "delete_cmd_postfix": ") ",
     "delete_cmd_prefix": "rm(",
     "library": "var_list.r",
     "varRefreshCmd": "cat(var_dic_list()) "
    }
   },
   "types_to_exclude": [
    "module",
    "function",
    "builtin_function_or_method",
    "instance",
    "_Feature"
   ],
   "window_display": false
  }
 },
 "nbformat": 4,
 "nbformat_minor": 2
}
