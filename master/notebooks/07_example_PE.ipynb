{
 "cells": [
  {
   "cell_type": "markdown",
   "metadata": {},
   "source": [
    "# Optimization towards a Perfect Entangler"
   ]
  },
  {
   "cell_type": "code",
   "execution_count": 1,
   "metadata": {
    "attributes": {
     "classes": [],
     "id": "",
     "n": "1"
    },
    "execution": {
     "iopub.execute_input": "2024-06-03T14:32:25.187140Z",
     "iopub.status.busy": "2024-06-03T14:32:25.186638Z",
     "iopub.status.idle": "2024-06-03T14:32:25.737586Z",
     "shell.execute_reply": "2024-06-03T14:32:25.737321Z"
    }
   },
   "outputs": [
    {
     "name": "stdout",
     "output_type": "stream",
     "text": [
      "Python implementation: CPython\n",
      "Python version       : 3.12.0\n",
      "IPython version      : 8.25.0\n",
      "\n",
      "scipy      : 1.12.0\n",
      "qutip      : 4.7.6\n",
      "krotov     : 1.3.0+dev\n",
      "weylchamber: 0.4.0\n",
      "matplotlib : 3.7.5\n",
      "numpy      : 1.26.4\n",
      "\n"
     ]
    }
   ],
   "source": [
    "# NBVAL_IGNORE_OUTPUT\n",
    "%load_ext watermark\n",
    "import qutip\n",
    "import numpy as np\n",
    "import scipy\n",
    "import matplotlib\n",
    "import matplotlib.pylab as plt\n",
    "import krotov\n",
    "from IPython.display import display\n",
    "import weylchamber as wc\n",
    "from weylchamber.visualize import WeylChamber\n",
    "from weylchamber.coordinates import from_magic\n",
    "\n",
    "%watermark -v --iversions"
   ]
  },
  {
   "cell_type": "markdown",
   "metadata": {},
   "source": [
    "$\\newcommand{tr}[0]{\\operatorname{tr}}\n",
    "\\newcommand{diag}[0]{\\operatorname{diag}}\n",
    "\\newcommand{abs}[0]{\\operatorname{abs}}\n",
    "\\newcommand{pop}[0]{\\operatorname{pop}}\n",
    "\\newcommand{aux}[0]{\\text{aux}}\n",
    "\\newcommand{opt}[0]{\\text{opt}}\n",
    "\\newcommand{tgt}[0]{\\text{tgt}}\n",
    "\\newcommand{init}[0]{\\text{init}}\n",
    "\\newcommand{lab}[0]{\\text{lab}}\n",
    "\\newcommand{rwa}[0]{\\text{rwa}}\n",
    "\\newcommand{bra}[1]{\\langle#1\\vert}\n",
    "\\newcommand{ket}[1]{\\vert#1\\rangle}\n",
    "\\newcommand{Bra}[1]{\\left\\langle#1\\right\\vert}\n",
    "\\newcommand{Ket}[1]{\\left\\vert#1\\right\\rangle}\n",
    "\\newcommand{Braket}[2]{\\left\\langle #1\\vphantom{#2} \\mid\n",
    "#2\\vphantom{#1}\\right\\rangle}\n",
    "\\newcommand{op}[1]{\\hat{#1}}\n",
    "\\newcommand{Op}[1]{\\hat{#1}}\n",
    "\\newcommand{dd}[0]{\\,\\text{d}}\n",
    "\\newcommand{Liouville}[0]{\\mathcal{L}}\n",
    "\\newcommand{DynMap}[0]{\\mathcal{E}}\n",
    "\\newcommand{identity}[0]{\\mathbf{1}}\n",
    "\\newcommand{Norm}[1]{\\lVert#1\\rVert}\n",
    "\\newcommand{Abs}[1]{\\left\\vert#1\\right\\vert}\n",
    "\\newcommand{avg}[1]{\\langle#1\\rangle}\n",
    "\\newcommand{Avg}[1]{\\left\\langle#1\\right\\rangle}\n",
    "\\newcommand{AbsSq}[1]{\\left\\vert#1\\right\\vert^2}\n",
    "\\newcommand{Re}[0]{\\operatorname{Re}}\n",
    "\\newcommand{Im}[0]{\\operatorname{Im}}$\n",
    "\n",
    "This example demonstrates the optimization with an \"unconventional\"\n",
    "optimization target. Instead of a state-to-state transition, or the realization\n",
    "of a specific quantum gate, we optimize for an arbitrary perfectly entangling\n",
    "gate. See\n",
    "\n",
    "* P. Watts, et al., Phys. Rev. A 91, 062306 (2015)\n",
    "\n",
    "* M. H. Goerz, et al., Phys. Rev. A 91, 062307 (2015)\n",
    "\n",
    "for details."
   ]
  },
  {
   "cell_type": "markdown",
   "metadata": {},
   "source": [
    "## Hamiltonian"
   ]
  },
  {
   "cell_type": "markdown",
   "metadata": {},
   "source": [
    "We consider a generic two-qubit Hamiltonian (motivated from the example of two\n",
    "superconducting transmon qubits, truncated to the logical subspace),\n",
    "\n",
    "$$\n",
    "\\begin{equation}\n",
    "  \\op{H}(t)\n",
    "    = - \\frac{\\omega_1}{2} \\op{\\sigma}_{z}^{(1)}\n",
    "      - \\frac{\\omega_2}{2} \\op{\\sigma}_{z}^{(2)}\n",
    "      + 2 J \\left(\n",
    "            \\op{\\sigma}_{x}^{(1)} \\op{\\sigma}_{x}^{(2)}\n",
    "            + \\op{\\sigma}_{y}^{(1)} \\op{\\sigma}_{y}^{(2)}\n",
    "        \\right)\n",
    "      + u(t) \\left(\n",
    "            \\op{\\sigma}_{x}^{(1)} + \\lambda \\op{\\sigma}_{x}^{(2)}\n",
    "        \\right),\n",
    "\\end{equation}\n",
    "$$\n",
    "\n",
    "where $\\omega_1$ and $\\omega_2$ are the energy level splitting of the\n",
    "respective qubit, $J$ is the effective coupling strength and $u(t)$ is the\n",
    "control field. $\\lambda$ defines the strength of the qubit-control coupling for\n",
    "qubit 2, relative to qubit 1.\n",
    "\n",
    "We use the following parameters:"
   ]
  },
  {
   "cell_type": "code",
   "execution_count": 2,
   "metadata": {
    "execution": {
     "iopub.execute_input": "2024-06-03T14:32:25.759869Z",
     "iopub.status.busy": "2024-06-03T14:32:25.759602Z",
     "iopub.status.idle": "2024-06-03T14:32:25.761728Z",
     "shell.execute_reply": "2024-06-03T14:32:25.761475Z"
    }
   },
   "outputs": [],
   "source": [
    "w1 = 1.1  # qubit 1 level splitting\n",
    "w2 = 2.1  # qubit 2 level splitting\n",
    "J = 0.2  # effective qubit coupling\n",
    "u0 = 0.3  # initial driving strength\n",
    "la = 1.1  # relative pulse coupling strength of second qubit\n",
    "T = 25.0  # final time\n",
    "nt = 250  # number of time steps\n",
    "\n",
    "tlist = np.linspace(0, T, nt)"
   ]
  },
  {
   "cell_type": "markdown",
   "metadata": {},
   "source": [
    "These are for illustrative purposes only, and do not correspond to any\n",
    "particular physical system."
   ]
  },
  {
   "cell_type": "markdown",
   "metadata": {
    "lines_to_next_cell": 2
   },
   "source": [
    "The initial guess is defined as\n",
    "\n",
    "\n",
    "\n",
    "\n"
   ]
  },
  {
   "cell_type": "code",
   "execution_count": 3,
   "metadata": {
    "execution": {
     "iopub.execute_input": "2024-06-03T14:32:25.763170Z",
     "iopub.status.busy": "2024-06-03T14:32:25.763069Z",
     "iopub.status.idle": "2024-06-03T14:32:25.764762Z",
     "shell.execute_reply": "2024-06-03T14:32:25.764550Z"
    }
   },
   "outputs": [],
   "source": [
    "def eps0(t, args):\n",
    "    return u0 * krotov.shapes.flattop(\n",
    "        t, t_start=0, t_stop=T, t_rise=(T / 20), t_fall=(T / 20), func='sinsq'\n",
    "    )"
   ]
  },
  {
   "cell_type": "code",
   "execution_count": 4,
   "metadata": {
    "attributes": {
     "classes": [],
     "id": "",
     "n": "10"
    },
    "execution": {
     "iopub.execute_input": "2024-06-03T14:32:25.766044Z",
     "iopub.status.busy": "2024-06-03T14:32:25.765962Z",
     "iopub.status.idle": "2024-06-03T14:32:25.767977Z",
     "shell.execute_reply": "2024-06-03T14:32:25.767752Z"
    },
    "lines_to_next_cell": 2
   },
   "outputs": [],
   "source": [
    "def plot_pulse(pulse, tlist):\n",
    "    fig, ax = plt.subplots()\n",
    "    if callable(pulse):\n",
    "        pulse = np.array([pulse(t, args=None) for t in tlist])\n",
    "    ax.plot(tlist, pulse)\n",
    "    ax.set_xlabel('time')\n",
    "    ax.set_ylabel('pulse amplitude')\n",
    "    plt.show(fig)"
   ]
  },
  {
   "cell_type": "code",
   "execution_count": 5,
   "metadata": {
    "execution": {
     "iopub.execute_input": "2024-06-03T14:32:25.769336Z",
     "iopub.status.busy": "2024-06-03T14:32:25.769220Z",
     "iopub.status.idle": "2024-06-03T14:32:25.846777Z",
     "shell.execute_reply": "2024-06-03T14:32:25.845740Z"
    }
   },
   "outputs": [
    {
     "data": {
      "image/png": "[encoded data removed]",
      "text/plain": [
       "<Figure size 640x480 with 1 Axes>"
      ]
     },
     "metadata": {},
     "output_type": "display_data"
    }
   ],
   "source": [
    "plot_pulse(eps0, tlist)"
   ]
  },
  {
   "cell_type": "markdown",
   "metadata": {},
   "source": [
    "We instantiate the Hamiltonian with this guess pulse"
   ]
  },
  {
   "cell_type": "code",
   "execution_count": 6,
   "metadata": {
    "execution": {
     "iopub.execute_input": "2024-06-03T14:32:25.856159Z",
     "iopub.status.busy": "2024-06-03T14:32:25.855355Z",
     "iopub.status.idle": "2024-06-03T14:32:25.870140Z",
     "shell.execute_reply": "2024-06-03T14:32:25.869001Z"
    }
   },
   "outputs": [],
   "source": [
    "def hamiltonian(w1=w1, w2=w2, J=J, la=la, u0=u0):\n",
    "    \"\"\"Two qubit Hamiltonian\n",
    "\n",
    "    Args:\n",
    "        w1 (float): energy separation of the first qubit levels\n",
    "        w2 (float): energy separation of the second qubit levels\n",
    "        J (float): effective coupling between both qubits\n",
    "        la (float): factor that pulse coupling strength differs for second qubit\n",
    "        u0 (float): constant amplitude of the driving field\n",
    "    \"\"\"\n",
    "    # local qubit Hamiltonians\n",
    "    Hq1 = 0.5 * w1 * np.diag([-1, 1])\n",
    "    Hq2 = 0.5 * w2 * np.diag([-1, 1])\n",
    "\n",
    "    # lift Hamiltonians to joint system operators\n",
    "    H0 = np.kron(Hq1, np.identity(2)) + np.kron(np.identity(2), Hq2)\n",
    "\n",
    "    # define the interaction Hamiltonian\n",
    "    sig_x = np.array([[0, 1], [1, 0]])\n",
    "    sig_y = np.array([[0, -1j], [1j, 0]])\n",
    "    Hint = 2 * J * (np.kron(sig_x, sig_x) + np.kron(sig_y, sig_y))\n",
    "    H0 = H0 + Hint\n",
    "\n",
    "    # define the drive Hamiltonian\n",
    "    H1 = np.kron(np.array([[0, 1], [1, 0]]), np.identity(2)) + la * np.kron(\n",
    "        np.identity(2), np.array([[0, 1], [1, 0]])\n",
    "    )\n",
    "\n",
    "    # convert Hamiltonians to QuTiP objects\n",
    "    H0 = qutip.Qobj(H0)\n",
    "    H1 = qutip.Qobj(H1)\n",
    "\n",
    "    return [H0, [H1, eps0]]\n",
    "\n",
    "\n",
    "H = hamiltonian(w1=w1, w2=w2, J=J, la=la, u0=u0)"
   ]
  },
  {
   "cell_type": "markdown",
   "metadata": {},
   "source": [
    "As well as the canonical two-qubit logical basis,"
   ]
  },
  {
   "cell_type": "code",
   "execution_count": 7,
   "metadata": {
    "execution": {
     "iopub.execute_input": "2024-06-03T14:32:25.880759Z",
     "iopub.status.busy": "2024-06-03T14:32:25.880069Z",
     "iopub.status.idle": "2024-06-03T14:32:25.888306Z",
     "shell.execute_reply": "2024-06-03T14:32:25.887598Z"
    }
   },
   "outputs": [],
   "source": [
    "psi_00 = qutip.Qobj(np.kron(np.array([1, 0]), np.array([1, 0])))\n",
    "psi_01 = qutip.Qobj(np.kron(np.array([1, 0]), np.array([0, 1])))\n",
    "psi_10 = qutip.Qobj(np.kron(np.array([0, 1]), np.array([1, 0])))\n",
    "psi_11 = qutip.Qobj(np.kron(np.array([0, 1]), np.array([0, 1])))"
   ]
  },
  {
   "cell_type": "markdown",
   "metadata": {},
   "source": [
    "with the corresponding projectors to calculate population dynamics below."
   ]
  },
  {
   "cell_type": "code",
   "execution_count": 8,
   "metadata": {
    "execution": {
     "iopub.execute_input": "2024-06-03T14:32:25.895949Z",
     "iopub.status.busy": "2024-06-03T14:32:25.895424Z",
     "iopub.status.idle": "2024-06-03T14:32:25.902649Z",
     "shell.execute_reply": "2024-06-03T14:32:25.901109Z"
    }
   },
   "outputs": [],
   "source": [
    "proj_00 = qutip.ket2dm(psi_00)\n",
    "proj_01 = qutip.ket2dm(psi_01)\n",
    "proj_10 = qutip.ket2dm(psi_10)\n",
    "proj_11 = qutip.ket2dm(psi_11)"
   ]
  },
  {
   "cell_type": "markdown",
   "metadata": {},
   "source": [
    "## Objectives for a perfect entangler"
   ]
  },
  {
   "cell_type": "markdown",
   "metadata": {},
   "source": [
    "Our optimization target is the closest perfectly entangling gate, quantified by\n",
    "the perfect-entangler functional\n",
    "\n",
    "$$\n",
    "\\begin{equation}\n",
    "  F_{PE} = g_3 \\sqrt{g_1^2 + g_2^2} - g_1,\n",
    "\\end{equation}\n",
    "$$\n",
    "\n",
    "where $g_1, g_2, g_3$ are the local invariants of the implemented gate that\n",
    "uniquely identify its non-local content. The local invariants are closely\n",
    "related to the Weyl coordinates $c_1, c_2, c_3$, which provide a useful\n",
    "geometric visualization in the Weyl chamber. The perfectly entangling gates lie\n",
    "within a polyhedron in the Weyl chamber and $F_{PE}$ becomes zero at its\n",
    "boundaries. We define $F_{PE} \\equiv 0$ for *all* perfect entanglers (inside\n",
    "the polyhedron)\n",
    "\n",
    "A list of four objectives that encode the minimization of $F_{PE}$ are\n",
    "generated by calling the `gate_objectives` function with the canonical basis,\n",
    "and `\"PE\"` as target \"gate\"."
   ]
  },
  {
   "cell_type": "code",
   "execution_count": 9,
   "metadata": {
    "execution": {
     "iopub.execute_input": "2024-06-03T14:32:25.911504Z",
     "iopub.status.busy": "2024-06-03T14:32:25.911124Z",
     "iopub.status.idle": "2024-06-03T14:32:25.927263Z",
     "shell.execute_reply": "2024-06-03T14:32:25.920852Z"
    }
   },
   "outputs": [],
   "source": [
    "objectives = krotov.gate_objectives(\n",
    "    basis_states=[psi_00, psi_01, psi_10, psi_11], gate=\"PE\", H=H\n",
    ")"
   ]
  },
  {
   "cell_type": "code",
   "execution_count": 10,
   "metadata": {
    "execution": {
     "iopub.execute_input": "2024-06-03T14:32:25.936431Z",
     "iopub.status.busy": "2024-06-03T14:32:25.934388Z",
     "iopub.status.idle": "2024-06-03T14:32:25.949888Z",
     "shell.execute_reply": "2024-06-03T14:32:25.949033Z"
    }
   },
   "outputs": [
    {
     "data": {
      "text/plain": [
       "[Objective[|Ψ₀(4)⟩ to PE via [H₀[4,4], [H₁[4,4], u₁(t)]]],\n",
       " Objective[|Ψ₁(4)⟩ to PE via [H₀[4,4], [H₁[4,4], u₁(t)]]],\n",
       " Objective[|Ψ₂(4)⟩ to PE via [H₀[4,4], [H₁[4,4], u₁(t)]]],\n",
       " Objective[|Ψ₃(4)⟩ to PE via [H₀[4,4], [H₁[4,4], u₁(t)]]]]"
      ]
     },
     "execution_count": 10,
     "metadata": {},
     "output_type": "execute_result"
    }
   ],
   "source": [
    "objectives"
   ]
  },
  {
   "cell_type": "markdown",
   "metadata": {},
   "source": [
    "The initial states in these objectives are not the canonical basis states, but a Bell\n",
    "basis,"
   ]
  },
  {
   "cell_type": "code",
   "execution_count": 11,
   "metadata": {
    "execution": {
     "iopub.execute_input": "2024-06-03T14:32:25.957180Z",
     "iopub.status.busy": "2024-06-03T14:32:25.956511Z",
     "iopub.status.idle": "2024-06-03T14:32:25.984752Z",
     "shell.execute_reply": "2024-06-03T14:32:25.983508Z"
    }
   },
   "outputs": [
    {
     "data": {
      "text/latex": [
       "Quantum object: dims = [[4], [1]], shape = (4, 1), type = ket $ \\\\ \\left(\\begin{matrix}0.707\\\\0.0\\\\0.0\\\\0.707\\\\\\end{matrix}\\right)$"
      ],
      "text/plain": [
       "Quantum object: dims = [[4], [1]], shape = (4, 1), type = ket\n",
       "Qobj data =\n",
       "[[0.70710678]\n",
       " [0.        ]\n",
       " [0.        ]\n",
       " [0.70710678]]"
      ]
     },
     "metadata": {},
     "output_type": "display_data"
    },
    {
     "data": {
      "text/latex": [
       "Quantum object: dims = [[4], [1]], shape = (4, 1), type = ket $ \\\\ \\left(\\begin{matrix}0.0\\\\0.707j\\\\0.707j\\\\0.0\\\\\\end{matrix}\\right)$"
      ],
      "text/plain": [
       "Quantum object: dims = [[4], [1]], shape = (4, 1), type = ket\n",
       "Qobj data =\n",
       "[[0.+0.j        ]\n",
       " [0.+0.70710678j]\n",
       " [0.+0.70710678j]\n",
       " [0.+0.j        ]]"
      ]
     },
     "metadata": {},
     "output_type": "display_data"
    },
    {
     "data": {
      "text/latex": [
       "Quantum object: dims = [[4], [1]], shape = (4, 1), type = ket $ \\\\ \\left(\\begin{matrix}0.0\\\\0.707\\\\-0.707\\\\0.0\\\\\\end{matrix}\\right)$"
      ],
      "text/plain": [
       "Quantum object: dims = [[4], [1]], shape = (4, 1), type = ket\n",
       "Qobj data =\n",
       "[[ 0.        ]\n",
       " [ 0.70710678]\n",
       " [-0.70710678]\n",
       " [ 0.        ]]"
      ]
     },
     "metadata": {},
     "output_type": "display_data"
    },
    {
     "data": {
      "text/latex": [
       "Quantum object: dims = [[4], [1]], shape = (4, 1), type = ket $ \\\\ \\left(\\begin{matrix}0.707j\\\\0.0\\\\0.0\\\\-0.707j\\\\\\end{matrix}\\right)$"
      ],
      "text/plain": [
       "Quantum object: dims = [[4], [1]], shape = (4, 1), type = ket\n",
       "Qobj data =\n",
       "[[0.+0.70710678j]\n",
       " [0.+0.j        ]\n",
       " [0.+0.j        ]\n",
       " [0.-0.70710678j]]"
      ]
     },
     "metadata": {},
     "output_type": "display_data"
    }
   ],
   "source": [
    "# NBVAL_IGNORE_OUTPUT\n",
    "for obj in objectives:\n",
    "    display(obj.initial_state)"
   ]
  },
  {
   "cell_type": "markdown",
   "metadata": {},
   "source": [
    "Since we don't know *which* perfect entangler the optimization result will\n",
    "implement, we cannot associate any \"target state\" with each objective, and the\n",
    "`target` attribute is set to the string 'PE'."
   ]
  },
  {
   "cell_type": "markdown",
   "metadata": {},
   "source": [
    "We can treat the above objectives as a \"black box\"; the only important\n",
    "consideration is that the `chi_constructor` that we will pass to\n",
    "`optimize_pulses` to calculating the boundary condition for the backwards\n",
    "propagation,\n",
    "\n",
    "$$\n",
    "\\begin{equation}\n",
    "  \\ket{\\chi_{k}} = \\frac{\\partial F_{PE}}{\\partial \\bra{\\phi_k}} \\Bigg|_{\\ket{\\phi_{k}(T)}}\\,,\n",
    "\\end{equation}\n",
    "$$\n",
    "\n",
    "must be consistent with how the `objectives` are set up. For the perfect\n",
    "entanglers functional, the calculation of the $\\ket{\\chi_{k}}$ is relatively\n",
    "complicated. The `weylchamber` package\n",
    "(https://github.com/qucontrol/weylchamber) contains a suitable routine that\n",
    "works on the `objectives` exactly as defined above (specifically, under the\n",
    "assumption that the $\\ket{\\phi_k}$ are the appropriate Bell states):"
   ]
  },
  {
   "cell_type": "code",
   "execution_count": 12,
   "metadata": {
    "execution": {
     "iopub.execute_input": "2024-06-03T14:32:25.994382Z",
     "iopub.status.busy": "2024-06-03T14:32:25.993854Z",
     "iopub.status.idle": "2024-06-03T14:32:25.999948Z",
     "shell.execute_reply": "2024-06-03T14:32:25.999317Z"
    }
   },
   "outputs": [
    {
     "name": "stdout",
     "output_type": "stream",
     "text": [
      "Help on function make_PE_krotov_chi_constructor in module weylchamber.perfect_entanglers:\n",
      "\n",
      "make_PE_krotov_chi_constructor(canonical_basis, unitarity_weight=0)\n",
      "    Return a constructor for the χ's in a PE optimization.\n",
      "\n",
      "    Return a `chi_constructor` that determines the boundary condition of the\n",
      "    backwards propagation in an optimization towards a perfect entangler in\n",
      "    Krotov's method, based on the foward-propagtion of the Bell states. In\n",
      "    detail, the function returns a callable function that calculates\n",
      "\n",
      "    .. math::\n",
      "\n",
      "        \\ket{\\chi_{i}}\n",
      "        =\n",
      "        \\frac{\\partial F_{PE}}{\\partial \\bra{\\phi_i}}\n",
      "        \\Bigg|_{\\ket{\\phi_{i}(T)}}\n",
      "\n",
      "    for all $i$ with $\\ket{\\phi_{0}(T)}, ..., \\ket{\\phi_{3}(T)}$ the forward\n",
      "    propagated Bell states at final time $T$, cf. Eq. (33b) in Ref. [1].\n",
      "    $F_{PE}$ is the perfect-entangler functional\n",
      "    :func:`~weylchamber.perfect_entanglers.F_PE`. For the details of the\n",
      "    derivative see Appendix G in Ref. [2].\n",
      "\n",
      "    References:\n",
      "\n",
      "    [1] `M. H. Goerz, et al., Phys. Rev. A 91, 062307 (2015)\n",
      "    <https://doi.org/10.1103/PhysRevA.91.062307>`_\n",
      "\n",
      "    [2] `M. H. Goerz, Optimizing Robust Quantum Gates in Open Quantum Systems.\n",
      "    PhD thesis, University of Kassel, 2015\n",
      "    <https://michaelgoerz.net/research/diss_goerz.pdf>`_\n",
      "\n",
      "    Args:\n",
      "        canonical_basis (list[qutip.Qobj]): A list of four basis states that\n",
      "            define the canonical basis $\\ket{00}$, $\\ket{01}$, $\\ket{10}$, and\n",
      "            $\\ket{11}$ of the logical subspace.\n",
      "        unitarity_weight (float): A weight in [0, 1] that determines how much\n",
      "            emphasis is placed on  maintaining population in the logical\n",
      "            subspace.\n",
      "\n",
      "    Returns:\n",
      "        callable: a function ``chi_constructor(fw_states_T, **kwargs)`` that\n",
      "        receives the result of a foward propagation of the Bell states\n",
      "        (obtained from `canonical_basis` via\n",
      "        :func:`weylchamber.gates.bell_basis`), and returns a list of statex\n",
      "        $\\ket{\\chi_{i}}$ that are the boundary condition for the backward\n",
      "        propagation in Krotov's method. Positional arguments beyond\n",
      "        `fw_states_T` are ignored.\n",
      "\n"
     ]
    }
   ],
   "source": [
    "help(wc.perfect_entanglers.make_PE_krotov_chi_constructor)"
   ]
  },
  {
   "cell_type": "code",
   "execution_count": 13,
   "metadata": {
    "execution": {
     "iopub.execute_input": "2024-06-03T14:32:26.004313Z",
     "iopub.status.busy": "2024-06-03T14:32:26.004148Z",
     "iopub.status.idle": "2024-06-03T14:32:26.014026Z",
     "shell.execute_reply": "2024-06-03T14:32:26.013137Z"
    }
   },
   "outputs": [],
   "source": [
    "chi_constructor = wc.perfect_entanglers.make_PE_krotov_chi_constructor(\n",
    "    [psi_00, psi_01, psi_10, psi_11]\n",
    ")"
   ]
  },
  {
   "cell_type": "markdown",
   "metadata": {},
   "source": [
    "Again, the key point to take from this is that when defining a new or unusual\n",
    "functional, **the `chi_constructor` must be congruent with the way the\n",
    "objectives are defined**. As a user, you can choose whatever definition of\n",
    "objectives and implementation of `chi_constructor` is most suitable, as long\n",
    "they are compatible."
   ]
  },
  {
   "cell_type": "markdown",
   "metadata": {},
   "source": [
    "## Second Order Update Equation"
   ]
  },
  {
   "cell_type": "markdown",
   "metadata": {},
   "source": [
    "As the perfect-entangler functional $F_{PE}$ is non-linear in\n",
    "the states, Krotov's method requires the second-order contribution in\n",
    "order to guarantee monotonic convergence (see D. M. Reich, et al., J. Chem.\n",
    "Phys. 136, 104103 (2012) for details). The second order update equation\n",
    "reads\n",
    "\n",
    "$$\n",
    "\\begin{align}\n",
    "  \\epsilon^{(i+1)}(t)\n",
    "  & =\n",
    "  \\epsilon^{ref}(t) + \\frac{S(t)}{\\lambda_a} \\Im \\Bigg\\{\n",
    "    \\sum_{k=1}^{N}\n",
    "    \\Bigg\\langle\n",
    "      \\chi_k^{(i)}(t)\n",
    "    \\Bigg\\vert\n",
    "    \\left.\\frac{\\partial \\Op{H}}{\\partial \\epsilon}\\right\\vert_{{\\scriptsize \\begin{matrix}\\phi^{(i+1)}(t) \\\\\\epsilon^{(i+1)}(t)\\end{matrix}}}\n",
    "    \\Bigg\\vert\n",
    "    \\phi_k^{(i+1)}(t)\n",
    "    \\Bigg\\rangle\n",
    "    \\\\\n",
    "    & \\qquad +\n",
    "    \\frac{1}{2} \\sigma(t)\n",
    "    \\Bigg\\langle\n",
    "      \\Delta\\phi_k(t)\n",
    "      \\Bigg\\vert\n",
    "              \\left.\\frac{\\partial \\Op{H}}{\\partial \\epsilon}\\right\\vert_{{\\scriptsize \\begin{matrix}\\phi^{(i+1)}(t)\\\\\\epsilon^{(i+1)}(t)\\end{matrix}}}\n",
    "      \\Bigg\\vert\n",
    "      \\phi_k^{(i+1)}(t)\n",
    "     \\Bigg\\rangle\n",
    "  \\Bigg\\}\\,,\n",
    "\\end{align}\n",
    "$$\n",
    "\n",
    "where the term proportional to $\\sigma(t)$ defines the second-order\n",
    "contribution. In order to use the second-order term, we need to pass\n",
    "a function to evaluate this $\\sigma(t)$ as `sigma` to `optimize_pulses`. We use\n",
    "the equation\n",
    "\n",
    "$$\n",
    "\\begin{equation}\n",
    "   \\sigma(t) = -\\max\\left(\\varepsilon_A,2A+\\varepsilon_A\\right)\n",
    "\\end{equation}\n",
    "$$\n",
    "\n",
    "with $\\varepsilon_A$ a small non-negative number, and $A$ a parameter that can\n",
    "be recalculated numerically after each iteration (see D. M. Reich, et al., J.\n",
    "Chem. Phys. 136, 104103 (2012) for details).\n",
    "\n",
    "Generally, $\\sigma(t)$ has parametric dependencies like $A$ in this example,\n",
    "which should be refreshed for each iteration. Thus, since `sigma` holds\n",
    "internal state, it must be implemented as an object subclassing from\n",
    "`krotov.second_order.Sigma`:\n"
   ]
  },
  {
   "cell_type": "code",
   "execution_count": 14,
   "metadata": {
    "execution": {
     "iopub.execute_input": "2024-06-03T14:32:26.018838Z",
     "iopub.status.busy": "2024-06-03T14:32:26.018718Z",
     "iopub.status.idle": "2024-06-03T14:32:26.025022Z",
     "shell.execute_reply": "2024-06-03T14:32:26.024128Z"
    }
   },
   "outputs": [],
   "source": [
    "class sigma(krotov.second_order.Sigma):\n",
    "    def __init__(self, A, epsA=0):\n",
    "        self.A = A\n",
    "        self.epsA = epsA\n",
    "\n",
    "    def __call__(self, t):\n",
    "        ϵ, A = self.epsA, self.A\n",
    "        return -max(ϵ, 2 * A + ϵ)\n",
    "\n",
    "    def refresh(\n",
    "        self,\n",
    "        forward_states,\n",
    "        forward_states0,\n",
    "        chi_states,\n",
    "        chi_norms,\n",
    "        optimized_pulses,\n",
    "        guess_pulses,\n",
    "        objectives,\n",
    "        result,\n",
    "    ):\n",
    "        try:\n",
    "            Delta_J_T = result.info_vals[-1][0] - result.info_vals[-2][0]\n",
    "        except IndexError:  # first iteration\n",
    "            Delta_J_T = 0\n",
    "        self.A = krotov.second_order.numerical_estimate_A(\n",
    "            forward_states, forward_states0, chi_states, chi_norms, Delta_J_T\n",
    "        )"
   ]
  },
  {
   "cell_type": "markdown",
   "metadata": {},
   "source": [
    "This combines the evaluation of the function, `sigma(t)`, with the recalculation of\n",
    "$A$ (or whatever parametrizations another $\\sigma(t)$ function might contain)\n",
    "in `sigma.refresh`, which `optimize_pulses` invokes automatically at the\n",
    "end of each iteration."
   ]
  },
  {
   "cell_type": "markdown",
   "metadata": {},
   "source": [
    "## Optimization"
   ]
  },
  {
   "cell_type": "markdown",
   "metadata": {
    "lines_to_next_cell": 2
   },
   "source": [
    "Before running the optimization, we define the shape function $S(t)$ to\n",
    "maintain the smooth switch-on and switch-off, and the $\\lambda_a$ parameter\n",
    "that determines the overall magnitude of the pulse update in each iteration:\n",
    "\n",
    "\n",
    "\n",
    "\n"
   ]
  },
  {
   "cell_type": "code",
   "execution_count": 15,
   "metadata": {
    "execution": {
     "iopub.execute_input": "2024-06-03T14:32:26.028478Z",
     "iopub.status.busy": "2024-06-03T14:32:26.028369Z",
     "iopub.status.idle": "2024-06-03T14:32:26.032169Z",
     "shell.execute_reply": "2024-06-03T14:32:26.030853Z"
    }
   },
   "outputs": [],
   "source": [
    "def S(t):\n",
    "    \"\"\"Shape function for the field update\"\"\"\n",
    "    return krotov.shapes.flattop(\n",
    "        t, t_start=0, t_stop=T, t_rise=T / 20, t_fall=T / 20, func='sinsq'\n",
    "    )\n",
    "\n",
    "pulse_options = {H[1][1]: dict(lambda_a=1.0e2, update_shape=S)}"
   ]
  },
  {
   "cell_type": "markdown",
   "metadata": {},
   "source": [
    "In previous examples, we have used `info_hook` routines that display and store\n",
    "the value of the functional $J_T$. Here, we will also want to analyze the\n",
    "optimization in terms of the Weyl chamber coordinates $(c_1, c_2, c_3)$. We\n",
    "therefore write a custom `print_fidelity` routine that prints $F_{PE}$ as well\n",
    "as the gate concurrence (as an alternative measure for the entangling power of\n",
    "quantum gates), and results in the storage of a nested tuple `(F_PE, (c1, c2,\n",
    "c3))` for each iteration, in `Result.info_vals`.\n"
   ]
  },
  {
   "cell_type": "code",
   "execution_count": 16,
   "metadata": {
    "execution": {
     "iopub.execute_input": "2024-06-03T14:32:26.036940Z",
     "iopub.status.busy": "2024-06-03T14:32:26.036397Z",
     "iopub.status.idle": "2024-06-03T14:32:26.041896Z",
     "shell.execute_reply": "2024-06-03T14:32:26.040303Z"
    }
   },
   "outputs": [],
   "source": [
    "def print_fidelity(**args):\n",
    "    basis = [objectives[i].initial_state for i in [0, 1, 2, 3]]\n",
    "    states = [args['fw_states_T'][i] for i in [0, 1, 2, 3]]\n",
    "    U = wc.gates.gate(basis, states)\n",
    "    c1, c2, c3 = wc.coordinates.c1c2c3(from_magic(U))\n",
    "    g1, g2, g3 = wc.local_invariants.g1g2g3_from_c1c2c3(c1, c2, c3)\n",
    "    conc = wc.perfect_entanglers.concurrence(c1, c2, c3)\n",
    "    F_PE = wc.perfect_entanglers.F_PE(g1, g2, g3)\n",
    "    print(\"    F_PE: %f\\n    gate conc.: %f\" % (F_PE, conc))\n",
    "    return F_PE, [c1, c2, c3]"
   ]
  },
  {
   "cell_type": "markdown",
   "metadata": {},
   "source": [
    "This structure must be taken into account in a `check_convergence` routine. This would\n",
    "affect routines like `krotov.convergence.value_below` that assume that\n",
    "`Result.info_vals` contains the values of $J_T$ only. Here, we define a check\n",
    "that stops the optimization as soon as we reach a perfect entangler:"
   ]
  },
  {
   "cell_type": "code",
   "execution_count": 17,
   "metadata": {
    "execution": {
     "iopub.execute_input": "2024-06-03T14:32:26.046945Z",
     "iopub.status.busy": "2024-06-03T14:32:26.046817Z",
     "iopub.status.idle": "2024-06-03T14:32:26.051515Z",
     "shell.execute_reply": "2024-06-03T14:32:26.050551Z"
    }
   },
   "outputs": [],
   "source": [
    "def check_PE(result):\n",
    "    # extract F_PE from (F_PE, [c1, c2, c3])\n",
    "    F_PE = result.info_vals[-1][0]\n",
    "    if F_PE <= 0:\n",
    "        return \"achieved perfect entangler\"\n",
    "    else:\n",
    "        return None"
   ]
  },
  {
   "cell_type": "code",
   "execution_count": 18,
   "metadata": {
    "execution": {
     "iopub.execute_input": "2024-06-03T14:32:26.053193Z",
     "iopub.status.busy": "2024-06-03T14:32:26.053110Z",
     "iopub.status.idle": "2024-06-03T14:32:52.474389Z",
     "shell.execute_reply": "2024-06-03T14:32:52.474076Z"
    }
   },
   "outputs": [
    {
     "name": "stdout",
     "output_type": "stream",
     "text": [
      "Iteration 0\n",
      "    objectives:\n",
      "        1:|Ψ₀(4)⟩ to PE via [H₀[4,4], [H₁[4,4], u₁(t)]]\n",
      "        2:|Ψ₁(4)⟩ to PE via [H₀[4,4], [H₁[4,4], u₁(t)]]\n",
      "        3:|Ψ₂(4)⟩ to PE via [H₀[4,4], [H₁[4,4], u₁(t)]]\n",
      "        4:|Ψ₃(4)⟩ to PE via [H₀[4,4], [H₁[4,4], u₁(t)]]\n",
      "    adjoint objectives:\n",
      "        1:⟨Ψ₀(4)| to PE via [H₂[4,4], [H₃[4,4], u₁(t)]]\n",
      "        2:⟨Ψ₁(4)| to PE via [H₄[4,4], [H₅[4,4], u₁(t)]]\n",
      "        3:⟨Ψ₂(4)| to PE via [H₆[4,4], [H₇[4,4], u₁(t)]]\n",
      "        4:⟨Ψ₃(4)| to PE via [H₈[4,4], [H₉[4,4], u₁(t)]]\n",
      "    propagator: expm\n",
      "    chi_constructor: chi_constructor\n",
      "    mu: derivative_wrt_pulse\n",
      "    sigma: sigma\n",
      "    S(t) (ranges): [0.000000, 1.000000]\n",
      "    iter_start: 0\n",
      "    iter_stop: 20\n",
      "    duration: 1.4 secs (started at 2024-06-03 10:32:26)\n",
      "    optimized pulses (ranges): [0.00, 0.30]\n",
      "    ∫gₐ(t)dt: 0.00e+00\n",
      "    λₐ: 1.00e+02\n",
      "    storage (bw, fw, fw0): None, [4 * ndarray(250)] (0.4 MB), [4 * ndarray(250)] (0.4 MB)\n",
      "    fw_states_T norm: 1.000000, 1.000000, 1.000000, 1.000000\n"
     ]
    },
    {
     "name": "stdout",
     "output_type": "stream",
     "text": [
      "    F_PE: 1.447335\n",
      "    gate conc.: 0.479492\n"
     ]
    },
    {
     "name": "stdout",
     "output_type": "stream",
     "text": [
      "Iteration 1\n",
      "    duration: 3.1 secs (started at 2024-06-03 10:32:27)\n",
      "    optimized pulses (ranges): [0.00, 0.32]\n",
      "    ∫gₐ(t)dt: 2.58e-01\n",
      "    λₐ: 1.00e+02\n",
      "    storage (bw, fw, fw0): [4 * ndarray(250)] (0.4 MB), [4 * ndarray(250)] (0.4 MB), [4 * ndarray(250)] (0.4 MB)\n",
      "    fw_states_T norm: 1.000000, 1.000000, 1.000000, 1.000000\n"
     ]
    },
    {
     "name": "stdout",
     "output_type": "stream",
     "text": [
      "    F_PE: 0.998102\n",
      "    gate conc.: 0.645579\n"
     ]
    },
    {
     "name": "stdout",
     "output_type": "stream",
     "text": [
      "Iteration 2\n",
      "    duration: 3.2 secs (started at 2024-06-03 10:32:30)\n",
      "    optimized pulses (ranges): [0.00, 0.34]\n",
      "    ∫gₐ(t)dt: 2.20e-01\n",
      "    λₐ: 1.00e+02\n",
      "    storage (bw, fw, fw0): [4 * ndarray(250)] (0.4 MB), [4 * ndarray(250)] (0.4 MB), [4 * ndarray(250)] (0.4 MB)\n",
      "    fw_states_T norm: 1.000000, 1.000000, 1.000000, 1.000000\n"
     ]
    },
    {
     "name": "stdout",
     "output_type": "stream",
     "text": [
      "    F_PE: 0.582566\n",
      "    gate conc.: 0.784635\n"
     ]
    },
    {
     "name": "stdout",
     "output_type": "stream",
     "text": [
      "Iteration 3\n",
      "    duration: 3.1 secs (started at 2024-06-03 10:32:33)\n",
      "    optimized pulses (ranges): [0.00, 0.35]\n",
      "    ∫gₐ(t)dt: 1.46e-01\n",
      "    λₐ: 1.00e+02\n",
      "    storage (bw, fw, fw0): [4 * ndarray(250)] (0.4 MB), [4 * ndarray(250)] (0.4 MB), [4 * ndarray(250)] (0.4 MB)\n",
      "    fw_states_T norm: 1.000000, 1.000000, 1.000000, 1.000000\n"
     ]
    },
    {
     "name": "stdout",
     "output_type": "stream",
     "text": [
      "    F_PE: 0.304191\n",
      "    gate conc.: 0.892999\n"
     ]
    },
    {
     "name": "stdout",
     "output_type": "stream",
     "text": [
      "Iteration 4\n",
      "    duration: 3.1 secs (started at 2024-06-03 10:32:36)\n",
      "    optimized pulses (ranges): [0.00, 0.37]\n",
      "    ∫gₐ(t)dt: 7.72e-02\n",
      "    λₐ: 1.00e+02\n",
      "    storage (bw, fw, fw0): [4 * ndarray(250)] (0.4 MB), [4 * ndarray(250)] (0.4 MB), [4 * ndarray(250)] (0.4 MB)\n",
      "    fw_states_T norm: 1.000000, 1.000000, 1.000000, 1.000000\n"
     ]
    },
    {
     "name": "stdout",
     "output_type": "stream",
     "text": [
      "    F_PE: 0.153498\n",
      "    gate conc.: 0.951891\n"
     ]
    },
    {
     "name": "stdout",
     "output_type": "stream",
     "text": [
      "Iteration 5\n",
      "    duration: 3.1 secs (started at 2024-06-03 10:32:39)\n",
      "    optimized pulses (ranges): [0.00, 0.37]\n",
      "    ∫gₐ(t)dt: 3.88e-02\n",
      "    λₐ: 1.00e+02\n",
      "    storage (bw, fw, fw0): [4 * ndarray(250)] (0.4 MB), [4 * ndarray(250)] (0.4 MB), [4 * ndarray(250)] (0.4 MB)\n",
      "    fw_states_T norm: 1.000000, 1.000000, 1.000000, 1.000000\n"
     ]
    },
    {
     "name": "stdout",
     "output_type": "stream",
     "text": [
      "    F_PE: 0.076100\n",
      "    gate conc.: 0.980700\n"
     ]
    },
    {
     "name": "stdout",
     "output_type": "stream",
     "text": [
      "Iteration 6\n",
      "    duration: 3.1 secs (started at 2024-06-03 10:32:43)\n",
      "    optimized pulses (ranges): [0.00, 0.38]\n",
      "    ∫gₐ(t)dt: 2.03e-02\n",
      "    λₐ: 1.00e+02\n",
      "    storage (bw, fw, fw0): [4 * ndarray(250)] (0.4 MB), [4 * ndarray(250)] (0.4 MB), [4 * ndarray(250)] (0.4 MB)\n",
      "    fw_states_T norm: 1.000000, 1.000000, 1.000000, 1.000000\n"
     ]
    },
    {
     "name": "stdout",
     "output_type": "stream",
     "text": [
      "    F_PE: 0.035062\n",
      "    gate conc.: 0.993840\n"
     ]
    },
    {
     "name": "stdout",
     "output_type": "stream",
     "text": [
      "Iteration 7\n",
      "    duration: 3.1 secs (started at 2024-06-03 10:32:46)\n",
      "    optimized pulses (ranges): [0.00, 0.39]\n",
      "    ∫gₐ(t)dt: 1.13e-02\n",
      "    λₐ: 1.00e+02\n",
      "    storage (bw, fw, fw0): [4 * ndarray(250)] (0.4 MB), [4 * ndarray(250)] (0.4 MB), [4 * ndarray(250)] (0.4 MB)\n",
      "    fw_states_T norm: 1.000000, 1.000000, 1.000000, 1.000000\n"
     ]
    },
    {
     "name": "stdout",
     "output_type": "stream",
     "text": [
      "    F_PE: 0.012118\n",
      "    gate conc.: 0.998971\n"
     ]
    },
    {
     "name": "stdout",
     "output_type": "stream",
     "text": [
      "Iteration 8\n",
      "    duration: 3.1 secs (started at 2024-06-03 10:32:49)\n",
      "    optimized pulses (ranges): [0.00, 0.39]\n",
      "    ∫gₐ(t)dt: 6.68e-03\n",
      "    λₐ: 1.00e+02\n",
      "    storage (bw, fw, fw0): [4 * ndarray(250)] (0.4 MB), [4 * ndarray(250)] (0.4 MB), [4 * ndarray(250)] (0.4 MB)\n",
      "    fw_states_T norm: 1.000000, 1.000000, 1.000000, 1.000000\n"
     ]
    },
    {
     "name": "stdout",
     "output_type": "stream",
     "text": [
      "    F_PE: -0.001422\n",
      "    gate conc.: 1.000000\n"
     ]
    }
   ],
   "source": [
    "opt_result = krotov.optimize_pulses(\n",
    "    objectives,\n",
    "    pulse_options=pulse_options,\n",
    "    tlist=tlist,\n",
    "    propagator=krotov.propagators.expm,\n",
    "    chi_constructor=chi_constructor,\n",
    "    info_hook=krotov.info_hooks.chain(\n",
    "        krotov.info_hooks.print_debug_information, print_fidelity\n",
    "    ),\n",
    "    check_convergence=check_PE,\n",
    "    sigma=sigma(A=0.0),\n",
    "    iter_stop=20,\n",
    ")"
   ]
  },
  {
   "cell_type": "code",
   "execution_count": 19,
   "metadata": {
    "execution": {
     "iopub.execute_input": "2024-06-03T14:32:52.475866Z",
     "iopub.status.busy": "2024-06-03T14:32:52.475776Z",
     "iopub.status.idle": "2024-06-03T14:32:52.478006Z",
     "shell.execute_reply": "2024-06-03T14:32:52.477763Z"
    }
   },
   "outputs": [
    {
     "data": {
      "text/plain": [
       "Krotov Optimization Result\n",
       "--------------------------\n",
       "- Started at 2024-06-03 10:32:26\n",
       "- Number of objectives: 4\n",
       "- Number of iterations: 8\n",
       "- Reason for termination: Reached convergence: achieved perfect entangler\n",
       "- Ended at 2024-06-03 10:32:52 (0:00:26)"
      ]
     },
     "execution_count": 19,
     "metadata": {},
     "output_type": "execute_result"
    }
   ],
   "source": [
    "opt_result"
   ]
  },
  {
   "cell_type": "markdown",
   "metadata": {},
   "source": [
    "We can visualize how each iteration of the optimization brings the dynamics\n",
    "closer to the polyhedron of perfect entanglers (using the Weyl chamber\n",
    "coordinates that we calculated in the `info_hook` routine `print_fidelity`, and\n",
    "that were stored in `Result.info_vals`)."
   ]
  },
  {
   "cell_type": "code",
   "execution_count": 20,
   "metadata": {
    "execution": {
     "iopub.execute_input": "2024-06-03T14:32:52.479449Z",
     "iopub.status.busy": "2024-06-03T14:32:52.479366Z",
     "iopub.status.idle": "2024-06-03T14:32:52.652610Z",
     "shell.execute_reply": "2024-06-03T14:32:52.652339Z"
    }
   },
   "outputs": [
    {
     "data": {
      "image/png": "[encoded data removed]",
      "text/plain": [
       "<Figure size 1003.94x708.661 with 1 Axes>"
      ]
     },
     "metadata": {},
     "output_type": "display_data"
    }
   ],
   "source": [
    "w = WeylChamber()\n",
    "c1c2c3 = [opt_result.info_vals[i][1] for i in range(len(opt_result.iters))]\n",
    "for i in range(len(opt_result.iters)):\n",
    "    w.add_point(c1c2c3[i][0], c1c2c3[i][1], c1c2c3[i][2])\n",
    "w.plot()"
   ]
  },
  {
   "cell_type": "markdown",
   "metadata": {},
   "source": [
    "The final optimized control field looks like this:"
   ]
  },
  {
   "cell_type": "code",
   "execution_count": 21,
   "metadata": {
    "attributes": {
     "classes": [],
     "id": "",
     "n": "17"
    },
    "execution": {
     "iopub.execute_input": "2024-06-03T14:32:52.654203Z",
     "iopub.status.busy": "2024-06-03T14:32:52.654108Z",
     "iopub.status.idle": "2024-06-03T14:32:52.716145Z",
     "shell.execute_reply": "2024-06-03T14:32:52.715845Z"
    }
   },
   "outputs": [
    {
     "data": {
      "image/png": "[encoded data removed]",
      "text/plain": [
       "<Figure size 640x480 with 1 Axes>"
      ]
     },
     "metadata": {},
     "output_type": "display_data"
    }
   ],
   "source": [
    "plot_pulse(opt_result.optimized_controls[0], tlist)"
   ]
  }
 ],
 "metadata": {
  "hide_input": false,
  "jupytext": {
   "formats": ""
  },
  "kernelspec": {
   "display_name": "Python 3 (ipykernel)",
   "language": "python",
   "name": "python3"
  },
  "language_info": {
   "codemirror_mode": {
    "name": "ipython",
    "version": 3
   },
   "file_extension": ".py",
   "mimetype": "text/x-python",
   "name": "python",
   "nbconvert_exporter": "python",
   "pygments_lexer": "ipython3",
   "version": "3.12.0"
  },
  "toc": {
   "base_numbering": 1,
   "nav_menu": {},
   "number_sections": true,
   "sideBar": true,
   "skip_h1_title": false,
   "title_cell": "Table of Contents",
   "title_sidebar": "Contents",
   "toc_cell": false,
   "toc_position": {},
   "toc_section_display": true,
   "toc_window_display": false
  },
  "varInspector": {
   "cols": {
    "lenName": 16,
    "lenType": 16,
    "lenVar": 40
   },
   "kernels_config": {
    "python": {
     "delete_cmd_postfix": "",
     "delete_cmd_prefix": "del ",
     "library": "var_list.py",
     "varRefreshCmd": "print(var_dic_list())"
    },
    "r": {
     "delete_cmd_postfix": ") ",
     "delete_cmd_prefix": "rm(",
     "library": "var_list.r",
     "varRefreshCmd": "cat(var_dic_list()) "
    }
   },
   "types_to_exclude": [
    "module",
    "function",
    "builtin_function_or_method",
    "instance",
    "_Feature"
   ],
   "window_display": false
  }
 },
 "nbformat": 4,
 "nbformat_minor": 4
}
